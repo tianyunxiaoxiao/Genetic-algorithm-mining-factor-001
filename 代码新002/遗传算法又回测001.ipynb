{
 "cells": [
  {
   "cell_type": "code",
   "execution_count": 1,
   "metadata": {},
   "outputs": [
    {
     "name": "stdout",
     "output_type": "stream",
     "text": [
      "Requirement already satisfied: pyarrow in /Users/zhangrui/opt/anaconda3/envs/suishi/lib/python3.8/site-packages (17.0.0)\n",
      "Requirement already satisfied: numpy>=1.16.6 in /Users/zhangrui/opt/anaconda3/envs/suishi/lib/python3.8/site-packages (from pyarrow) (1.24.3)\n"
     ]
    }
   ],
   "source": [
    "!pip install pyarrow"
   ]
  },
  {
   "cell_type": "code",
   "execution_count": 2,
   "metadata": {},
   "outputs": [
    {
     "name": "stdout",
     "output_type": "stream",
     "text": [
      "数据已成功保存为 CSV 文件：/Users/zhangrui/Desktop/gaBasic.csv\n"
     ]
    }
   ],
   "source": [
    "import pandas as pd\n",
    "\n",
    "# 读取 Feather 文件\n",
    "file_path = '/Users/zhangrui/Desktop/gaBasic.feather'  # 替换为你的文件路径\n",
    "data = pd.read_feather(file_path)\n",
    "\n",
    "# 将数据保存为 CSV 文件\n",
    "csv_file_path = '/Users/zhangrui/Desktop/gaBasic.csv'  # 替换为你想保存的路径\n",
    "data.to_csv(csv_file_path, index=False)\n",
    "\n",
    "print(f\"数据已成功保存为 CSV 文件：{csv_file_path}\")"
   ]
  },
  {
   "cell_type": "code",
   "execution_count": 3,
   "metadata": {},
   "outputs": [],
   "source": [
    "import pandas as pd\n",
    "import numpy as np"
   ]
  },
  {
   "cell_type": "code",
   "execution_count": 4,
   "metadata": {},
   "outputs": [
    {
     "name": "stdout",
     "output_type": "stream",
     "text": [
      "File loaded successfully.\n"
     ]
    }
   ],
   "source": [
    "import pandas as pd\n",
    "\n",
    "# 检查并输入正确的文件路径\n",
    "file_path = '/Users/zhangrui/Desktop/gaBasic.csv'  # 修改为正确的文件路径\n",
    "\n",
    "try:\n",
    "    merged_data = pd.read_csv(file_path)\n",
    "    print(\"File loaded successfully.\")\n",
    "except FileNotFoundError as e:\n",
    "    print(f\"File not found: {e}\")"
   ]
  },
  {
   "cell_type": "code",
   "execution_count": 5,
   "metadata": {},
   "outputs": [
    {
     "data": {
      "text/html": [
       "<div>\n",
       "<style scoped>\n",
       "    .dataframe tbody tr th:only-of-type {\n",
       "        vertical-align: middle;\n",
       "    }\n",
       "\n",
       "    .dataframe tbody tr th {\n",
       "        vertical-align: top;\n",
       "    }\n",
       "\n",
       "    .dataframe thead th {\n",
       "        text-align: right;\n",
       "    }\n",
       "</style>\n",
       "<table border=\"1\" class=\"dataframe\">\n",
       "  <thead>\n",
       "    <tr style=\"text-align: right;\">\n",
       "      <th></th>\n",
       "      <th>net_profit_to_total_operate_revenue_ttm</th>\n",
       "      <th>cfo_to_ev</th>\n",
       "      <th>accounts_payable_turnover_days</th>\n",
       "      <th>net_profit_ratio</th>\n",
       "      <th>net_non_operating_income_to_total_profit</th>\n",
       "      <th>fixed_asset_ratio</th>\n",
       "      <th>account_receivable_turnover_days</th>\n",
       "      <th>DEGM</th>\n",
       "      <th>sale_expense_to_operating_revenue</th>\n",
       "      <th>operating_tax_to_operating_revenue_ratio_ttm</th>\n",
       "      <th>...</th>\n",
       "      <th>operating_profit_to_total_profit</th>\n",
       "      <th>roa_ttm</th>\n",
       "      <th>admin_expense_rate</th>\n",
       "      <th>equity_to_fixed_asset_ratio</th>\n",
       "      <th>net_operate_cash_flow_to_total_liability</th>\n",
       "      <th>cash_rate_of_sales</th>\n",
       "      <th>goods_service_cash_to_operating_revenue_ttm</th>\n",
       "      <th>date</th>\n",
       "      <th>stkcd</th>\n",
       "      <th>flag</th>\n",
       "    </tr>\n",
       "  </thead>\n",
       "  <tbody>\n",
       "    <tr>\n",
       "      <th>0</th>\n",
       "      <td>0.210383</td>\n",
       "      <td>0.010993</td>\n",
       "      <td>NaN</td>\n",
       "      <td>0.210383</td>\n",
       "      <td>0.045073</td>\n",
       "      <td>0.002855</td>\n",
       "      <td>NaN</td>\n",
       "      <td>NaN</td>\n",
       "      <td>NaN</td>\n",
       "      <td>0.009428</td>\n",
       "      <td>...</td>\n",
       "      <td>1.000280</td>\n",
       "      <td>0.007547</td>\n",
       "      <td>0.301534</td>\n",
       "      <td>27.21010</td>\n",
       "      <td>0.016975</td>\n",
       "      <td>0.289204</td>\n",
       "      <td>NaN</td>\n",
       "      <td>2019-12-31</td>\n",
       "      <td>000001.XSHE</td>\n",
       "      <td>True</td>\n",
       "    </tr>\n",
       "    <tr>\n",
       "      <th>1</th>\n",
       "      <td>0.162238</td>\n",
       "      <td>0.037012</td>\n",
       "      <td>557.149</td>\n",
       "      <td>0.162238</td>\n",
       "      <td>-0.028751</td>\n",
       "      <td>0.010612</td>\n",
       "      <td>9.44264</td>\n",
       "      <td>0.070566</td>\n",
       "      <td>0.025165</td>\n",
       "      <td>0.087560</td>\n",
       "      <td>...</td>\n",
       "      <td>1.000430</td>\n",
       "      <td>0.034212</td>\n",
       "      <td>0.033601</td>\n",
       "      <td>14.08010</td>\n",
       "      <td>-0.005107</td>\n",
       "      <td>0.176761</td>\n",
       "      <td>1.234580</td>\n",
       "      <td>2019-12-31</td>\n",
       "      <td>000002.XSHE</td>\n",
       "      <td>True</td>\n",
       "    </tr>\n",
       "    <tr>\n",
       "      <th>2</th>\n",
       "      <td>-0.124971</td>\n",
       "      <td>-0.032163</td>\n",
       "      <td>NaN</td>\n",
       "      <td>-0.124971</td>\n",
       "      <td>0.000000</td>\n",
       "      <td>0.007049</td>\n",
       "      <td>155.64300</td>\n",
       "      <td>-0.032111</td>\n",
       "      <td>0.718398</td>\n",
       "      <td>0.015851</td>\n",
       "      <td>...</td>\n",
       "      <td>1.004400</td>\n",
       "      <td>-0.210434</td>\n",
       "      <td>0.073969</td>\n",
       "      <td>128.33300</td>\n",
       "      <td>-0.806861</td>\n",
       "      <td>-0.277547</td>\n",
       "      <td>1.020130</td>\n",
       "      <td>2019-12-31</td>\n",
       "      <td>000004.XSHE</td>\n",
       "      <td>True</td>\n",
       "    </tr>\n",
       "    <tr>\n",
       "      <th>3</th>\n",
       "      <td>0.295892</td>\n",
       "      <td>0.014507</td>\n",
       "      <td>297.550</td>\n",
       "      <td>0.295892</td>\n",
       "      <td>0.000000</td>\n",
       "      <td>0.011342</td>\n",
       "      <td>983.37100</td>\n",
       "      <td>-0.195318</td>\n",
       "      <td>0.014492</td>\n",
       "      <td>0.011574</td>\n",
       "      <td>...</td>\n",
       "      <td>1.147690</td>\n",
       "      <td>0.064954</td>\n",
       "      <td>0.110484</td>\n",
       "      <td>46.88910</td>\n",
       "      <td>0.018956</td>\n",
       "      <td>0.099464</td>\n",
       "      <td>0.763430</td>\n",
       "      <td>2019-12-31</td>\n",
       "      <td>000005.XSHE</td>\n",
       "      <td>True</td>\n",
       "    </tr>\n",
       "    <tr>\n",
       "      <th>4</th>\n",
       "      <td>0.291333</td>\n",
       "      <td>0.120155</td>\n",
       "      <td>NaN</td>\n",
       "      <td>0.291333</td>\n",
       "      <td>0.000000</td>\n",
       "      <td>0.000816</td>\n",
       "      <td>1335.95000</td>\n",
       "      <td>0.127888</td>\n",
       "      <td>0.017799</td>\n",
       "      <td>0.049500</td>\n",
       "      <td>...</td>\n",
       "      <td>1.013180</td>\n",
       "      <td>0.054196</td>\n",
       "      <td>0.050042</td>\n",
       "      <td>530.54900</td>\n",
       "      <td>-0.022953</td>\n",
       "      <td>0.485404</td>\n",
       "      <td>1.622540</td>\n",
       "      <td>2019-12-31</td>\n",
       "      <td>000006.XSHE</td>\n",
       "      <td>True</td>\n",
       "    </tr>\n",
       "    <tr>\n",
       "      <th>...</th>\n",
       "      <td>...</td>\n",
       "      <td>...</td>\n",
       "      <td>...</td>\n",
       "      <td>...</td>\n",
       "      <td>...</td>\n",
       "      <td>...</td>\n",
       "      <td>...</td>\n",
       "      <td>...</td>\n",
       "      <td>...</td>\n",
       "      <td>...</td>\n",
       "      <td>...</td>\n",
       "      <td>...</td>\n",
       "      <td>...</td>\n",
       "      <td>...</td>\n",
       "      <td>...</td>\n",
       "      <td>...</td>\n",
       "      <td>...</td>\n",
       "      <td>...</td>\n",
       "      <td>...</td>\n",
       "      <td>...</td>\n",
       "      <td>...</td>\n",
       "    </tr>\n",
       "    <tr>\n",
       "      <th>4865</th>\n",
       "      <td>1.214180</td>\n",
       "      <td>0.000203</td>\n",
       "      <td>NaN</td>\n",
       "      <td>1.214180</td>\n",
       "      <td>0.000000</td>\n",
       "      <td>0.188106</td>\n",
       "      <td>93.83910</td>\n",
       "      <td>-0.080171</td>\n",
       "      <td>NaN</td>\n",
       "      <td>0.027309</td>\n",
       "      <td>...</td>\n",
       "      <td>0.999978</td>\n",
       "      <td>0.125800</td>\n",
       "      <td>0.954008</td>\n",
       "      <td>4.73348</td>\n",
       "      <td>-0.071562</td>\n",
       "      <td>0.026339</td>\n",
       "      <td>1.130000</td>\n",
       "      <td>2018-01-02</td>\n",
       "      <td>000007.XSHE</td>\n",
       "      <td>True</td>\n",
       "    </tr>\n",
       "    <tr>\n",
       "      <th>4866</th>\n",
       "      <td>0.241307</td>\n",
       "      <td>-0.009328</td>\n",
       "      <td>265.409</td>\n",
       "      <td>0.241307</td>\n",
       "      <td>0.000000</td>\n",
       "      <td>0.024068</td>\n",
       "      <td>1455.48000</td>\n",
       "      <td>-0.002395</td>\n",
       "      <td>0.077556</td>\n",
       "      <td>0.015342</td>\n",
       "      <td>...</td>\n",
       "      <td>1.006060</td>\n",
       "      <td>0.047075</td>\n",
       "      <td>0.208883</td>\n",
       "      <td>27.70930</td>\n",
       "      <td>-0.017294</td>\n",
       "      <td>-0.135280</td>\n",
       "      <td>0.917167</td>\n",
       "      <td>2018-01-02</td>\n",
       "      <td>000008.XSHE</td>\n",
       "      <td>True</td>\n",
       "    </tr>\n",
       "    <tr>\n",
       "      <th>4867</th>\n",
       "      <td>0.059374</td>\n",
       "      <td>0.000368</td>\n",
       "      <td>149.427</td>\n",
       "      <td>0.059704</td>\n",
       "      <td>0.053108</td>\n",
       "      <td>0.157772</td>\n",
       "      <td>556.50100</td>\n",
       "      <td>0.008432</td>\n",
       "      <td>0.098049</td>\n",
       "      <td>0.018108</td>\n",
       "      <td>...</td>\n",
       "      <td>0.974409</td>\n",
       "      <td>0.015914</td>\n",
       "      <td>0.117292</td>\n",
       "      <td>2.40238</td>\n",
       "      <td>0.001809</td>\n",
       "      <td>0.001459</td>\n",
       "      <td>1.085850</td>\n",
       "      <td>2018-01-02</td>\n",
       "      <td>000009.XSHE</td>\n",
       "      <td>True</td>\n",
       "    </tr>\n",
       "    <tr>\n",
       "      <th>4868</th>\n",
       "      <td>0.030130</td>\n",
       "      <td>0.116980</td>\n",
       "      <td>407.486</td>\n",
       "      <td>0.030130</td>\n",
       "      <td>0.000000</td>\n",
       "      <td>0.015821</td>\n",
       "      <td>507.55500</td>\n",
       "      <td>-0.031559</td>\n",
       "      <td>0.038023</td>\n",
       "      <td>0.019798</td>\n",
       "      <td>...</td>\n",
       "      <td>1.000230</td>\n",
       "      <td>0.007259</td>\n",
       "      <td>0.126007</td>\n",
       "      <td>34.82900</td>\n",
       "      <td>-0.008736</td>\n",
       "      <td>0.699454</td>\n",
       "      <td>1.548170</td>\n",
       "      <td>2018-01-02</td>\n",
       "      <td>000010.XSHE</td>\n",
       "      <td>True</td>\n",
       "    </tr>\n",
       "    <tr>\n",
       "      <th>4869</th>\n",
       "      <td>0.224337</td>\n",
       "      <td>-0.021187</td>\n",
       "      <td>NaN</td>\n",
       "      <td>0.224337</td>\n",
       "      <td>0.001832</td>\n",
       "      <td>0.005384</td>\n",
       "      <td>518.51900</td>\n",
       "      <td>0.843541</td>\n",
       "      <td>0.009472</td>\n",
       "      <td>0.216431</td>\n",
       "      <td>...</td>\n",
       "      <td>0.997909</td>\n",
       "      <td>0.172229</td>\n",
       "      <td>0.026101</td>\n",
       "      <td>98.18830</td>\n",
       "      <td>0.056762</td>\n",
       "      <td>-0.048731</td>\n",
       "      <td>0.358660</td>\n",
       "      <td>2018-01-02</td>\n",
       "      <td>000011.XSHE</td>\n",
       "      <td>True</td>\n",
       "    </tr>\n",
       "  </tbody>\n",
       "</table>\n",
       "<p>4870 rows × 34 columns</p>\n",
       "</div>"
      ],
      "text/plain": [
       "      net_profit_to_total_operate_revenue_ttm  cfo_to_ev  \\\n",
       "0                                    0.210383   0.010993   \n",
       "1                                    0.162238   0.037012   \n",
       "2                                   -0.124971  -0.032163   \n",
       "3                                    0.295892   0.014507   \n",
       "4                                    0.291333   0.120155   \n",
       "...                                       ...        ...   \n",
       "4865                                 1.214180   0.000203   \n",
       "4866                                 0.241307  -0.009328   \n",
       "4867                                 0.059374   0.000368   \n",
       "4868                                 0.030130   0.116980   \n",
       "4869                                 0.224337  -0.021187   \n",
       "\n",
       "      accounts_payable_turnover_days  net_profit_ratio  \\\n",
       "0                                NaN          0.210383   \n",
       "1                            557.149          0.162238   \n",
       "2                                NaN         -0.124971   \n",
       "3                            297.550          0.295892   \n",
       "4                                NaN          0.291333   \n",
       "...                              ...               ...   \n",
       "4865                             NaN          1.214180   \n",
       "4866                         265.409          0.241307   \n",
       "4867                         149.427          0.059704   \n",
       "4868                         407.486          0.030130   \n",
       "4869                             NaN          0.224337   \n",
       "\n",
       "      net_non_operating_income_to_total_profit  fixed_asset_ratio  \\\n",
       "0                                     0.045073           0.002855   \n",
       "1                                    -0.028751           0.010612   \n",
       "2                                     0.000000           0.007049   \n",
       "3                                     0.000000           0.011342   \n",
       "4                                     0.000000           0.000816   \n",
       "...                                        ...                ...   \n",
       "4865                                  0.000000           0.188106   \n",
       "4866                                  0.000000           0.024068   \n",
       "4867                                  0.053108           0.157772   \n",
       "4868                                  0.000000           0.015821   \n",
       "4869                                  0.001832           0.005384   \n",
       "\n",
       "      account_receivable_turnover_days      DEGM  \\\n",
       "0                                  NaN       NaN   \n",
       "1                              9.44264  0.070566   \n",
       "2                            155.64300 -0.032111   \n",
       "3                            983.37100 -0.195318   \n",
       "4                           1335.95000  0.127888   \n",
       "...                                ...       ...   \n",
       "4865                          93.83910 -0.080171   \n",
       "4866                        1455.48000 -0.002395   \n",
       "4867                         556.50100  0.008432   \n",
       "4868                         507.55500 -0.031559   \n",
       "4869                         518.51900  0.843541   \n",
       "\n",
       "      sale_expense_to_operating_revenue  \\\n",
       "0                                   NaN   \n",
       "1                              0.025165   \n",
       "2                              0.718398   \n",
       "3                              0.014492   \n",
       "4                              0.017799   \n",
       "...                                 ...   \n",
       "4865                                NaN   \n",
       "4866                           0.077556   \n",
       "4867                           0.098049   \n",
       "4868                           0.038023   \n",
       "4869                           0.009472   \n",
       "\n",
       "      operating_tax_to_operating_revenue_ratio_ttm  ...  \\\n",
       "0                                         0.009428  ...   \n",
       "1                                         0.087560  ...   \n",
       "2                                         0.015851  ...   \n",
       "3                                         0.011574  ...   \n",
       "4                                         0.049500  ...   \n",
       "...                                            ...  ...   \n",
       "4865                                      0.027309  ...   \n",
       "4866                                      0.015342  ...   \n",
       "4867                                      0.018108  ...   \n",
       "4868                                      0.019798  ...   \n",
       "4869                                      0.216431  ...   \n",
       "\n",
       "      operating_profit_to_total_profit   roa_ttm  admin_expense_rate  \\\n",
       "0                             1.000280  0.007547            0.301534   \n",
       "1                             1.000430  0.034212            0.033601   \n",
       "2                             1.004400 -0.210434            0.073969   \n",
       "3                             1.147690  0.064954            0.110484   \n",
       "4                             1.013180  0.054196            0.050042   \n",
       "...                                ...       ...                 ...   \n",
       "4865                          0.999978  0.125800            0.954008   \n",
       "4866                          1.006060  0.047075            0.208883   \n",
       "4867                          0.974409  0.015914            0.117292   \n",
       "4868                          1.000230  0.007259            0.126007   \n",
       "4869                          0.997909  0.172229            0.026101   \n",
       "\n",
       "      equity_to_fixed_asset_ratio  net_operate_cash_flow_to_total_liability  \\\n",
       "0                        27.21010                                  0.016975   \n",
       "1                        14.08010                                 -0.005107   \n",
       "2                       128.33300                                 -0.806861   \n",
       "3                        46.88910                                  0.018956   \n",
       "4                       530.54900                                 -0.022953   \n",
       "...                           ...                                       ...   \n",
       "4865                      4.73348                                 -0.071562   \n",
       "4866                     27.70930                                 -0.017294   \n",
       "4867                      2.40238                                  0.001809   \n",
       "4868                     34.82900                                 -0.008736   \n",
       "4869                     98.18830                                  0.056762   \n",
       "\n",
       "      cash_rate_of_sales  goods_service_cash_to_operating_revenue_ttm  \\\n",
       "0               0.289204                                          NaN   \n",
       "1               0.176761                                     1.234580   \n",
       "2              -0.277547                                     1.020130   \n",
       "3               0.099464                                     0.763430   \n",
       "4               0.485404                                     1.622540   \n",
       "...                  ...                                          ...   \n",
       "4865            0.026339                                     1.130000   \n",
       "4866           -0.135280                                     0.917167   \n",
       "4867            0.001459                                     1.085850   \n",
       "4868            0.699454                                     1.548170   \n",
       "4869           -0.048731                                     0.358660   \n",
       "\n",
       "            date        stkcd  flag  \n",
       "0     2019-12-31  000001.XSHE  True  \n",
       "1     2019-12-31  000002.XSHE  True  \n",
       "2     2019-12-31  000004.XSHE  True  \n",
       "3     2019-12-31  000005.XSHE  True  \n",
       "4     2019-12-31  000006.XSHE  True  \n",
       "...          ...          ...   ...  \n",
       "4865  2018-01-02  000007.XSHE  True  \n",
       "4866  2018-01-02  000008.XSHE  True  \n",
       "4867  2018-01-02  000009.XSHE  True  \n",
       "4868  2018-01-02  000010.XSHE  True  \n",
       "4869  2018-01-02  000011.XSHE  True  \n",
       "\n",
       "[4870 rows x 34 columns]"
      ]
     },
     "execution_count": 5,
     "metadata": {},
     "output_type": "execute_result"
    }
   ],
   "source": [
    "merged_data"
   ]
  },
  {
   "cell_type": "code",
   "execution_count": 6,
   "metadata": {},
   "outputs": [
    {
     "name": "stdout",
     "output_type": "stream",
     "text": [
      "Index(['net_profit_to_total_operate_revenue_ttm', 'cfo_to_ev',\n",
      "       'accounts_payable_turnover_days', 'net_profit_ratio',\n",
      "       'net_non_operating_income_to_total_profit', 'fixed_asset_ratio',\n",
      "       'account_receivable_turnover_days', 'DEGM',\n",
      "       'sale_expense_to_operating_revenue',\n",
      "       'operating_tax_to_operating_revenue_ratio_ttm',\n",
      "       'inventory_turnover_days', 'OperatingCycle',\n",
      "       'net_operate_cash_flow_to_operate_income', 'quick_ratio',\n",
      "       'intangible_asset_ratio', 'MLEV', 'debt_to_equity_ratio',\n",
      "       'super_quick_ratio', 'inventory_turnover_rate',\n",
      "       'operating_profit_growth_rate', 'current_ratio',\n",
      "       'net_operate_cash_flow_to_net_debt', 'net_operate_cash_flow_to_asset',\n",
      "       'total_asset_turnover_rate', 'operating_profit_to_total_profit',\n",
      "       'roa_ttm', 'admin_expense_rate', 'equity_to_fixed_asset_ratio',\n",
      "       'net_operate_cash_flow_to_total_liability', 'cash_rate_of_sales',\n",
      "       'goods_service_cash_to_operating_revenue_ttm', 'date', 'stkcd', 'flag'],\n",
      "      dtype='object')\n"
     ]
    }
   ],
   "source": [
    "print(merged_data.columns)"
   ]
  },
  {
   "cell_type": "code",
   "execution_count": 7,
   "metadata": {},
   "outputs": [
    {
     "name": "stdout",
     "output_type": "stream",
     "text": [
      "      net_profit_to_total_operate_revenue_ttm  cfo_to_ev  \\\n",
      "0                                    0.210383   0.010993   \n",
      "1                                    0.162238   0.037012   \n",
      "2                                   -0.124971  -0.032163   \n",
      "3                                    0.295892   0.014507   \n",
      "4                                    0.291333   0.120155   \n",
      "...                                       ...        ...   \n",
      "4865                                 1.214180   0.000203   \n",
      "4866                                 0.241307  -0.009328   \n",
      "4867                                 0.059374   0.000368   \n",
      "4868                                 0.030130   0.116980   \n",
      "4869                                 0.224337  -0.021187   \n",
      "\n",
      "      accounts_payable_turnover_days  net_profit_ratio  \\\n",
      "0                         355.171989          0.210383   \n",
      "1                         557.149000          0.162238   \n",
      "2                         355.171989         -0.124971   \n",
      "3                         297.550000          0.295892   \n",
      "4                         355.171989          0.291333   \n",
      "...                              ...               ...   \n",
      "4865                      355.171989          1.214180   \n",
      "4866                      265.409000          0.241307   \n",
      "4867                      149.427000          0.059704   \n",
      "4868                      407.486000          0.030130   \n",
      "4869                      355.171989          0.224337   \n",
      "\n",
      "      net_non_operating_income_to_total_profit  fixed_asset_ratio  \\\n",
      "0                                     0.045073           0.002855   \n",
      "1                                    -0.028751           0.010612   \n",
      "2                                    -0.024409           0.007049   \n",
      "3                                    -0.024409           0.011342   \n",
      "4                                    -0.024409           0.000816   \n",
      "...                                        ...                ...   \n",
      "4865                                 -0.024409           0.188106   \n",
      "4866                                 -0.024409           0.024068   \n",
      "4867                                  0.053108           0.157772   \n",
      "4868                                 -0.024409           0.015821   \n",
      "4869                                  0.001832           0.005384   \n",
      "\n",
      "      account_receivable_turnover_days      DEGM  \\\n",
      "0                           757.257081 -0.003199   \n",
      "1                             9.442640  0.070566   \n",
      "2                           155.643000 -0.032111   \n",
      "3                           983.371000 -0.195318   \n",
      "4                          1335.950000  0.127888   \n",
      "...                                ...       ...   \n",
      "4865                         93.839100 -0.080171   \n",
      "4866                       1455.480000 -0.002395   \n",
      "4867                        556.501000  0.008432   \n",
      "4868                        507.555000 -0.031559   \n",
      "4869                        518.519000  0.843541   \n",
      "\n",
      "      sale_expense_to_operating_revenue  \\\n",
      "0                              0.120456   \n",
      "1                              0.025165   \n",
      "2                              0.718398   \n",
      "3                              0.014492   \n",
      "4                              0.017799   \n",
      "...                                 ...   \n",
      "4865                           0.120456   \n",
      "4866                           0.077556   \n",
      "4867                           0.098049   \n",
      "4868                           0.038023   \n",
      "4869                           0.009472   \n",
      "\n",
      "      operating_tax_to_operating_revenue_ratio_ttm  ...  \\\n",
      "0                                         0.009428  ...   \n",
      "1                                         0.087560  ...   \n",
      "2                                         0.015851  ...   \n",
      "3                                         0.011574  ...   \n",
      "4                                         0.049500  ...   \n",
      "...                                            ...  ...   \n",
      "4865                                      0.027309  ...   \n",
      "4866                                      0.015342  ...   \n",
      "4867                                      0.018108  ...   \n",
      "4868                                      0.019798  ...   \n",
      "4869                                      0.216431  ...   \n",
      "\n",
      "      operating_profit_to_total_profit   roa_ttm  admin_expense_rate  \\\n",
      "0                             1.000280  0.007547            0.301534   \n",
      "1                             1.000430  0.034212            0.033601   \n",
      "2                             1.004400 -0.210434            0.073969   \n",
      "3                             1.147690  0.064954            0.110484   \n",
      "4                             1.013180  0.054196            0.050042   \n",
      "...                                ...       ...                 ...   \n",
      "4865                          0.999978  0.125800            0.954008   \n",
      "4866                          1.006060  0.047075            0.208883   \n",
      "4867                          0.974409  0.015914            0.117292   \n",
      "4868                          1.000230  0.007259            0.126007   \n",
      "4869                          0.997909  0.172229            0.026101   \n",
      "\n",
      "      equity_to_fixed_asset_ratio  net_operate_cash_flow_to_total_liability  \\\n",
      "0                        27.21010                                  0.016975   \n",
      "1                        14.08010                                 -0.005107   \n",
      "2                       128.33300                                 -0.806861   \n",
      "3                        46.88910                                  0.018956   \n",
      "4                       530.54900                                 -0.022953   \n",
      "...                           ...                                       ...   \n",
      "4865                      4.73348                                 -0.071562   \n",
      "4866                     27.70930                                 -0.017294   \n",
      "4867                      2.40238                                  0.001809   \n",
      "4868                     34.82900                                 -0.008736   \n",
      "4869                     98.18830                                  0.056762   \n",
      "\n",
      "      cash_rate_of_sales  goods_service_cash_to_operating_revenue_ttm  \\\n",
      "0               0.289204                                     1.055152   \n",
      "1               0.176761                                     1.234580   \n",
      "2              -0.277547                                     1.020130   \n",
      "3               0.099464                                     0.763430   \n",
      "4               0.485404                                     1.622540   \n",
      "...                  ...                                          ...   \n",
      "4865            0.026339                                     1.130000   \n",
      "4866           -0.135280                                     0.917167   \n",
      "4867            0.001459                                     1.085850   \n",
      "4868            0.699454                                     1.548170   \n",
      "4869           -0.048731                                     0.358660   \n",
      "\n",
      "            date        stkcd  flag  \n",
      "0     2019-12-31  000001.XSHE  True  \n",
      "1     2019-12-31  000002.XSHE  True  \n",
      "2     2019-12-31  000004.XSHE  True  \n",
      "3     2019-12-31  000005.XSHE  True  \n",
      "4     2019-12-31  000006.XSHE  True  \n",
      "...          ...          ...   ...  \n",
      "4865  2018-01-02  000007.XSHE  True  \n",
      "4866  2018-01-02  000008.XSHE  True  \n",
      "4867  2018-01-02  000009.XSHE  True  \n",
      "4868  2018-01-02  000010.XSHE  True  \n",
      "4869  2018-01-02  000011.XSHE  True  \n",
      "\n",
      "[4870 rows x 34 columns]\n"
     ]
    }
   ],
   "source": [
    "import pandas as pd\n",
    "import numpy as np\n",
    "\n",
    "# 假设 merged_data 是你的数据集\n",
    "# 先将 0 处理为 NaN，因为你希望把0视为缺失值一同处理\n",
    "merged_data.replace(0, np.nan, inplace=True)\n",
    "\n",
    "# 只选择数值型列，非数值型列将会被排除\n",
    "numeric_cols = merged_data.select_dtypes(include=[np.number]).columns\n",
    "\n",
    "# 对数值型列的 NaN 值使用该列的平均值进行填充\n",
    "merged_data[numeric_cols] = merged_data[numeric_cols].fillna(merged_data[numeric_cols].mean())\n",
    "\n",
    "# 检查替换结果\n",
    "print(merged_data)"
   ]
  },
  {
   "cell_type": "code",
   "execution_count": 8,
   "metadata": {},
   "outputs": [
    {
     "name": "stdout",
     "output_type": "stream",
     "text": [
      "数据已保存为 '/Users/zhangrui/Desktop/gaBasic_001.csv' 文件\n"
     ]
    }
   ],
   "source": [
    "# 使用你指定的文件路径保存数据\n",
    "file_path = \"/Users/zhangrui/Desktop/gaBasic_001.csv\"\n",
    "\n",
    "# 将数据保存为 CSV 文件\n",
    "merged_data.to_csv(file_path, index=False)\n",
    "\n",
    "print(f\"数据已保存为 '{file_path}' 文件\")"
   ]
  },
  {
   "cell_type": "code",
   "execution_count": 9,
   "metadata": {},
   "outputs": [
    {
     "data": {
      "text/html": [
       "<div>\n",
       "<style scoped>\n",
       "    .dataframe tbody tr th:only-of-type {\n",
       "        vertical-align: middle;\n",
       "    }\n",
       "\n",
       "    .dataframe tbody tr th {\n",
       "        vertical-align: top;\n",
       "    }\n",
       "\n",
       "    .dataframe thead th {\n",
       "        text-align: right;\n",
       "    }\n",
       "</style>\n",
       "<table border=\"1\" class=\"dataframe\">\n",
       "  <thead>\n",
       "    <tr style=\"text-align: right;\">\n",
       "      <th></th>\n",
       "      <th>net_profit_to_total_operate_revenue_ttm</th>\n",
       "      <th>cfo_to_ev</th>\n",
       "      <th>accounts_payable_turnover_days</th>\n",
       "      <th>net_profit_ratio</th>\n",
       "      <th>net_non_operating_income_to_total_profit</th>\n",
       "      <th>fixed_asset_ratio</th>\n",
       "      <th>account_receivable_turnover_days</th>\n",
       "      <th>DEGM</th>\n",
       "      <th>sale_expense_to_operating_revenue</th>\n",
       "      <th>operating_tax_to_operating_revenue_ratio_ttm</th>\n",
       "      <th>...</th>\n",
       "      <th>operating_profit_to_total_profit</th>\n",
       "      <th>roa_ttm</th>\n",
       "      <th>admin_expense_rate</th>\n",
       "      <th>equity_to_fixed_asset_ratio</th>\n",
       "      <th>net_operate_cash_flow_to_total_liability</th>\n",
       "      <th>cash_rate_of_sales</th>\n",
       "      <th>goods_service_cash_to_operating_revenue_ttm</th>\n",
       "      <th>date</th>\n",
       "      <th>stkcd</th>\n",
       "      <th>flag</th>\n",
       "    </tr>\n",
       "  </thead>\n",
       "  <tbody>\n",
       "    <tr>\n",
       "      <th>0</th>\n",
       "      <td>0.210383</td>\n",
       "      <td>0.010993</td>\n",
       "      <td>355.171989</td>\n",
       "      <td>0.210383</td>\n",
       "      <td>0.045073</td>\n",
       "      <td>0.002855</td>\n",
       "      <td>757.257081</td>\n",
       "      <td>-0.003199</td>\n",
       "      <td>0.120456</td>\n",
       "      <td>0.009428</td>\n",
       "      <td>...</td>\n",
       "      <td>1.000280</td>\n",
       "      <td>0.007547</td>\n",
       "      <td>0.301534</td>\n",
       "      <td>27.21010</td>\n",
       "      <td>0.016975</td>\n",
       "      <td>0.289204</td>\n",
       "      <td>1.055152</td>\n",
       "      <td>2019-12-31</td>\n",
       "      <td>000001.XSHE</td>\n",
       "      <td>True</td>\n",
       "    </tr>\n",
       "    <tr>\n",
       "      <th>1</th>\n",
       "      <td>0.162238</td>\n",
       "      <td>0.037012</td>\n",
       "      <td>557.149000</td>\n",
       "      <td>0.162238</td>\n",
       "      <td>-0.028751</td>\n",
       "      <td>0.010612</td>\n",
       "      <td>9.442640</td>\n",
       "      <td>0.070566</td>\n",
       "      <td>0.025165</td>\n",
       "      <td>0.087560</td>\n",
       "      <td>...</td>\n",
       "      <td>1.000430</td>\n",
       "      <td>0.034212</td>\n",
       "      <td>0.033601</td>\n",
       "      <td>14.08010</td>\n",
       "      <td>-0.005107</td>\n",
       "      <td>0.176761</td>\n",
       "      <td>1.234580</td>\n",
       "      <td>2019-12-31</td>\n",
       "      <td>000002.XSHE</td>\n",
       "      <td>True</td>\n",
       "    </tr>\n",
       "    <tr>\n",
       "      <th>2</th>\n",
       "      <td>-0.124971</td>\n",
       "      <td>-0.032163</td>\n",
       "      <td>355.171989</td>\n",
       "      <td>-0.124971</td>\n",
       "      <td>-0.024409</td>\n",
       "      <td>0.007049</td>\n",
       "      <td>155.643000</td>\n",
       "      <td>-0.032111</td>\n",
       "      <td>0.718398</td>\n",
       "      <td>0.015851</td>\n",
       "      <td>...</td>\n",
       "      <td>1.004400</td>\n",
       "      <td>-0.210434</td>\n",
       "      <td>0.073969</td>\n",
       "      <td>128.33300</td>\n",
       "      <td>-0.806861</td>\n",
       "      <td>-0.277547</td>\n",
       "      <td>1.020130</td>\n",
       "      <td>2019-12-31</td>\n",
       "      <td>000004.XSHE</td>\n",
       "      <td>True</td>\n",
       "    </tr>\n",
       "    <tr>\n",
       "      <th>3</th>\n",
       "      <td>0.295892</td>\n",
       "      <td>0.014507</td>\n",
       "      <td>297.550000</td>\n",
       "      <td>0.295892</td>\n",
       "      <td>-0.024409</td>\n",
       "      <td>0.011342</td>\n",
       "      <td>983.371000</td>\n",
       "      <td>-0.195318</td>\n",
       "      <td>0.014492</td>\n",
       "      <td>0.011574</td>\n",
       "      <td>...</td>\n",
       "      <td>1.147690</td>\n",
       "      <td>0.064954</td>\n",
       "      <td>0.110484</td>\n",
       "      <td>46.88910</td>\n",
       "      <td>0.018956</td>\n",
       "      <td>0.099464</td>\n",
       "      <td>0.763430</td>\n",
       "      <td>2019-12-31</td>\n",
       "      <td>000005.XSHE</td>\n",
       "      <td>True</td>\n",
       "    </tr>\n",
       "    <tr>\n",
       "      <th>4</th>\n",
       "      <td>0.291333</td>\n",
       "      <td>0.120155</td>\n",
       "      <td>355.171989</td>\n",
       "      <td>0.291333</td>\n",
       "      <td>-0.024409</td>\n",
       "      <td>0.000816</td>\n",
       "      <td>1335.950000</td>\n",
       "      <td>0.127888</td>\n",
       "      <td>0.017799</td>\n",
       "      <td>0.049500</td>\n",
       "      <td>...</td>\n",
       "      <td>1.013180</td>\n",
       "      <td>0.054196</td>\n",
       "      <td>0.050042</td>\n",
       "      <td>530.54900</td>\n",
       "      <td>-0.022953</td>\n",
       "      <td>0.485404</td>\n",
       "      <td>1.622540</td>\n",
       "      <td>2019-12-31</td>\n",
       "      <td>000006.XSHE</td>\n",
       "      <td>True</td>\n",
       "    </tr>\n",
       "    <tr>\n",
       "      <th>...</th>\n",
       "      <td>...</td>\n",
       "      <td>...</td>\n",
       "      <td>...</td>\n",
       "      <td>...</td>\n",
       "      <td>...</td>\n",
       "      <td>...</td>\n",
       "      <td>...</td>\n",
       "      <td>...</td>\n",
       "      <td>...</td>\n",
       "      <td>...</td>\n",
       "      <td>...</td>\n",
       "      <td>...</td>\n",
       "      <td>...</td>\n",
       "      <td>...</td>\n",
       "      <td>...</td>\n",
       "      <td>...</td>\n",
       "      <td>...</td>\n",
       "      <td>...</td>\n",
       "      <td>...</td>\n",
       "      <td>...</td>\n",
       "      <td>...</td>\n",
       "    </tr>\n",
       "    <tr>\n",
       "      <th>4865</th>\n",
       "      <td>1.214180</td>\n",
       "      <td>0.000203</td>\n",
       "      <td>355.171989</td>\n",
       "      <td>1.214180</td>\n",
       "      <td>-0.024409</td>\n",
       "      <td>0.188106</td>\n",
       "      <td>93.839100</td>\n",
       "      <td>-0.080171</td>\n",
       "      <td>0.120456</td>\n",
       "      <td>0.027309</td>\n",
       "      <td>...</td>\n",
       "      <td>0.999978</td>\n",
       "      <td>0.125800</td>\n",
       "      <td>0.954008</td>\n",
       "      <td>4.73348</td>\n",
       "      <td>-0.071562</td>\n",
       "      <td>0.026339</td>\n",
       "      <td>1.130000</td>\n",
       "      <td>2018-01-02</td>\n",
       "      <td>000007.XSHE</td>\n",
       "      <td>True</td>\n",
       "    </tr>\n",
       "    <tr>\n",
       "      <th>4866</th>\n",
       "      <td>0.241307</td>\n",
       "      <td>-0.009328</td>\n",
       "      <td>265.409000</td>\n",
       "      <td>0.241307</td>\n",
       "      <td>-0.024409</td>\n",
       "      <td>0.024068</td>\n",
       "      <td>1455.480000</td>\n",
       "      <td>-0.002395</td>\n",
       "      <td>0.077556</td>\n",
       "      <td>0.015342</td>\n",
       "      <td>...</td>\n",
       "      <td>1.006060</td>\n",
       "      <td>0.047075</td>\n",
       "      <td>0.208883</td>\n",
       "      <td>27.70930</td>\n",
       "      <td>-0.017294</td>\n",
       "      <td>-0.135280</td>\n",
       "      <td>0.917167</td>\n",
       "      <td>2018-01-02</td>\n",
       "      <td>000008.XSHE</td>\n",
       "      <td>True</td>\n",
       "    </tr>\n",
       "    <tr>\n",
       "      <th>4867</th>\n",
       "      <td>0.059374</td>\n",
       "      <td>0.000368</td>\n",
       "      <td>149.427000</td>\n",
       "      <td>0.059704</td>\n",
       "      <td>0.053108</td>\n",
       "      <td>0.157772</td>\n",
       "      <td>556.501000</td>\n",
       "      <td>0.008432</td>\n",
       "      <td>0.098049</td>\n",
       "      <td>0.018108</td>\n",
       "      <td>...</td>\n",
       "      <td>0.974409</td>\n",
       "      <td>0.015914</td>\n",
       "      <td>0.117292</td>\n",
       "      <td>2.40238</td>\n",
       "      <td>0.001809</td>\n",
       "      <td>0.001459</td>\n",
       "      <td>1.085850</td>\n",
       "      <td>2018-01-02</td>\n",
       "      <td>000009.XSHE</td>\n",
       "      <td>True</td>\n",
       "    </tr>\n",
       "    <tr>\n",
       "      <th>4868</th>\n",
       "      <td>0.030130</td>\n",
       "      <td>0.116980</td>\n",
       "      <td>407.486000</td>\n",
       "      <td>0.030130</td>\n",
       "      <td>-0.024409</td>\n",
       "      <td>0.015821</td>\n",
       "      <td>507.555000</td>\n",
       "      <td>-0.031559</td>\n",
       "      <td>0.038023</td>\n",
       "      <td>0.019798</td>\n",
       "      <td>...</td>\n",
       "      <td>1.000230</td>\n",
       "      <td>0.007259</td>\n",
       "      <td>0.126007</td>\n",
       "      <td>34.82900</td>\n",
       "      <td>-0.008736</td>\n",
       "      <td>0.699454</td>\n",
       "      <td>1.548170</td>\n",
       "      <td>2018-01-02</td>\n",
       "      <td>000010.XSHE</td>\n",
       "      <td>True</td>\n",
       "    </tr>\n",
       "    <tr>\n",
       "      <th>4869</th>\n",
       "      <td>0.224337</td>\n",
       "      <td>-0.021187</td>\n",
       "      <td>355.171989</td>\n",
       "      <td>0.224337</td>\n",
       "      <td>0.001832</td>\n",
       "      <td>0.005384</td>\n",
       "      <td>518.519000</td>\n",
       "      <td>0.843541</td>\n",
       "      <td>0.009472</td>\n",
       "      <td>0.216431</td>\n",
       "      <td>...</td>\n",
       "      <td>0.997909</td>\n",
       "      <td>0.172229</td>\n",
       "      <td>0.026101</td>\n",
       "      <td>98.18830</td>\n",
       "      <td>0.056762</td>\n",
       "      <td>-0.048731</td>\n",
       "      <td>0.358660</td>\n",
       "      <td>2018-01-02</td>\n",
       "      <td>000011.XSHE</td>\n",
       "      <td>True</td>\n",
       "    </tr>\n",
       "  </tbody>\n",
       "</table>\n",
       "<p>4870 rows × 34 columns</p>\n",
       "</div>"
      ],
      "text/plain": [
       "      net_profit_to_total_operate_revenue_ttm  cfo_to_ev  \\\n",
       "0                                    0.210383   0.010993   \n",
       "1                                    0.162238   0.037012   \n",
       "2                                   -0.124971  -0.032163   \n",
       "3                                    0.295892   0.014507   \n",
       "4                                    0.291333   0.120155   \n",
       "...                                       ...        ...   \n",
       "4865                                 1.214180   0.000203   \n",
       "4866                                 0.241307  -0.009328   \n",
       "4867                                 0.059374   0.000368   \n",
       "4868                                 0.030130   0.116980   \n",
       "4869                                 0.224337  -0.021187   \n",
       "\n",
       "      accounts_payable_turnover_days  net_profit_ratio  \\\n",
       "0                         355.171989          0.210383   \n",
       "1                         557.149000          0.162238   \n",
       "2                         355.171989         -0.124971   \n",
       "3                         297.550000          0.295892   \n",
       "4                         355.171989          0.291333   \n",
       "...                              ...               ...   \n",
       "4865                      355.171989          1.214180   \n",
       "4866                      265.409000          0.241307   \n",
       "4867                      149.427000          0.059704   \n",
       "4868                      407.486000          0.030130   \n",
       "4869                      355.171989          0.224337   \n",
       "\n",
       "      net_non_operating_income_to_total_profit  fixed_asset_ratio  \\\n",
       "0                                     0.045073           0.002855   \n",
       "1                                    -0.028751           0.010612   \n",
       "2                                    -0.024409           0.007049   \n",
       "3                                    -0.024409           0.011342   \n",
       "4                                    -0.024409           0.000816   \n",
       "...                                        ...                ...   \n",
       "4865                                 -0.024409           0.188106   \n",
       "4866                                 -0.024409           0.024068   \n",
       "4867                                  0.053108           0.157772   \n",
       "4868                                 -0.024409           0.015821   \n",
       "4869                                  0.001832           0.005384   \n",
       "\n",
       "      account_receivable_turnover_days      DEGM  \\\n",
       "0                           757.257081 -0.003199   \n",
       "1                             9.442640  0.070566   \n",
       "2                           155.643000 -0.032111   \n",
       "3                           983.371000 -0.195318   \n",
       "4                          1335.950000  0.127888   \n",
       "...                                ...       ...   \n",
       "4865                         93.839100 -0.080171   \n",
       "4866                       1455.480000 -0.002395   \n",
       "4867                        556.501000  0.008432   \n",
       "4868                        507.555000 -0.031559   \n",
       "4869                        518.519000  0.843541   \n",
       "\n",
       "      sale_expense_to_operating_revenue  \\\n",
       "0                              0.120456   \n",
       "1                              0.025165   \n",
       "2                              0.718398   \n",
       "3                              0.014492   \n",
       "4                              0.017799   \n",
       "...                                 ...   \n",
       "4865                           0.120456   \n",
       "4866                           0.077556   \n",
       "4867                           0.098049   \n",
       "4868                           0.038023   \n",
       "4869                           0.009472   \n",
       "\n",
       "      operating_tax_to_operating_revenue_ratio_ttm  ...  \\\n",
       "0                                         0.009428  ...   \n",
       "1                                         0.087560  ...   \n",
       "2                                         0.015851  ...   \n",
       "3                                         0.011574  ...   \n",
       "4                                         0.049500  ...   \n",
       "...                                            ...  ...   \n",
       "4865                                      0.027309  ...   \n",
       "4866                                      0.015342  ...   \n",
       "4867                                      0.018108  ...   \n",
       "4868                                      0.019798  ...   \n",
       "4869                                      0.216431  ...   \n",
       "\n",
       "      operating_profit_to_total_profit   roa_ttm  admin_expense_rate  \\\n",
       "0                             1.000280  0.007547            0.301534   \n",
       "1                             1.000430  0.034212            0.033601   \n",
       "2                             1.004400 -0.210434            0.073969   \n",
       "3                             1.147690  0.064954            0.110484   \n",
       "4                             1.013180  0.054196            0.050042   \n",
       "...                                ...       ...                 ...   \n",
       "4865                          0.999978  0.125800            0.954008   \n",
       "4866                          1.006060  0.047075            0.208883   \n",
       "4867                          0.974409  0.015914            0.117292   \n",
       "4868                          1.000230  0.007259            0.126007   \n",
       "4869                          0.997909  0.172229            0.026101   \n",
       "\n",
       "      equity_to_fixed_asset_ratio  net_operate_cash_flow_to_total_liability  \\\n",
       "0                        27.21010                                  0.016975   \n",
       "1                        14.08010                                 -0.005107   \n",
       "2                       128.33300                                 -0.806861   \n",
       "3                        46.88910                                  0.018956   \n",
       "4                       530.54900                                 -0.022953   \n",
       "...                           ...                                       ...   \n",
       "4865                      4.73348                                 -0.071562   \n",
       "4866                     27.70930                                 -0.017294   \n",
       "4867                      2.40238                                  0.001809   \n",
       "4868                     34.82900                                 -0.008736   \n",
       "4869                     98.18830                                  0.056762   \n",
       "\n",
       "      cash_rate_of_sales  goods_service_cash_to_operating_revenue_ttm  \\\n",
       "0               0.289204                                     1.055152   \n",
       "1               0.176761                                     1.234580   \n",
       "2              -0.277547                                     1.020130   \n",
       "3               0.099464                                     0.763430   \n",
       "4               0.485404                                     1.622540   \n",
       "...                  ...                                          ...   \n",
       "4865            0.026339                                     1.130000   \n",
       "4866           -0.135280                                     0.917167   \n",
       "4867            0.001459                                     1.085850   \n",
       "4868            0.699454                                     1.548170   \n",
       "4869           -0.048731                                     0.358660   \n",
       "\n",
       "            date        stkcd  flag  \n",
       "0     2019-12-31  000001.XSHE  True  \n",
       "1     2019-12-31  000002.XSHE  True  \n",
       "2     2019-12-31  000004.XSHE  True  \n",
       "3     2019-12-31  000005.XSHE  True  \n",
       "4     2019-12-31  000006.XSHE  True  \n",
       "...          ...          ...   ...  \n",
       "4865  2018-01-02  000007.XSHE  True  \n",
       "4866  2018-01-02  000008.XSHE  True  \n",
       "4867  2018-01-02  000009.XSHE  True  \n",
       "4868  2018-01-02  000010.XSHE  True  \n",
       "4869  2018-01-02  000011.XSHE  True  \n",
       "\n",
       "[4870 rows x 34 columns]"
      ]
     },
     "execution_count": 9,
     "metadata": {},
     "output_type": "execute_result"
    }
   ],
   "source": [
    "merged_data"
   ]
  },
  {
   "cell_type": "code",
   "execution_count": 10,
   "metadata": {},
   "outputs": [
    {
     "name": "stdout",
     "output_type": "stream",
     "text": [
      "Index(['net_profit_to_total_operate_revenue_ttm', 'cfo_to_ev',\n",
      "       'accounts_payable_turnover_days', 'net_profit_ratio',\n",
      "       'net_non_operating_income_to_total_profit', 'fixed_asset_ratio',\n",
      "       'account_receivable_turnover_days', 'DEGM',\n",
      "       'sale_expense_to_operating_revenue',\n",
      "       'operating_tax_to_operating_revenue_ratio_ttm',\n",
      "       'inventory_turnover_days', 'OperatingCycle',\n",
      "       'net_operate_cash_flow_to_operate_income', 'quick_ratio',\n",
      "       'intangible_asset_ratio', 'MLEV', 'debt_to_equity_ratio',\n",
      "       'super_quick_ratio', 'inventory_turnover_rate',\n",
      "       'operating_profit_growth_rate', 'current_ratio',\n",
      "       'net_operate_cash_flow_to_net_debt', 'net_operate_cash_flow_to_asset',\n",
      "       'total_asset_turnover_rate', 'operating_profit_to_total_profit',\n",
      "       'roa_ttm', 'admin_expense_rate', 'equity_to_fixed_asset_ratio',\n",
      "       'net_operate_cash_flow_to_total_liability', 'cash_rate_of_sales',\n",
      "       'goods_service_cash_to_operating_revenue_ttm', 'date', 'stkcd', 'flag'],\n",
      "      dtype='object')\n"
     ]
    }
   ],
   "source": [
    "print(merged_data.columns)"
   ]
  },
  {
   "cell_type": "code",
   "execution_count": 11,
   "metadata": {},
   "outputs": [
    {
     "name": "stdout",
     "output_type": "stream",
     "text": [
      "Constructed factors saved to /Users/zhangrui/Desktop/constructed_factors.csv\n"
     ]
    }
   ],
   "source": [
    "import pandas as pd\n",
    "import numpy as np\n",
    "\n",
    "# 假设你已经有一个 merged_data 数据框\n",
    "\n",
    "# 使用你提供的数据标签来计算各个因子\n",
    "\n",
    "# 单季EP (Earnings per share for the quarter) - 使用 net_profit_ratio 作为代理\n",
    "merged_data['单季EP'] = merged_data['net_profit_ratio']\n",
    "\n",
    "# 股息率 (Dividend Yield) - 数据集中没有提供此列，请根据实际数据进行调整\n",
    "# merged_data['股息率'] = merged_data['DIVIDENDYIELD2']  # 如果有类似的股息率数据列，可以替换\n",
    "\n",
    "# 三个月反转 (3-Month Reversal) - 使用 net_profit_ratio 计算反转\n",
    "merged_data['三个月反转'] = merged_data['net_profit_ratio'].rolling(window=60).apply(lambda x: -x.sum())  # 假设每月有20个交易日\n",
    "\n",
    "# 高管薪酬 (Management Compensation) - 数据集中没有提供此列，使用类似字段或实际数据列\n",
    "# merged_data['高管薪酬'] = merged_data['WGSD_STMNOTE_MGMT_BEN']\n",
    "\n",
    "# 预期EPTTM (Expected Earnings to Price TTM) - 使用 net_profit_ratio 作为代理\n",
    "merged_data['预期EPTTM'] = merged_data['net_profit_ratio']\n",
    "\n",
    "# EPTTM一年分位点 (EPTTM One-year Percentile)\n",
    "merged_data['EPTTM一年分位点'] = merged_data['net_profit_ratio'].rolling(window=252).apply(lambda x: pd.Series(x).rank(pct=True).iloc[-1])\n",
    "\n",
    "# EPTTM (Earnings to Price trailing twelve months) - 使用 net_profit_ratio 作为代理\n",
    "merged_data['EPTTM'] = merged_data['net_profit_ratio']\n",
    "\n",
    "# 预期BP (Expected Book to Price ratio) - 使用 equity_to_fixed_asset_ratio 作为代理\n",
    "merged_data['预期BP'] = merged_data['equity_to_fixed_asset_ratio']\n",
    "\n",
    "# BP (Book to Price ratio) - 使用 equity_to_fixed_asset_ratio 作为代理\n",
    "merged_data['BP'] = merged_data['equity_to_fixed_asset_ratio']\n",
    "\n",
    "# SPTTM (Sales to Price trailing twelve months) - 使用 sale_expense_to_operating_revenue 作为代理\n",
    "merged_data['SPTTM'] = merged_data['sale_expense_to_operating_revenue']\n",
    "\n",
    "# 非流动性冲击 (Illiquidity Shock) - 使用总资产周转率作为流动性代理\n",
    "merged_data['非流动性冲击'] = 1 / merged_data['total_asset_turnover_rate']\n",
    "\n",
    "# 单季ROE (Return on Equity for the quarter) - 使用 roa_ttm 作为代理\n",
    "merged_data['单季ROE'] = merged_data['roa_ttm']\n",
    "\n",
    "# 单季SP (Sales per share for the quarter) - 使用 sale_expense_to_operating_revenue 作为代理\n",
    "merged_data['单季SP'] = merged_data['sale_expense_to_operating_revenue']\n",
    "\n",
    "# 三个月换手 (3-Month Turnover) - 使用 inventory_turnover_rate 作为代理\n",
    "merged_data['三个月换手'] = merged_data['inventory_turnover_rate'].rolling(window=60).mean()\n",
    "\n",
    "# 标准化预期外收 (Standardized Unexpected Revenue) - 使用 net_profit_to_total_operate_revenue_ttm 作为代理\n",
    "merged_data['标准化预期外收'] = (merged_data['net_profit_to_total_operate_revenue_ttm'] - merged_data['net_profit_to_total_operate_revenue_ttm'].mean()) / merged_data['net_profit_to_total_operate_revenue_ttm'].std()\n",
    "\n",
    "# 单季ROA (Return on Assets for the quarter) - 使用 roa_ttm 作为代理\n",
    "merged_data['单季ROA'] = merged_data['roa_ttm']\n",
    "\n",
    "# 特异度 (Specificity) - 使用 net_profit_ratio 计算市场相对异常收益\n",
    "merged_data['特异度'] = merged_data['net_profit_ratio'] - merged_data['net_profit_ratio'].mean()\n",
    "\n",
    "# 三个月波动 (3-Month Volatility) - 使用 operating_profit_growth_rate 作为代理\n",
    "merged_data['三个月波动'] = merged_data['operating_profit_growth_rate'].rolling(window=60).std()\n",
    "\n",
    "# 一年动量 (1-Year Momentum) - 使用 net_profit_ratio\n",
    "merged_data['一年动量'] = merged_data['net_profit_ratio'].rolling(window=252).sum()\n",
    "\n",
    "# 一个月反转 (1-Month Reversal) - 使用 net_profit_ratio 进行反转计算\n",
    "merged_data['一个月反转'] = merged_data['net_profit_ratio'].rolling(window=20).apply(lambda x: -x.sum())\n",
    "\n",
    "# 一个月波动 (1-Month Volatility) - 使用 operating_profit_growth_rate\n",
    "merged_data['一个月波动'] = merged_data['operating_profit_growth_rate'].rolling(window=20).std()\n",
    "\n",
    "# 标准化预期外盈利 (Standardized Unexpected Earnings) - 使用 net_profit_ratio 作为代理\n",
    "merged_data['标准化预期外盈利'] = (merged_data['net_profit_ratio'] - merged_data['net_profit_ratio'].mean()) / merged_data['net_profit_ratio'].std()\n",
    "\n",
    "# 保存构建的因子到一个新的 CSV 文件\n",
    "output_file_path = '/Users/zhangrui/Desktop/constructed_factors.csv'\n",
    "merged_data.to_csv(output_file_path, index=False)\n",
    "print(f\"Constructed factors saved to {output_file_path}\")"
   ]
  },
  {
   "cell_type": "code",
   "execution_count": 12,
   "metadata": {},
   "outputs": [
    {
     "data": {
      "text/html": [
       "<div>\n",
       "<style scoped>\n",
       "    .dataframe tbody tr th:only-of-type {\n",
       "        vertical-align: middle;\n",
       "    }\n",
       "\n",
       "    .dataframe tbody tr th {\n",
       "        vertical-align: top;\n",
       "    }\n",
       "\n",
       "    .dataframe thead th {\n",
       "        text-align: right;\n",
       "    }\n",
       "</style>\n",
       "<table border=\"1\" class=\"dataframe\">\n",
       "  <thead>\n",
       "    <tr style=\"text-align: right;\">\n",
       "      <th></th>\n",
       "      <th>net_profit_to_total_operate_revenue_ttm</th>\n",
       "      <th>cfo_to_ev</th>\n",
       "      <th>accounts_payable_turnover_days</th>\n",
       "      <th>net_profit_ratio</th>\n",
       "      <th>net_non_operating_income_to_total_profit</th>\n",
       "      <th>fixed_asset_ratio</th>\n",
       "      <th>account_receivable_turnover_days</th>\n",
       "      <th>DEGM</th>\n",
       "      <th>sale_expense_to_operating_revenue</th>\n",
       "      <th>operating_tax_to_operating_revenue_ratio_ttm</th>\n",
       "      <th>...</th>\n",
       "      <th>单季SP</th>\n",
       "      <th>三个月换手</th>\n",
       "      <th>标准化预期外收</th>\n",
       "      <th>单季ROA</th>\n",
       "      <th>特异度</th>\n",
       "      <th>三个月波动</th>\n",
       "      <th>一年动量</th>\n",
       "      <th>一个月反转</th>\n",
       "      <th>一个月波动</th>\n",
       "      <th>标准化预期外盈利</th>\n",
       "    </tr>\n",
       "  </thead>\n",
       "  <tbody>\n",
       "    <tr>\n",
       "      <th>0</th>\n",
       "      <td>0.210383</td>\n",
       "      <td>0.010993</td>\n",
       "      <td>355.171989</td>\n",
       "      <td>0.210383</td>\n",
       "      <td>0.045073</td>\n",
       "      <td>0.002855</td>\n",
       "      <td>757.257081</td>\n",
       "      <td>-0.003199</td>\n",
       "      <td>0.120456</td>\n",
       "      <td>0.009428</td>\n",
       "      <td>...</td>\n",
       "      <td>0.120456</td>\n",
       "      <td>NaN</td>\n",
       "      <td>0.352763</td>\n",
       "      <td>0.007547</td>\n",
       "      <td>0.394601</td>\n",
       "      <td>NaN</td>\n",
       "      <td>NaN</td>\n",
       "      <td>NaN</td>\n",
       "      <td>NaN</td>\n",
       "      <td>0.352740</td>\n",
       "    </tr>\n",
       "    <tr>\n",
       "      <th>1</th>\n",
       "      <td>0.162238</td>\n",
       "      <td>0.037012</td>\n",
       "      <td>557.149000</td>\n",
       "      <td>0.162238</td>\n",
       "      <td>-0.028751</td>\n",
       "      <td>0.010612</td>\n",
       "      <td>9.442640</td>\n",
       "      <td>0.070566</td>\n",
       "      <td>0.025165</td>\n",
       "      <td>0.087560</td>\n",
       "      <td>...</td>\n",
       "      <td>0.025165</td>\n",
       "      <td>NaN</td>\n",
       "      <td>0.309725</td>\n",
       "      <td>0.034212</td>\n",
       "      <td>0.346456</td>\n",
       "      <td>NaN</td>\n",
       "      <td>NaN</td>\n",
       "      <td>NaN</td>\n",
       "      <td>NaN</td>\n",
       "      <td>0.309702</td>\n",
       "    </tr>\n",
       "    <tr>\n",
       "      <th>2</th>\n",
       "      <td>-0.124971</td>\n",
       "      <td>-0.032163</td>\n",
       "      <td>355.171989</td>\n",
       "      <td>-0.124971</td>\n",
       "      <td>-0.024409</td>\n",
       "      <td>0.007049</td>\n",
       "      <td>155.643000</td>\n",
       "      <td>-0.032111</td>\n",
       "      <td>0.718398</td>\n",
       "      <td>0.015851</td>\n",
       "      <td>...</td>\n",
       "      <td>0.718398</td>\n",
       "      <td>NaN</td>\n",
       "      <td>0.052984</td>\n",
       "      <td>-0.210434</td>\n",
       "      <td>0.059247</td>\n",
       "      <td>NaN</td>\n",
       "      <td>NaN</td>\n",
       "      <td>NaN</td>\n",
       "      <td>NaN</td>\n",
       "      <td>0.052962</td>\n",
       "    </tr>\n",
       "    <tr>\n",
       "      <th>3</th>\n",
       "      <td>0.295892</td>\n",
       "      <td>0.014507</td>\n",
       "      <td>297.550000</td>\n",
       "      <td>0.295892</td>\n",
       "      <td>-0.024409</td>\n",
       "      <td>0.011342</td>\n",
       "      <td>983.371000</td>\n",
       "      <td>-0.195318</td>\n",
       "      <td>0.014492</td>\n",
       "      <td>0.011574</td>\n",
       "      <td>...</td>\n",
       "      <td>0.014492</td>\n",
       "      <td>NaN</td>\n",
       "      <td>0.429201</td>\n",
       "      <td>0.064954</td>\n",
       "      <td>0.480110</td>\n",
       "      <td>NaN</td>\n",
       "      <td>NaN</td>\n",
       "      <td>NaN</td>\n",
       "      <td>NaN</td>\n",
       "      <td>0.429177</td>\n",
       "    </tr>\n",
       "    <tr>\n",
       "      <th>4</th>\n",
       "      <td>0.291333</td>\n",
       "      <td>0.120155</td>\n",
       "      <td>355.171989</td>\n",
       "      <td>0.291333</td>\n",
       "      <td>-0.024409</td>\n",
       "      <td>0.000816</td>\n",
       "      <td>1335.950000</td>\n",
       "      <td>0.127888</td>\n",
       "      <td>0.017799</td>\n",
       "      <td>0.049500</td>\n",
       "      <td>...</td>\n",
       "      <td>0.017799</td>\n",
       "      <td>NaN</td>\n",
       "      <td>0.425126</td>\n",
       "      <td>0.054196</td>\n",
       "      <td>0.475551</td>\n",
       "      <td>NaN</td>\n",
       "      <td>NaN</td>\n",
       "      <td>NaN</td>\n",
       "      <td>NaN</td>\n",
       "      <td>0.425102</td>\n",
       "    </tr>\n",
       "    <tr>\n",
       "      <th>...</th>\n",
       "      <td>...</td>\n",
       "      <td>...</td>\n",
       "      <td>...</td>\n",
       "      <td>...</td>\n",
       "      <td>...</td>\n",
       "      <td>...</td>\n",
       "      <td>...</td>\n",
       "      <td>...</td>\n",
       "      <td>...</td>\n",
       "      <td>...</td>\n",
       "      <td>...</td>\n",
       "      <td>...</td>\n",
       "      <td>...</td>\n",
       "      <td>...</td>\n",
       "      <td>...</td>\n",
       "      <td>...</td>\n",
       "      <td>...</td>\n",
       "      <td>...</td>\n",
       "      <td>...</td>\n",
       "      <td>...</td>\n",
       "      <td>...</td>\n",
       "    </tr>\n",
       "    <tr>\n",
       "      <th>4865</th>\n",
       "      <td>1.214180</td>\n",
       "      <td>0.000203</td>\n",
       "      <td>355.171989</td>\n",
       "      <td>1.214180</td>\n",
       "      <td>-0.024409</td>\n",
       "      <td>0.188106</td>\n",
       "      <td>93.839100</td>\n",
       "      <td>-0.080171</td>\n",
       "      <td>0.120456</td>\n",
       "      <td>0.027309</td>\n",
       "      <td>...</td>\n",
       "      <td>0.120456</td>\n",
       "      <td>16.592491</td>\n",
       "      <td>1.250075</td>\n",
       "      <td>0.125800</td>\n",
       "      <td>1.398398</td>\n",
       "      <td>20.660214</td>\n",
       "      <td>60.107510</td>\n",
       "      <td>-4.69315</td>\n",
       "      <td>21.019549</td>\n",
       "      <td>1.250047</td>\n",
       "    </tr>\n",
       "    <tr>\n",
       "      <th>4866</th>\n",
       "      <td>0.241307</td>\n",
       "      <td>-0.009328</td>\n",
       "      <td>265.409000</td>\n",
       "      <td>0.241307</td>\n",
       "      <td>-0.024409</td>\n",
       "      <td>0.024068</td>\n",
       "      <td>1455.480000</td>\n",
       "      <td>-0.002395</td>\n",
       "      <td>0.077556</td>\n",
       "      <td>0.015342</td>\n",
       "      <td>...</td>\n",
       "      <td>0.077556</td>\n",
       "      <td>16.592491</td>\n",
       "      <td>0.380407</td>\n",
       "      <td>0.047075</td>\n",
       "      <td>0.425525</td>\n",
       "      <td>20.660214</td>\n",
       "      <td>60.119862</td>\n",
       "      <td>-4.69315</td>\n",
       "      <td>21.019549</td>\n",
       "      <td>0.380383</td>\n",
       "    </tr>\n",
       "    <tr>\n",
       "      <th>4867</th>\n",
       "      <td>0.059374</td>\n",
       "      <td>0.000368</td>\n",
       "      <td>149.427000</td>\n",
       "      <td>0.059704</td>\n",
       "      <td>0.053108</td>\n",
       "      <td>0.157772</td>\n",
       "      <td>556.501000</td>\n",
       "      <td>0.008432</td>\n",
       "      <td>0.098049</td>\n",
       "      <td>0.018108</td>\n",
       "      <td>...</td>\n",
       "      <td>0.098049</td>\n",
       "      <td>16.592491</td>\n",
       "      <td>0.217773</td>\n",
       "      <td>0.015914</td>\n",
       "      <td>0.243922</td>\n",
       "      <td>20.660214</td>\n",
       "      <td>58.965386</td>\n",
       "      <td>-4.69315</td>\n",
       "      <td>21.019549</td>\n",
       "      <td>0.218046</td>\n",
       "    </tr>\n",
       "    <tr>\n",
       "      <th>4868</th>\n",
       "      <td>0.030130</td>\n",
       "      <td>0.116980</td>\n",
       "      <td>407.486000</td>\n",
       "      <td>0.030130</td>\n",
       "      <td>-0.024409</td>\n",
       "      <td>0.015821</td>\n",
       "      <td>507.555000</td>\n",
       "      <td>-0.031559</td>\n",
       "      <td>0.038023</td>\n",
       "      <td>0.019798</td>\n",
       "      <td>...</td>\n",
       "      <td>0.038023</td>\n",
       "      <td>16.592491</td>\n",
       "      <td>0.191632</td>\n",
       "      <td>0.007259</td>\n",
       "      <td>0.214348</td>\n",
       "      <td>20.660214</td>\n",
       "      <td>58.754209</td>\n",
       "      <td>-4.69315</td>\n",
       "      <td>21.019549</td>\n",
       "      <td>0.191609</td>\n",
       "    </tr>\n",
       "    <tr>\n",
       "      <th>4869</th>\n",
       "      <td>0.224337</td>\n",
       "      <td>-0.021187</td>\n",
       "      <td>355.171989</td>\n",
       "      <td>0.224337</td>\n",
       "      <td>0.001832</td>\n",
       "      <td>0.005384</td>\n",
       "      <td>518.519000</td>\n",
       "      <td>0.843541</td>\n",
       "      <td>0.009472</td>\n",
       "      <td>0.216431</td>\n",
       "      <td>...</td>\n",
       "      <td>0.009472</td>\n",
       "      <td>16.592491</td>\n",
       "      <td>0.365237</td>\n",
       "      <td>0.172229</td>\n",
       "      <td>0.408555</td>\n",
       "      <td>20.660214</td>\n",
       "      <td>58.918842</td>\n",
       "      <td>-4.69315</td>\n",
       "      <td>21.019549</td>\n",
       "      <td>0.365213</td>\n",
       "    </tr>\n",
       "  </tbody>\n",
       "</table>\n",
       "<p>4870 rows × 54 columns</p>\n",
       "</div>"
      ],
      "text/plain": [
       "      net_profit_to_total_operate_revenue_ttm  cfo_to_ev  \\\n",
       "0                                    0.210383   0.010993   \n",
       "1                                    0.162238   0.037012   \n",
       "2                                   -0.124971  -0.032163   \n",
       "3                                    0.295892   0.014507   \n",
       "4                                    0.291333   0.120155   \n",
       "...                                       ...        ...   \n",
       "4865                                 1.214180   0.000203   \n",
       "4866                                 0.241307  -0.009328   \n",
       "4867                                 0.059374   0.000368   \n",
       "4868                                 0.030130   0.116980   \n",
       "4869                                 0.224337  -0.021187   \n",
       "\n",
       "      accounts_payable_turnover_days  net_profit_ratio  \\\n",
       "0                         355.171989          0.210383   \n",
       "1                         557.149000          0.162238   \n",
       "2                         355.171989         -0.124971   \n",
       "3                         297.550000          0.295892   \n",
       "4                         355.171989          0.291333   \n",
       "...                              ...               ...   \n",
       "4865                      355.171989          1.214180   \n",
       "4866                      265.409000          0.241307   \n",
       "4867                      149.427000          0.059704   \n",
       "4868                      407.486000          0.030130   \n",
       "4869                      355.171989          0.224337   \n",
       "\n",
       "      net_non_operating_income_to_total_profit  fixed_asset_ratio  \\\n",
       "0                                     0.045073           0.002855   \n",
       "1                                    -0.028751           0.010612   \n",
       "2                                    -0.024409           0.007049   \n",
       "3                                    -0.024409           0.011342   \n",
       "4                                    -0.024409           0.000816   \n",
       "...                                        ...                ...   \n",
       "4865                                 -0.024409           0.188106   \n",
       "4866                                 -0.024409           0.024068   \n",
       "4867                                  0.053108           0.157772   \n",
       "4868                                 -0.024409           0.015821   \n",
       "4869                                  0.001832           0.005384   \n",
       "\n",
       "      account_receivable_turnover_days      DEGM  \\\n",
       "0                           757.257081 -0.003199   \n",
       "1                             9.442640  0.070566   \n",
       "2                           155.643000 -0.032111   \n",
       "3                           983.371000 -0.195318   \n",
       "4                          1335.950000  0.127888   \n",
       "...                                ...       ...   \n",
       "4865                         93.839100 -0.080171   \n",
       "4866                       1455.480000 -0.002395   \n",
       "4867                        556.501000  0.008432   \n",
       "4868                        507.555000 -0.031559   \n",
       "4869                        518.519000  0.843541   \n",
       "\n",
       "      sale_expense_to_operating_revenue  \\\n",
       "0                              0.120456   \n",
       "1                              0.025165   \n",
       "2                              0.718398   \n",
       "3                              0.014492   \n",
       "4                              0.017799   \n",
       "...                                 ...   \n",
       "4865                           0.120456   \n",
       "4866                           0.077556   \n",
       "4867                           0.098049   \n",
       "4868                           0.038023   \n",
       "4869                           0.009472   \n",
       "\n",
       "      operating_tax_to_operating_revenue_ratio_ttm  ...      单季SP      三个月换手  \\\n",
       "0                                         0.009428  ...  0.120456        NaN   \n",
       "1                                         0.087560  ...  0.025165        NaN   \n",
       "2                                         0.015851  ...  0.718398        NaN   \n",
       "3                                         0.011574  ...  0.014492        NaN   \n",
       "4                                         0.049500  ...  0.017799        NaN   \n",
       "...                                            ...  ...       ...        ...   \n",
       "4865                                      0.027309  ...  0.120456  16.592491   \n",
       "4866                                      0.015342  ...  0.077556  16.592491   \n",
       "4867                                      0.018108  ...  0.098049  16.592491   \n",
       "4868                                      0.019798  ...  0.038023  16.592491   \n",
       "4869                                      0.216431  ...  0.009472  16.592491   \n",
       "\n",
       "       标准化预期外收     单季ROA       特异度      三个月波动       一年动量    一个月反转      一个月波动  \\\n",
       "0     0.352763  0.007547  0.394601        NaN        NaN      NaN        NaN   \n",
       "1     0.309725  0.034212  0.346456        NaN        NaN      NaN        NaN   \n",
       "2     0.052984 -0.210434  0.059247        NaN        NaN      NaN        NaN   \n",
       "3     0.429201  0.064954  0.480110        NaN        NaN      NaN        NaN   \n",
       "4     0.425126  0.054196  0.475551        NaN        NaN      NaN        NaN   \n",
       "...        ...       ...       ...        ...        ...      ...        ...   \n",
       "4865  1.250075  0.125800  1.398398  20.660214  60.107510 -4.69315  21.019549   \n",
       "4866  0.380407  0.047075  0.425525  20.660214  60.119862 -4.69315  21.019549   \n",
       "4867  0.217773  0.015914  0.243922  20.660214  58.965386 -4.69315  21.019549   \n",
       "4868  0.191632  0.007259  0.214348  20.660214  58.754209 -4.69315  21.019549   \n",
       "4869  0.365237  0.172229  0.408555  20.660214  58.918842 -4.69315  21.019549   \n",
       "\n",
       "      标准化预期外盈利  \n",
       "0     0.352740  \n",
       "1     0.309702  \n",
       "2     0.052962  \n",
       "3     0.429177  \n",
       "4     0.425102  \n",
       "...        ...  \n",
       "4865  1.250047  \n",
       "4866  0.380383  \n",
       "4867  0.218046  \n",
       "4868  0.191609  \n",
       "4869  0.365213  \n",
       "\n",
       "[4870 rows x 54 columns]"
      ]
     },
     "execution_count": 12,
     "metadata": {},
     "output_type": "execute_result"
    }
   ],
   "source": [
    "merged_data"
   ]
  },
  {
   "cell_type": "code",
   "execution_count": 13,
   "metadata": {},
   "outputs": [
    {
     "name": "stdout",
     "output_type": "stream",
     "text": [
      "      net_profit_to_total_operate_revenue_ttm  cfo_to_ev  \\\n",
      "0                                    0.210383   0.010993   \n",
      "1                                    0.162238   0.037012   \n",
      "2                                   -0.124971  -0.032163   \n",
      "3                                    0.295892   0.014507   \n",
      "4                                    0.291333   0.120155   \n",
      "...                                       ...        ...   \n",
      "4865                                 1.214180   0.000203   \n",
      "4866                                 0.241307  -0.009328   \n",
      "4867                                 0.059374   0.000368   \n",
      "4868                                 0.030130   0.116980   \n",
      "4869                                 0.224337  -0.021187   \n",
      "\n",
      "      accounts_payable_turnover_days  net_profit_ratio  \\\n",
      "0                         355.171989          0.210383   \n",
      "1                         557.149000          0.162238   \n",
      "2                         355.171989         -0.124971   \n",
      "3                         297.550000          0.295892   \n",
      "4                         355.171989          0.291333   \n",
      "...                              ...               ...   \n",
      "4865                      355.171989          1.214180   \n",
      "4866                      265.409000          0.241307   \n",
      "4867                      149.427000          0.059704   \n",
      "4868                      407.486000          0.030130   \n",
      "4869                      355.171989          0.224337   \n",
      "\n",
      "      net_non_operating_income_to_total_profit  fixed_asset_ratio  \\\n",
      "0                                     0.045073           0.002855   \n",
      "1                                    -0.028751           0.010612   \n",
      "2                                    -0.024409           0.007049   \n",
      "3                                    -0.024409           0.011342   \n",
      "4                                    -0.024409           0.000816   \n",
      "...                                        ...                ...   \n",
      "4865                                 -0.024409           0.188106   \n",
      "4866                                 -0.024409           0.024068   \n",
      "4867                                  0.053108           0.157772   \n",
      "4868                                 -0.024409           0.015821   \n",
      "4869                                  0.001832           0.005384   \n",
      "\n",
      "      account_receivable_turnover_days      DEGM  \\\n",
      "0                           757.257081 -0.003199   \n",
      "1                             9.442640  0.070566   \n",
      "2                           155.643000 -0.032111   \n",
      "3                           983.371000 -0.195318   \n",
      "4                          1335.950000  0.127888   \n",
      "...                                ...       ...   \n",
      "4865                         93.839100 -0.080171   \n",
      "4866                       1455.480000 -0.002395   \n",
      "4867                        556.501000  0.008432   \n",
      "4868                        507.555000 -0.031559   \n",
      "4869                        518.519000  0.843541   \n",
      "\n",
      "      sale_expense_to_operating_revenue  \\\n",
      "0                              0.120456   \n",
      "1                              0.025165   \n",
      "2                              0.718398   \n",
      "3                              0.014492   \n",
      "4                              0.017799   \n",
      "...                                 ...   \n",
      "4865                           0.120456   \n",
      "4866                           0.077556   \n",
      "4867                           0.098049   \n",
      "4868                           0.038023   \n",
      "4869                           0.009472   \n",
      "\n",
      "      operating_tax_to_operating_revenue_ratio_ttm  ...      单季SP      三个月换手  \\\n",
      "0                                         0.009428  ...  0.120456  13.709178   \n",
      "1                                         0.087560  ...  0.025165  13.709178   \n",
      "2                                         0.015851  ...  0.718398  13.709178   \n",
      "3                                         0.011574  ...  0.014492  13.709178   \n",
      "4                                         0.049500  ...  0.017799  13.709178   \n",
      "...                                            ...  ...       ...        ...   \n",
      "4865                                      0.027309  ...  0.120456  16.592491   \n",
      "4866                                      0.015342  ...  0.077556  16.592491   \n",
      "4867                                      0.018108  ...  0.098049  16.592491   \n",
      "4868                                      0.019798  ...  0.038023  16.592491   \n",
      "4869                                      0.216431  ...  0.009472  16.592491   \n",
      "\n",
      "       标准化预期外收     单季ROA       特异度      三个月波动       一年动量     一个月反转      一个月波动  \\\n",
      "0     0.352763  0.007547  0.394601   9.519145 -47.915753  3.694719   9.712023   \n",
      "1     0.309725  0.034212  0.346456   9.519145 -47.915753  3.694719   9.712023   \n",
      "2     0.052984 -0.210434  0.059247   9.519145 -47.915753  3.694719   9.712023   \n",
      "3     0.429201  0.064954  0.480110   9.519145 -47.915753  3.694719   9.712023   \n",
      "4     0.425126  0.054196  0.475551   9.519145 -47.915753  3.694719   9.712023   \n",
      "...        ...       ...       ...        ...        ...       ...        ...   \n",
      "4865  1.250075  0.125800  1.398398  20.660214  60.107510 -4.693150  21.019549   \n",
      "4866  0.380407  0.047075  0.425525  20.660214  60.119862 -4.693150  21.019549   \n",
      "4867  0.217773  0.015914  0.243922  20.660214  58.965386 -4.693150  21.019549   \n",
      "4868  0.191632  0.007259  0.214348  20.660214  58.754209 -4.693150  21.019549   \n",
      "4869  0.365237  0.172229  0.408555  20.660214  58.918842 -4.693150  21.019549   \n",
      "\n",
      "      标准化预期外盈利  \n",
      "0     0.352740  \n",
      "1     0.309702  \n",
      "2     0.052962  \n",
      "3     0.429177  \n",
      "4     0.425102  \n",
      "...        ...  \n",
      "4865  1.250047  \n",
      "4866  0.380383  \n",
      "4867  0.218046  \n",
      "4868  0.191609  \n",
      "4869  0.365213  \n",
      "\n",
      "[4870 rows x 54 columns]\n"
     ]
    }
   ],
   "source": [
    "import pandas as pd\n",
    "import numpy as np\n",
    "\n",
    "# 假设 merged_data 是你的数据集\n",
    "# 先将 0 处理为 NaN，因为你希望把0视为缺失值一同处理\n",
    "merged_data.replace(0, np.nan, inplace=True)\n",
    "\n",
    "# 只选择数值型列，非数值型列将会被排除\n",
    "numeric_cols = merged_data.select_dtypes(include=[np.number]).columns\n",
    "\n",
    "# 对数值型列的 NaN 值使用该列的平均值进行填充\n",
    "merged_data[numeric_cols] = merged_data[numeric_cols].fillna(merged_data[numeric_cols].mean())\n",
    "\n",
    "# 检查替换结果\n",
    "print(merged_data)"
   ]
  },
  {
   "cell_type": "code",
   "execution_count": 14,
   "metadata": {},
   "outputs": [
    {
     "data": {
      "text/html": [
       "<div>\n",
       "<style scoped>\n",
       "    .dataframe tbody tr th:only-of-type {\n",
       "        vertical-align: middle;\n",
       "    }\n",
       "\n",
       "    .dataframe tbody tr th {\n",
       "        vertical-align: top;\n",
       "    }\n",
       "\n",
       "    .dataframe thead th {\n",
       "        text-align: right;\n",
       "    }\n",
       "</style>\n",
       "<table border=\"1\" class=\"dataframe\">\n",
       "  <thead>\n",
       "    <tr style=\"text-align: right;\">\n",
       "      <th></th>\n",
       "      <th>net_profit_to_total_operate_revenue_ttm</th>\n",
       "      <th>cfo_to_ev</th>\n",
       "      <th>accounts_payable_turnover_days</th>\n",
       "      <th>net_profit_ratio</th>\n",
       "      <th>net_non_operating_income_to_total_profit</th>\n",
       "      <th>fixed_asset_ratio</th>\n",
       "      <th>account_receivable_turnover_days</th>\n",
       "      <th>DEGM</th>\n",
       "      <th>sale_expense_to_operating_revenue</th>\n",
       "      <th>operating_tax_to_operating_revenue_ratio_ttm</th>\n",
       "      <th>...</th>\n",
       "      <th>单季SP</th>\n",
       "      <th>三个月换手</th>\n",
       "      <th>标准化预期外收</th>\n",
       "      <th>单季ROA</th>\n",
       "      <th>特异度</th>\n",
       "      <th>三个月波动</th>\n",
       "      <th>一年动量</th>\n",
       "      <th>一个月反转</th>\n",
       "      <th>一个月波动</th>\n",
       "      <th>标准化预期外盈利</th>\n",
       "    </tr>\n",
       "  </thead>\n",
       "  <tbody>\n",
       "    <tr>\n",
       "      <th>0</th>\n",
       "      <td>0.210383</td>\n",
       "      <td>0.010993</td>\n",
       "      <td>355.171989</td>\n",
       "      <td>0.210383</td>\n",
       "      <td>0.045073</td>\n",
       "      <td>0.002855</td>\n",
       "      <td>757.257081</td>\n",
       "      <td>-0.003199</td>\n",
       "      <td>0.120456</td>\n",
       "      <td>0.009428</td>\n",
       "      <td>...</td>\n",
       "      <td>0.120456</td>\n",
       "      <td>13.709178</td>\n",
       "      <td>0.352763</td>\n",
       "      <td>0.007547</td>\n",
       "      <td>0.394601</td>\n",
       "      <td>9.519145</td>\n",
       "      <td>-47.915753</td>\n",
       "      <td>3.694719</td>\n",
       "      <td>9.712023</td>\n",
       "      <td>0.352740</td>\n",
       "    </tr>\n",
       "    <tr>\n",
       "      <th>1</th>\n",
       "      <td>0.162238</td>\n",
       "      <td>0.037012</td>\n",
       "      <td>557.149000</td>\n",
       "      <td>0.162238</td>\n",
       "      <td>-0.028751</td>\n",
       "      <td>0.010612</td>\n",
       "      <td>9.442640</td>\n",
       "      <td>0.070566</td>\n",
       "      <td>0.025165</td>\n",
       "      <td>0.087560</td>\n",
       "      <td>...</td>\n",
       "      <td>0.025165</td>\n",
       "      <td>13.709178</td>\n",
       "      <td>0.309725</td>\n",
       "      <td>0.034212</td>\n",
       "      <td>0.346456</td>\n",
       "      <td>9.519145</td>\n",
       "      <td>-47.915753</td>\n",
       "      <td>3.694719</td>\n",
       "      <td>9.712023</td>\n",
       "      <td>0.309702</td>\n",
       "    </tr>\n",
       "    <tr>\n",
       "      <th>2</th>\n",
       "      <td>-0.124971</td>\n",
       "      <td>-0.032163</td>\n",
       "      <td>355.171989</td>\n",
       "      <td>-0.124971</td>\n",
       "      <td>-0.024409</td>\n",
       "      <td>0.007049</td>\n",
       "      <td>155.643000</td>\n",
       "      <td>-0.032111</td>\n",
       "      <td>0.718398</td>\n",
       "      <td>0.015851</td>\n",
       "      <td>...</td>\n",
       "      <td>0.718398</td>\n",
       "      <td>13.709178</td>\n",
       "      <td>0.052984</td>\n",
       "      <td>-0.210434</td>\n",
       "      <td>0.059247</td>\n",
       "      <td>9.519145</td>\n",
       "      <td>-47.915753</td>\n",
       "      <td>3.694719</td>\n",
       "      <td>9.712023</td>\n",
       "      <td>0.052962</td>\n",
       "    </tr>\n",
       "    <tr>\n",
       "      <th>3</th>\n",
       "      <td>0.295892</td>\n",
       "      <td>0.014507</td>\n",
       "      <td>297.550000</td>\n",
       "      <td>0.295892</td>\n",
       "      <td>-0.024409</td>\n",
       "      <td>0.011342</td>\n",
       "      <td>983.371000</td>\n",
       "      <td>-0.195318</td>\n",
       "      <td>0.014492</td>\n",
       "      <td>0.011574</td>\n",
       "      <td>...</td>\n",
       "      <td>0.014492</td>\n",
       "      <td>13.709178</td>\n",
       "      <td>0.429201</td>\n",
       "      <td>0.064954</td>\n",
       "      <td>0.480110</td>\n",
       "      <td>9.519145</td>\n",
       "      <td>-47.915753</td>\n",
       "      <td>3.694719</td>\n",
       "      <td>9.712023</td>\n",
       "      <td>0.429177</td>\n",
       "    </tr>\n",
       "    <tr>\n",
       "      <th>4</th>\n",
       "      <td>0.291333</td>\n",
       "      <td>0.120155</td>\n",
       "      <td>355.171989</td>\n",
       "      <td>0.291333</td>\n",
       "      <td>-0.024409</td>\n",
       "      <td>0.000816</td>\n",
       "      <td>1335.950000</td>\n",
       "      <td>0.127888</td>\n",
       "      <td>0.017799</td>\n",
       "      <td>0.049500</td>\n",
       "      <td>...</td>\n",
       "      <td>0.017799</td>\n",
       "      <td>13.709178</td>\n",
       "      <td>0.425126</td>\n",
       "      <td>0.054196</td>\n",
       "      <td>0.475551</td>\n",
       "      <td>9.519145</td>\n",
       "      <td>-47.915753</td>\n",
       "      <td>3.694719</td>\n",
       "      <td>9.712023</td>\n",
       "      <td>0.425102</td>\n",
       "    </tr>\n",
       "    <tr>\n",
       "      <th>...</th>\n",
       "      <td>...</td>\n",
       "      <td>...</td>\n",
       "      <td>...</td>\n",
       "      <td>...</td>\n",
       "      <td>...</td>\n",
       "      <td>...</td>\n",
       "      <td>...</td>\n",
       "      <td>...</td>\n",
       "      <td>...</td>\n",
       "      <td>...</td>\n",
       "      <td>...</td>\n",
       "      <td>...</td>\n",
       "      <td>...</td>\n",
       "      <td>...</td>\n",
       "      <td>...</td>\n",
       "      <td>...</td>\n",
       "      <td>...</td>\n",
       "      <td>...</td>\n",
       "      <td>...</td>\n",
       "      <td>...</td>\n",
       "      <td>...</td>\n",
       "    </tr>\n",
       "    <tr>\n",
       "      <th>4865</th>\n",
       "      <td>1.214180</td>\n",
       "      <td>0.000203</td>\n",
       "      <td>355.171989</td>\n",
       "      <td>1.214180</td>\n",
       "      <td>-0.024409</td>\n",
       "      <td>0.188106</td>\n",
       "      <td>93.839100</td>\n",
       "      <td>-0.080171</td>\n",
       "      <td>0.120456</td>\n",
       "      <td>0.027309</td>\n",
       "      <td>...</td>\n",
       "      <td>0.120456</td>\n",
       "      <td>16.592491</td>\n",
       "      <td>1.250075</td>\n",
       "      <td>0.125800</td>\n",
       "      <td>1.398398</td>\n",
       "      <td>20.660214</td>\n",
       "      <td>60.107510</td>\n",
       "      <td>-4.693150</td>\n",
       "      <td>21.019549</td>\n",
       "      <td>1.250047</td>\n",
       "    </tr>\n",
       "    <tr>\n",
       "      <th>4866</th>\n",
       "      <td>0.241307</td>\n",
       "      <td>-0.009328</td>\n",
       "      <td>265.409000</td>\n",
       "      <td>0.241307</td>\n",
       "      <td>-0.024409</td>\n",
       "      <td>0.024068</td>\n",
       "      <td>1455.480000</td>\n",
       "      <td>-0.002395</td>\n",
       "      <td>0.077556</td>\n",
       "      <td>0.015342</td>\n",
       "      <td>...</td>\n",
       "      <td>0.077556</td>\n",
       "      <td>16.592491</td>\n",
       "      <td>0.380407</td>\n",
       "      <td>0.047075</td>\n",
       "      <td>0.425525</td>\n",
       "      <td>20.660214</td>\n",
       "      <td>60.119862</td>\n",
       "      <td>-4.693150</td>\n",
       "      <td>21.019549</td>\n",
       "      <td>0.380383</td>\n",
       "    </tr>\n",
       "    <tr>\n",
       "      <th>4867</th>\n",
       "      <td>0.059374</td>\n",
       "      <td>0.000368</td>\n",
       "      <td>149.427000</td>\n",
       "      <td>0.059704</td>\n",
       "      <td>0.053108</td>\n",
       "      <td>0.157772</td>\n",
       "      <td>556.501000</td>\n",
       "      <td>0.008432</td>\n",
       "      <td>0.098049</td>\n",
       "      <td>0.018108</td>\n",
       "      <td>...</td>\n",
       "      <td>0.098049</td>\n",
       "      <td>16.592491</td>\n",
       "      <td>0.217773</td>\n",
       "      <td>0.015914</td>\n",
       "      <td>0.243922</td>\n",
       "      <td>20.660214</td>\n",
       "      <td>58.965386</td>\n",
       "      <td>-4.693150</td>\n",
       "      <td>21.019549</td>\n",
       "      <td>0.218046</td>\n",
       "    </tr>\n",
       "    <tr>\n",
       "      <th>4868</th>\n",
       "      <td>0.030130</td>\n",
       "      <td>0.116980</td>\n",
       "      <td>407.486000</td>\n",
       "      <td>0.030130</td>\n",
       "      <td>-0.024409</td>\n",
       "      <td>0.015821</td>\n",
       "      <td>507.555000</td>\n",
       "      <td>-0.031559</td>\n",
       "      <td>0.038023</td>\n",
       "      <td>0.019798</td>\n",
       "      <td>...</td>\n",
       "      <td>0.038023</td>\n",
       "      <td>16.592491</td>\n",
       "      <td>0.191632</td>\n",
       "      <td>0.007259</td>\n",
       "      <td>0.214348</td>\n",
       "      <td>20.660214</td>\n",
       "      <td>58.754209</td>\n",
       "      <td>-4.693150</td>\n",
       "      <td>21.019549</td>\n",
       "      <td>0.191609</td>\n",
       "    </tr>\n",
       "    <tr>\n",
       "      <th>4869</th>\n",
       "      <td>0.224337</td>\n",
       "      <td>-0.021187</td>\n",
       "      <td>355.171989</td>\n",
       "      <td>0.224337</td>\n",
       "      <td>0.001832</td>\n",
       "      <td>0.005384</td>\n",
       "      <td>518.519000</td>\n",
       "      <td>0.843541</td>\n",
       "      <td>0.009472</td>\n",
       "      <td>0.216431</td>\n",
       "      <td>...</td>\n",
       "      <td>0.009472</td>\n",
       "      <td>16.592491</td>\n",
       "      <td>0.365237</td>\n",
       "      <td>0.172229</td>\n",
       "      <td>0.408555</td>\n",
       "      <td>20.660214</td>\n",
       "      <td>58.918842</td>\n",
       "      <td>-4.693150</td>\n",
       "      <td>21.019549</td>\n",
       "      <td>0.365213</td>\n",
       "    </tr>\n",
       "  </tbody>\n",
       "</table>\n",
       "<p>4870 rows × 54 columns</p>\n",
       "</div>"
      ],
      "text/plain": [
       "      net_profit_to_total_operate_revenue_ttm  cfo_to_ev  \\\n",
       "0                                    0.210383   0.010993   \n",
       "1                                    0.162238   0.037012   \n",
       "2                                   -0.124971  -0.032163   \n",
       "3                                    0.295892   0.014507   \n",
       "4                                    0.291333   0.120155   \n",
       "...                                       ...        ...   \n",
       "4865                                 1.214180   0.000203   \n",
       "4866                                 0.241307  -0.009328   \n",
       "4867                                 0.059374   0.000368   \n",
       "4868                                 0.030130   0.116980   \n",
       "4869                                 0.224337  -0.021187   \n",
       "\n",
       "      accounts_payable_turnover_days  net_profit_ratio  \\\n",
       "0                         355.171989          0.210383   \n",
       "1                         557.149000          0.162238   \n",
       "2                         355.171989         -0.124971   \n",
       "3                         297.550000          0.295892   \n",
       "4                         355.171989          0.291333   \n",
       "...                              ...               ...   \n",
       "4865                      355.171989          1.214180   \n",
       "4866                      265.409000          0.241307   \n",
       "4867                      149.427000          0.059704   \n",
       "4868                      407.486000          0.030130   \n",
       "4869                      355.171989          0.224337   \n",
       "\n",
       "      net_non_operating_income_to_total_profit  fixed_asset_ratio  \\\n",
       "0                                     0.045073           0.002855   \n",
       "1                                    -0.028751           0.010612   \n",
       "2                                    -0.024409           0.007049   \n",
       "3                                    -0.024409           0.011342   \n",
       "4                                    -0.024409           0.000816   \n",
       "...                                        ...                ...   \n",
       "4865                                 -0.024409           0.188106   \n",
       "4866                                 -0.024409           0.024068   \n",
       "4867                                  0.053108           0.157772   \n",
       "4868                                 -0.024409           0.015821   \n",
       "4869                                  0.001832           0.005384   \n",
       "\n",
       "      account_receivable_turnover_days      DEGM  \\\n",
       "0                           757.257081 -0.003199   \n",
       "1                             9.442640  0.070566   \n",
       "2                           155.643000 -0.032111   \n",
       "3                           983.371000 -0.195318   \n",
       "4                          1335.950000  0.127888   \n",
       "...                                ...       ...   \n",
       "4865                         93.839100 -0.080171   \n",
       "4866                       1455.480000 -0.002395   \n",
       "4867                        556.501000  0.008432   \n",
       "4868                        507.555000 -0.031559   \n",
       "4869                        518.519000  0.843541   \n",
       "\n",
       "      sale_expense_to_operating_revenue  \\\n",
       "0                              0.120456   \n",
       "1                              0.025165   \n",
       "2                              0.718398   \n",
       "3                              0.014492   \n",
       "4                              0.017799   \n",
       "...                                 ...   \n",
       "4865                           0.120456   \n",
       "4866                           0.077556   \n",
       "4867                           0.098049   \n",
       "4868                           0.038023   \n",
       "4869                           0.009472   \n",
       "\n",
       "      operating_tax_to_operating_revenue_ratio_ttm  ...      单季SP      三个月换手  \\\n",
       "0                                         0.009428  ...  0.120456  13.709178   \n",
       "1                                         0.087560  ...  0.025165  13.709178   \n",
       "2                                         0.015851  ...  0.718398  13.709178   \n",
       "3                                         0.011574  ...  0.014492  13.709178   \n",
       "4                                         0.049500  ...  0.017799  13.709178   \n",
       "...                                            ...  ...       ...        ...   \n",
       "4865                                      0.027309  ...  0.120456  16.592491   \n",
       "4866                                      0.015342  ...  0.077556  16.592491   \n",
       "4867                                      0.018108  ...  0.098049  16.592491   \n",
       "4868                                      0.019798  ...  0.038023  16.592491   \n",
       "4869                                      0.216431  ...  0.009472  16.592491   \n",
       "\n",
       "       标准化预期外收     单季ROA       特异度      三个月波动       一年动量     一个月反转      一个月波动  \\\n",
       "0     0.352763  0.007547  0.394601   9.519145 -47.915753  3.694719   9.712023   \n",
       "1     0.309725  0.034212  0.346456   9.519145 -47.915753  3.694719   9.712023   \n",
       "2     0.052984 -0.210434  0.059247   9.519145 -47.915753  3.694719   9.712023   \n",
       "3     0.429201  0.064954  0.480110   9.519145 -47.915753  3.694719   9.712023   \n",
       "4     0.425126  0.054196  0.475551   9.519145 -47.915753  3.694719   9.712023   \n",
       "...        ...       ...       ...        ...        ...       ...        ...   \n",
       "4865  1.250075  0.125800  1.398398  20.660214  60.107510 -4.693150  21.019549   \n",
       "4866  0.380407  0.047075  0.425525  20.660214  60.119862 -4.693150  21.019549   \n",
       "4867  0.217773  0.015914  0.243922  20.660214  58.965386 -4.693150  21.019549   \n",
       "4868  0.191632  0.007259  0.214348  20.660214  58.754209 -4.693150  21.019549   \n",
       "4869  0.365237  0.172229  0.408555  20.660214  58.918842 -4.693150  21.019549   \n",
       "\n",
       "      标准化预期外盈利  \n",
       "0     0.352740  \n",
       "1     0.309702  \n",
       "2     0.052962  \n",
       "3     0.429177  \n",
       "4     0.425102  \n",
       "...        ...  \n",
       "4865  1.250047  \n",
       "4866  0.380383  \n",
       "4867  0.218046  \n",
       "4868  0.191609  \n",
       "4869  0.365213  \n",
       "\n",
       "[4870 rows x 54 columns]"
      ]
     },
     "execution_count": 14,
     "metadata": {},
     "output_type": "execute_result"
    }
   ],
   "source": [
    "merged_data"
   ]
  },
  {
   "cell_type": "code",
   "execution_count": 15,
   "metadata": {},
   "outputs": [
    {
     "name": "stdout",
     "output_type": "stream",
     "text": [
      "Index(['net_profit_to_total_operate_revenue_ttm', 'cfo_to_ev',\n",
      "       'accounts_payable_turnover_days', 'net_profit_ratio',\n",
      "       'net_non_operating_income_to_total_profit', 'fixed_asset_ratio',\n",
      "       'account_receivable_turnover_days', 'DEGM',\n",
      "       'sale_expense_to_operating_revenue',\n",
      "       'operating_tax_to_operating_revenue_ratio_ttm',\n",
      "       'inventory_turnover_days', 'OperatingCycle',\n",
      "       'net_operate_cash_flow_to_operate_income', 'quick_ratio',\n",
      "       'intangible_asset_ratio', 'MLEV', 'debt_to_equity_ratio',\n",
      "       'super_quick_ratio', 'inventory_turnover_rate',\n",
      "       'operating_profit_growth_rate', 'current_ratio',\n",
      "       'net_operate_cash_flow_to_net_debt', 'net_operate_cash_flow_to_asset',\n",
      "       'total_asset_turnover_rate', 'operating_profit_to_total_profit',\n",
      "       'roa_ttm', 'admin_expense_rate', 'equity_to_fixed_asset_ratio',\n",
      "       'net_operate_cash_flow_to_total_liability', 'cash_rate_of_sales',\n",
      "       'goods_service_cash_to_operating_revenue_ttm', 'date', 'stkcd', 'flag',\n",
      "       '单季EP', '三个月反转', '预期EPTTM', 'EPTTM一年分位点', 'EPTTM', '预期BP', 'BP',\n",
      "       'SPTTM', '非流动性冲击', '单季ROE', '单季SP', '三个月换手', '标准化预期外收', '单季ROA', '特异度',\n",
      "       '三个月波动', '一年动量', '一个月反转', '一个月波动', '标准化预期外盈利'],\n",
      "      dtype='object')\n"
     ]
    }
   ],
   "source": [
    "print(merged_data.columns)"
   ]
  },
  {
   "cell_type": "code",
   "execution_count": 21,
   "metadata": {},
   "outputs": [],
   "source": [
    "from deap import algorithms"
   ]
  },
  {
   "cell_type": "code",
   "execution_count": 22,
   "metadata": {},
   "outputs": [
    {
     "name": "stderr",
     "output_type": "stream",
     "text": [
      "/Users/zhangrui/opt/anaconda3/envs/suishi/lib/python3.8/site-packages/deap/creator.py:185: RuntimeWarning: A class named 'FitnessMax' has already been created and it will be overwritten. Consider deleting previous creation of that class or rename it.\n",
      "  warnings.warn(\"A class named '{0}' has already been created and it \"\n",
      "/Users/zhangrui/opt/anaconda3/envs/suishi/lib/python3.8/site-packages/deap/creator.py:185: RuntimeWarning: A class named 'Individual' has already been created and it will be overwritten. Consider deleting previous creation of that class or rename it.\n",
      "  warnings.warn(\"A class named '{0}' has already been created and it \"\n",
      "/Users/zhangrui/opt/anaconda3/envs/suishi/lib/python3.8/site-packages/scipy/stats/_stats_py.py:4916: ConstantInputWarning: An input array is constant; the correlation coefficient is not defined.\n",
      "  warnings.warn(stats.ConstantInputWarning(warn_msg))\n"
     ]
    },
    {
     "name": "stdout",
     "output_type": "stream",
     "text": [
      "Warning: No long or short positions taken after 5 adjustments.\n"
     ]
    },
    {
     "name": "stderr",
     "output_type": "stream",
     "text": [
      "<string>:1: RuntimeWarning: divide by zero encountered in divide\n",
      "/Users/zhangrui/opt/anaconda3/envs/suishi/lib/python3.8/site-packages/numpy/lib/function_base.py:4573: RuntimeWarning: invalid value encountered in subtract\n",
      "  diff_b_a = subtract(b, a)\n",
      "/Users/zhangrui/opt/anaconda3/envs/suishi/lib/python3.8/site-packages/numpy/core/_methods.py:215: RuntimeWarning: invalid value encountered in reduce\n",
      "  arrmean = umr_sum(arr, axis, dtype, keepdims=True, where=where)\n"
     ]
    },
    {
     "name": "stdout",
     "output_type": "stream",
     "text": [
      "Warning: No long or short positions taken after 5 adjustments.\n"
     ]
    },
    {
     "name": "stderr",
     "output_type": "stream",
     "text": [
      "/Users/zhangrui/opt/anaconda3/envs/suishi/lib/python3.8/site-packages/scipy/stats/_stats_py.py:4916: ConstantInputWarning: An input array is constant; the correlation coefficient is not defined.\n",
      "  warnings.warn(stats.ConstantInputWarning(warn_msg))\n"
     ]
    },
    {
     "name": "stdout",
     "output_type": "stream",
     "text": [
      "Warning: No long or short positions taken after 5 adjustments.\n"
     ]
    },
    {
     "name": "stderr",
     "output_type": "stream",
     "text": [
      "<string>:1: RuntimeWarning: divide by zero encountered in divide\n",
      "/Users/zhangrui/opt/anaconda3/envs/suishi/lib/python3.8/site-packages/scipy/stats/_stats_py.py:4916: ConstantInputWarning: An input array is constant; the correlation coefficient is not defined.\n",
      "  warnings.warn(stats.ConstantInputWarning(warn_msg))\n",
      "/Users/zhangrui/opt/anaconda3/envs/suishi/lib/python3.8/site-packages/numpy/lib/function_base.py:4573: RuntimeWarning: invalid value encountered in subtract\n",
      "  diff_b_a = subtract(b, a)\n",
      "/Users/zhangrui/opt/anaconda3/envs/suishi/lib/python3.8/site-packages/numpy/core/_methods.py:236: RuntimeWarning: invalid value encountered in subtract\n",
      "  x = asanyarray(arr - arrmean)\n"
     ]
    },
    {
     "name": "stdout",
     "output_type": "stream",
     "text": [
      "Warning: No long or short positions taken after 5 adjustments.\n",
      "Warning: No long or short positions taken after 5 adjustments.\n"
     ]
    },
    {
     "name": "stderr",
     "output_type": "stream",
     "text": [
      "/Users/zhangrui/opt/anaconda3/envs/suishi/lib/python3.8/site-packages/scipy/stats/_stats_py.py:4916: ConstantInputWarning: An input array is constant; the correlation coefficient is not defined.\n",
      "  warnings.warn(stats.ConstantInputWarning(warn_msg))\n",
      "/Users/zhangrui/opt/anaconda3/envs/suishi/lib/python3.8/site-packages/scipy/stats/_stats_py.py:4916: ConstantInputWarning: An input array is constant; the correlation coefficient is not defined.\n",
      "  warnings.warn(stats.ConstantInputWarning(warn_msg))\n"
     ]
    },
    {
     "name": "stdout",
     "output_type": "stream",
     "text": [
      "Warning: No long or short positions taken after 5 adjustments.\n",
      "gen\tnevals\tavg\tmin\tmax\n",
      "0  \t100   \tnan\tnan\tnan\n"
     ]
    },
    {
     "name": "stderr",
     "output_type": "stream",
     "text": [
      "/Users/zhangrui/opt/anaconda3/envs/suishi/lib/python3.8/site-packages/scipy/stats/_stats_py.py:4916: ConstantInputWarning: An input array is constant; the correlation coefficient is not defined.\n",
      "  warnings.warn(stats.ConstantInputWarning(warn_msg))\n",
      "/Users/zhangrui/opt/anaconda3/envs/suishi/lib/python3.8/site-packages/scipy/stats/_stats_py.py:4916: ConstantInputWarning: An input array is constant; the correlation coefficient is not defined.\n",
      "  warnings.warn(stats.ConstantInputWarning(warn_msg))\n"
     ]
    },
    {
     "name": "stdout",
     "output_type": "stream",
     "text": [
      "Warning: No long or short positions taken after 5 adjustments.\n",
      "Warning: No long or short positions taken after 5 adjustments.\n"
     ]
    },
    {
     "name": "stderr",
     "output_type": "stream",
     "text": [
      "/Users/zhangrui/opt/anaconda3/envs/suishi/lib/python3.8/site-packages/scipy/stats/_stats_py.py:4916: ConstantInputWarning: An input array is constant; the correlation coefficient is not defined.\n",
      "  warnings.warn(stats.ConstantInputWarning(warn_msg))\n"
     ]
    },
    {
     "name": "stdout",
     "output_type": "stream",
     "text": [
      "Warning: No long or short positions taken after 5 adjustments.\n"
     ]
    },
    {
     "name": "stderr",
     "output_type": "stream",
     "text": [
      "<string>:1: RuntimeWarning: divide by zero encountered in divide\n",
      "/Users/zhangrui/opt/anaconda3/envs/suishi/lib/python3.8/site-packages/scipy/stats/_stats_py.py:4916: ConstantInputWarning: An input array is constant; the correlation coefficient is not defined.\n",
      "  warnings.warn(stats.ConstantInputWarning(warn_msg))\n",
      "/Users/zhangrui/opt/anaconda3/envs/suishi/lib/python3.8/site-packages/numpy/lib/function_base.py:4573: RuntimeWarning: invalid value encountered in subtract\n",
      "  diff_b_a = subtract(b, a)\n",
      "/Users/zhangrui/opt/anaconda3/envs/suishi/lib/python3.8/site-packages/numpy/core/_methods.py:236: RuntimeWarning: invalid value encountered in subtract\n",
      "  x = asanyarray(arr - arrmean)\n"
     ]
    },
    {
     "name": "stdout",
     "output_type": "stream",
     "text": [
      "Warning: No long or short positions taken after 5 adjustments.\n"
     ]
    },
    {
     "name": "stderr",
     "output_type": "stream",
     "text": [
      "/Users/zhangrui/opt/anaconda3/envs/suishi/lib/python3.8/site-packages/scipy/stats/_stats_py.py:4916: ConstantInputWarning: An input array is constant; the correlation coefficient is not defined.\n",
      "  warnings.warn(stats.ConstantInputWarning(warn_msg))\n"
     ]
    },
    {
     "name": "stdout",
     "output_type": "stream",
     "text": [
      "Warning: No long or short positions taken after 5 adjustments.\n",
      "1  \t55    \tnan\tnan\tnan\n"
     ]
    },
    {
     "name": "stderr",
     "output_type": "stream",
     "text": [
      "<string>:1: RuntimeWarning: divide by zero encountered in divide\n",
      "/Users/zhangrui/opt/anaconda3/envs/suishi/lib/python3.8/site-packages/scipy/stats/_stats_py.py:4916: ConstantInputWarning: An input array is constant; the correlation coefficient is not defined.\n",
      "  warnings.warn(stats.ConstantInputWarning(warn_msg))\n",
      "/Users/zhangrui/opt/anaconda3/envs/suishi/lib/python3.8/site-packages/numpy/lib/function_base.py:4573: RuntimeWarning: invalid value encountered in subtract\n",
      "  diff_b_a = subtract(b, a)\n",
      "/Users/zhangrui/opt/anaconda3/envs/suishi/lib/python3.8/site-packages/numpy/core/_methods.py:236: RuntimeWarning: invalid value encountered in subtract\n",
      "  x = asanyarray(arr - arrmean)\n",
      "/Users/zhangrui/opt/anaconda3/envs/suishi/lib/python3.8/site-packages/scipy/stats/_stats_py.py:4916: ConstantInputWarning: An input array is constant; the correlation coefficient is not defined.\n",
      "  warnings.warn(stats.ConstantInputWarning(warn_msg))\n",
      "/Users/zhangrui/opt/anaconda3/envs/suishi/lib/python3.8/site-packages/scipy/stats/_stats_py.py:4916: ConstantInputWarning: An input array is constant; the correlation coefficient is not defined.\n",
      "  warnings.warn(stats.ConstantInputWarning(warn_msg))\n"
     ]
    },
    {
     "name": "stdout",
     "output_type": "stream",
     "text": [
      "Warning: No long or short positions taken after 5 adjustments.\n",
      "Warning: No long or short positions taken after 5 adjustments.\n",
      "Warning: No long or short positions taken after 5 adjustments.\n"
     ]
    },
    {
     "name": "stderr",
     "output_type": "stream",
     "text": [
      "<string>:1: RuntimeWarning: divide by zero encountered in divide\n",
      "/Users/zhangrui/opt/anaconda3/envs/suishi/lib/python3.8/site-packages/scipy/stats/_stats_py.py:4916: ConstantInputWarning: An input array is constant; the correlation coefficient is not defined.\n",
      "  warnings.warn(stats.ConstantInputWarning(warn_msg))\n",
      "/Users/zhangrui/opt/anaconda3/envs/suishi/lib/python3.8/site-packages/numpy/lib/function_base.py:4573: RuntimeWarning: invalid value encountered in subtract\n",
      "  diff_b_a = subtract(b, a)\n",
      "/Users/zhangrui/opt/anaconda3/envs/suishi/lib/python3.8/site-packages/numpy/core/_methods.py:236: RuntimeWarning: invalid value encountered in subtract\n",
      "  x = asanyarray(arr - arrmean)\n"
     ]
    },
    {
     "name": "stdout",
     "output_type": "stream",
     "text": [
      "Warning: No long or short positions taken after 5 adjustments.\n"
     ]
    },
    {
     "name": "stderr",
     "output_type": "stream",
     "text": [
      "/Users/zhangrui/opt/anaconda3/envs/suishi/lib/python3.8/site-packages/scipy/stats/_stats_py.py:4916: ConstantInputWarning: An input array is constant; the correlation coefficient is not defined.\n",
      "  warnings.warn(stats.ConstantInputWarning(warn_msg))\n"
     ]
    },
    {
     "name": "stdout",
     "output_type": "stream",
     "text": [
      "Warning: No long or short positions taken after 5 adjustments.\n",
      "2  \t59    \tnan\tnan\tnan\n"
     ]
    },
    {
     "name": "stderr",
     "output_type": "stream",
     "text": [
      "/Users/zhangrui/opt/anaconda3/envs/suishi/lib/python3.8/site-packages/scipy/stats/_stats_py.py:4916: ConstantInputWarning: An input array is constant; the correlation coefficient is not defined.\n",
      "  warnings.warn(stats.ConstantInputWarning(warn_msg))\n",
      "/Users/zhangrui/opt/anaconda3/envs/suishi/lib/python3.8/site-packages/scipy/stats/_stats_py.py:4916: ConstantInputWarning: An input array is constant; the correlation coefficient is not defined.\n",
      "  warnings.warn(stats.ConstantInputWarning(warn_msg))\n"
     ]
    },
    {
     "name": "stdout",
     "output_type": "stream",
     "text": [
      "Warning: No long or short positions taken after 5 adjustments.\n",
      "Warning: No long or short positions taken after 5 adjustments.\n"
     ]
    },
    {
     "name": "stderr",
     "output_type": "stream",
     "text": [
      "/Users/zhangrui/opt/anaconda3/envs/suishi/lib/python3.8/site-packages/scipy/stats/_stats_py.py:4916: ConstantInputWarning: An input array is constant; the correlation coefficient is not defined.\n",
      "  warnings.warn(stats.ConstantInputWarning(warn_msg))\n",
      "/Users/zhangrui/opt/anaconda3/envs/suishi/lib/python3.8/site-packages/scipy/stats/_stats_py.py:4916: ConstantInputWarning: An input array is constant; the correlation coefficient is not defined.\n",
      "  warnings.warn(stats.ConstantInputWarning(warn_msg))\n"
     ]
    },
    {
     "name": "stdout",
     "output_type": "stream",
     "text": [
      "Warning: No long or short positions taken after 5 adjustments.\n",
      "Warning: No long or short positions taken after 5 adjustments.\n"
     ]
    },
    {
     "name": "stderr",
     "output_type": "stream",
     "text": [
      "/Users/zhangrui/opt/anaconda3/envs/suishi/lib/python3.8/site-packages/scipy/stats/_stats_py.py:4916: ConstantInputWarning: An input array is constant; the correlation coefficient is not defined.\n",
      "  warnings.warn(stats.ConstantInputWarning(warn_msg))\n",
      "/Users/zhangrui/opt/anaconda3/envs/suishi/lib/python3.8/site-packages/scipy/stats/_stats_py.py:4916: ConstantInputWarning: An input array is constant; the correlation coefficient is not defined.\n",
      "  warnings.warn(stats.ConstantInputWarning(warn_msg))\n"
     ]
    },
    {
     "name": "stdout",
     "output_type": "stream",
     "text": [
      "Warning: No long or short positions taken after 5 adjustments.\n",
      "Warning: No long or short positions taken after 5 adjustments.\n",
      "3  \t59    \tnan\tnan\tnan\n"
     ]
    },
    {
     "name": "stderr",
     "output_type": "stream",
     "text": [
      "/Users/zhangrui/opt/anaconda3/envs/suishi/lib/python3.8/site-packages/scipy/stats/_stats_py.py:4916: ConstantInputWarning: An input array is constant; the correlation coefficient is not defined.\n",
      "  warnings.warn(stats.ConstantInputWarning(warn_msg))\n",
      "/Users/zhangrui/opt/anaconda3/envs/suishi/lib/python3.8/site-packages/scipy/stats/_stats_py.py:4916: ConstantInputWarning: An input array is constant; the correlation coefficient is not defined.\n",
      "  warnings.warn(stats.ConstantInputWarning(warn_msg))\n",
      "/Users/zhangrui/opt/anaconda3/envs/suishi/lib/python3.8/site-packages/scipy/stats/_stats_py.py:4916: ConstantInputWarning: An input array is constant; the correlation coefficient is not defined.\n",
      "  warnings.warn(stats.ConstantInputWarning(warn_msg))\n",
      "<string>:1: RuntimeWarning: divide by zero encountered in divide\n",
      "/Users/zhangrui/opt/anaconda3/envs/suishi/lib/python3.8/site-packages/scipy/stats/_stats_py.py:4916: ConstantInputWarning: An input array is constant; the correlation coefficient is not defined.\n",
      "  warnings.warn(stats.ConstantInputWarning(warn_msg))\n",
      "/Users/zhangrui/opt/anaconda3/envs/suishi/lib/python3.8/site-packages/numpy/lib/function_base.py:4573: RuntimeWarning: invalid value encountered in subtract\n",
      "  diff_b_a = subtract(b, a)\n",
      "/Users/zhangrui/opt/anaconda3/envs/suishi/lib/python3.8/site-packages/numpy/core/_methods.py:236: RuntimeWarning: invalid value encountered in subtract\n",
      "  x = asanyarray(arr - arrmean)\n"
     ]
    },
    {
     "name": "stdout",
     "output_type": "stream",
     "text": [
      "Warning: No long or short positions taken after 5 adjustments.\n",
      "Warning: No long or short positions taken after 5 adjustments.\n",
      "Warning: No long or short positions taken after 5 adjustments.\n",
      "Warning: No long or short positions taken after 5 adjustments.\n"
     ]
    },
    {
     "name": "stderr",
     "output_type": "stream",
     "text": [
      "/Users/zhangrui/opt/anaconda3/envs/suishi/lib/python3.8/site-packages/scipy/stats/_stats_py.py:4916: ConstantInputWarning: An input array is constant; the correlation coefficient is not defined.\n",
      "  warnings.warn(stats.ConstantInputWarning(warn_msg))\n",
      "<string>:1: RuntimeWarning: divide by zero encountered in divide\n"
     ]
    },
    {
     "name": "stdout",
     "output_type": "stream",
     "text": [
      "Warning: No long or short positions taken after 5 adjustments.\n"
     ]
    },
    {
     "name": "stderr",
     "output_type": "stream",
     "text": [
      "/Users/zhangrui/opt/anaconda3/envs/suishi/lib/python3.8/site-packages/scipy/stats/_stats_py.py:4916: ConstantInputWarning: An input array is constant; the correlation coefficient is not defined.\n",
      "  warnings.warn(stats.ConstantInputWarning(warn_msg))\n",
      "/Users/zhangrui/opt/anaconda3/envs/suishi/lib/python3.8/site-packages/numpy/lib/function_base.py:4573: RuntimeWarning: invalid value encountered in subtract\n",
      "  diff_b_a = subtract(b, a)\n",
      "/Users/zhangrui/opt/anaconda3/envs/suishi/lib/python3.8/site-packages/numpy/core/_methods.py:236: RuntimeWarning: invalid value encountered in subtract\n",
      "  x = asanyarray(arr - arrmean)\n",
      "/Users/zhangrui/opt/anaconda3/envs/suishi/lib/python3.8/site-packages/scipy/stats/_stats_py.py:4916: ConstantInputWarning: An input array is constant; the correlation coefficient is not defined.\n",
      "  warnings.warn(stats.ConstantInputWarning(warn_msg))\n"
     ]
    },
    {
     "name": "stdout",
     "output_type": "stream",
     "text": [
      "Warning: No long or short positions taken after 5 adjustments.\n",
      "Warning: No long or short positions taken after 5 adjustments.\n"
     ]
    },
    {
     "name": "stderr",
     "output_type": "stream",
     "text": [
      "<string>:1: RuntimeWarning: divide by zero encountered in divide\n",
      "/Users/zhangrui/opt/anaconda3/envs/suishi/lib/python3.8/site-packages/scipy/stats/_stats_py.py:4916: ConstantInputWarning: An input array is constant; the correlation coefficient is not defined.\n",
      "  warnings.warn(stats.ConstantInputWarning(warn_msg))\n",
      "/Users/zhangrui/opt/anaconda3/envs/suishi/lib/python3.8/site-packages/numpy/lib/function_base.py:4573: RuntimeWarning: invalid value encountered in subtract\n",
      "  diff_b_a = subtract(b, a)\n",
      "/Users/zhangrui/opt/anaconda3/envs/suishi/lib/python3.8/site-packages/numpy/core/_methods.py:236: RuntimeWarning: invalid value encountered in subtract\n",
      "  x = asanyarray(arr - arrmean)\n"
     ]
    },
    {
     "name": "stdout",
     "output_type": "stream",
     "text": [
      "Warning: No long or short positions taken after 5 adjustments.\n",
      "4  \t56    \tnan\tnan\tnan\n"
     ]
    },
    {
     "name": "stderr",
     "output_type": "stream",
     "text": [
      "/Users/zhangrui/opt/anaconda3/envs/suishi/lib/python3.8/site-packages/scipy/stats/_stats_py.py:4916: ConstantInputWarning: An input array is constant; the correlation coefficient is not defined.\n",
      "  warnings.warn(stats.ConstantInputWarning(warn_msg))\n"
     ]
    },
    {
     "name": "stdout",
     "output_type": "stream",
     "text": [
      "Warning: No long or short positions taken after 5 adjustments.\n"
     ]
    },
    {
     "name": "stderr",
     "output_type": "stream",
     "text": [
      "<string>:1: RuntimeWarning: divide by zero encountered in divide\n",
      "/Users/zhangrui/opt/anaconda3/envs/suishi/lib/python3.8/site-packages/numpy/lib/function_base.py:4573: RuntimeWarning: invalid value encountered in subtract\n",
      "  diff_b_a = subtract(b, a)\n",
      "/Users/zhangrui/opt/anaconda3/envs/suishi/lib/python3.8/site-packages/numpy/core/_methods.py:215: RuntimeWarning: invalid value encountered in reduce\n",
      "  arrmean = umr_sum(arr, axis, dtype, keepdims=True, where=where)\n"
     ]
    },
    {
     "name": "stdout",
     "output_type": "stream",
     "text": [
      "Warning: No long or short positions taken after 5 adjustments.\n"
     ]
    },
    {
     "name": "stderr",
     "output_type": "stream",
     "text": [
      "<string>:1: RuntimeWarning: divide by zero encountered in divide\n",
      "/Users/zhangrui/opt/anaconda3/envs/suishi/lib/python3.8/site-packages/scipy/stats/_stats_py.py:4916: ConstantInputWarning: An input array is constant; the correlation coefficient is not defined.\n",
      "  warnings.warn(stats.ConstantInputWarning(warn_msg))\n",
      "/Users/zhangrui/opt/anaconda3/envs/suishi/lib/python3.8/site-packages/numpy/lib/function_base.py:4573: RuntimeWarning: invalid value encountered in subtract\n",
      "  diff_b_a = subtract(b, a)\n",
      "/Users/zhangrui/opt/anaconda3/envs/suishi/lib/python3.8/site-packages/numpy/core/_methods.py:236: RuntimeWarning: invalid value encountered in subtract\n",
      "  x = asanyarray(arr - arrmean)\n",
      "<string>:1: RuntimeWarning: divide by zero encountered in divide\n",
      "/Users/zhangrui/opt/anaconda3/envs/suishi/lib/python3.8/site-packages/scipy/stats/_stats_py.py:4916: ConstantInputWarning: An input array is constant; the correlation coefficient is not defined.\n",
      "  warnings.warn(stats.ConstantInputWarning(warn_msg))\n",
      "/Users/zhangrui/opt/anaconda3/envs/suishi/lib/python3.8/site-packages/numpy/lib/function_base.py:4573: RuntimeWarning: invalid value encountered in subtract\n",
      "  diff_b_a = subtract(b, a)\n",
      "/Users/zhangrui/opt/anaconda3/envs/suishi/lib/python3.8/site-packages/numpy/core/_methods.py:236: RuntimeWarning: invalid value encountered in subtract\n",
      "  x = asanyarray(arr - arrmean)\n"
     ]
    },
    {
     "name": "stdout",
     "output_type": "stream",
     "text": [
      "Warning: No long or short positions taken after 5 adjustments.\n",
      "Warning: No long or short positions taken after 5 adjustments.\n",
      "5  \t72    \tnan\tnan\tnan\n"
     ]
    },
    {
     "name": "stderr",
     "output_type": "stream",
     "text": [
      "/Users/zhangrui/opt/anaconda3/envs/suishi/lib/python3.8/site-packages/scipy/stats/_stats_py.py:4916: ConstantInputWarning: An input array is constant; the correlation coefficient is not defined.\n",
      "  warnings.warn(stats.ConstantInputWarning(warn_msg))\n",
      "/Users/zhangrui/opt/anaconda3/envs/suishi/lib/python3.8/site-packages/scipy/stats/_stats_py.py:4916: ConstantInputWarning: An input array is constant; the correlation coefficient is not defined.\n",
      "  warnings.warn(stats.ConstantInputWarning(warn_msg))\n"
     ]
    },
    {
     "name": "stdout",
     "output_type": "stream",
     "text": [
      "Warning: No long or short positions taken after 5 adjustments.\n",
      "Warning: No long or short positions taken after 5 adjustments.\n"
     ]
    },
    {
     "name": "stderr",
     "output_type": "stream",
     "text": [
      "/Users/zhangrui/opt/anaconda3/envs/suishi/lib/python3.8/site-packages/scipy/stats/_stats_py.py:4916: ConstantInputWarning: An input array is constant; the correlation coefficient is not defined.\n",
      "  warnings.warn(stats.ConstantInputWarning(warn_msg))\n"
     ]
    },
    {
     "name": "stdout",
     "output_type": "stream",
     "text": [
      "Warning: No long or short positions taken after 5 adjustments.\n"
     ]
    },
    {
     "name": "stderr",
     "output_type": "stream",
     "text": [
      "<string>:1: RuntimeWarning: divide by zero encountered in divide\n",
      "/Users/zhangrui/opt/anaconda3/envs/suishi/lib/python3.8/site-packages/numpy/lib/function_base.py:4573: RuntimeWarning: invalid value encountered in subtract\n",
      "  diff_b_a = subtract(b, a)\n",
      "/Users/zhangrui/opt/anaconda3/envs/suishi/lib/python3.8/site-packages/numpy/core/_methods.py:215: RuntimeWarning: invalid value encountered in reduce\n",
      "  arrmean = umr_sum(arr, axis, dtype, keepdims=True, where=where)\n",
      "/Users/zhangrui/opt/anaconda3/envs/suishi/lib/python3.8/site-packages/scipy/stats/_stats_py.py:4916: ConstantInputWarning: An input array is constant; the correlation coefficient is not defined.\n",
      "  warnings.warn(stats.ConstantInputWarning(warn_msg))\n"
     ]
    },
    {
     "name": "stdout",
     "output_type": "stream",
     "text": [
      "Warning: No long or short positions taken after 5 adjustments.\n",
      "Warning: No long or short positions taken after 5 adjustments.\n",
      "6  \t69    \tnan\tnan\tnan\n",
      "Warning: No long or short positions taken after 5 adjustments.\n"
     ]
    },
    {
     "name": "stderr",
     "output_type": "stream",
     "text": [
      "/Users/zhangrui/opt/anaconda3/envs/suishi/lib/python3.8/site-packages/scipy/stats/_stats_py.py:4916: ConstantInputWarning: An input array is constant; the correlation coefficient is not defined.\n",
      "  warnings.warn(stats.ConstantInputWarning(warn_msg))\n",
      "/Users/zhangrui/opt/anaconda3/envs/suishi/lib/python3.8/site-packages/scipy/stats/_stats_py.py:4916: ConstantInputWarning: An input array is constant; the correlation coefficient is not defined.\n",
      "  warnings.warn(stats.ConstantInputWarning(warn_msg))\n"
     ]
    },
    {
     "name": "stdout",
     "output_type": "stream",
     "text": [
      "Warning: No long or short positions taken after 5 adjustments.\n"
     ]
    },
    {
     "name": "stderr",
     "output_type": "stream",
     "text": [
      "/Users/zhangrui/opt/anaconda3/envs/suishi/lib/python3.8/site-packages/scipy/stats/_stats_py.py:4916: ConstantInputWarning: An input array is constant; the correlation coefficient is not defined.\n",
      "  warnings.warn(stats.ConstantInputWarning(warn_msg))\n",
      "/Users/zhangrui/opt/anaconda3/envs/suishi/lib/python3.8/site-packages/scipy/stats/_stats_py.py:4916: ConstantInputWarning: An input array is constant; the correlation coefficient is not defined.\n",
      "  warnings.warn(stats.ConstantInputWarning(warn_msg))\n"
     ]
    },
    {
     "name": "stdout",
     "output_type": "stream",
     "text": [
      "Warning: No long or short positions taken after 5 adjustments.\n",
      "Warning: No long or short positions taken after 5 adjustments.\n",
      "Warning: No long or short positions taken after 5 adjustments.\n",
      "Warning: No long or short positions taken after 5 adjustments.\n"
     ]
    },
    {
     "name": "stderr",
     "output_type": "stream",
     "text": [
      "/Users/zhangrui/opt/anaconda3/envs/suishi/lib/python3.8/site-packages/scipy/stats/_stats_py.py:4916: ConstantInputWarning: An input array is constant; the correlation coefficient is not defined.\n",
      "  warnings.warn(stats.ConstantInputWarning(warn_msg))\n",
      "/Users/zhangrui/opt/anaconda3/envs/suishi/lib/python3.8/site-packages/scipy/stats/_stats_py.py:4916: ConstantInputWarning: An input array is constant; the correlation coefficient is not defined.\n",
      "  warnings.warn(stats.ConstantInputWarning(warn_msg))\n",
      "/Users/zhangrui/opt/anaconda3/envs/suishi/lib/python3.8/site-packages/scipy/stats/_stats_py.py:4916: ConstantInputWarning: An input array is constant; the correlation coefficient is not defined.\n",
      "  warnings.warn(stats.ConstantInputWarning(warn_msg))\n"
     ]
    },
    {
     "name": "stdout",
     "output_type": "stream",
     "text": [
      "Warning: No long or short positions taken after 5 adjustments.\n",
      "7  \t56    \tnan\tnan\tnan\n",
      "Warning: No long or short positions taken after 5 adjustments.\n"
     ]
    },
    {
     "name": "stderr",
     "output_type": "stream",
     "text": [
      "/Users/zhangrui/opt/anaconda3/envs/suishi/lib/python3.8/site-packages/scipy/stats/_stats_py.py:4916: ConstantInputWarning: An input array is constant; the correlation coefficient is not defined.\n",
      "  warnings.warn(stats.ConstantInputWarning(warn_msg))\n"
     ]
    },
    {
     "name": "stdout",
     "output_type": "stream",
     "text": [
      "Warning: No long or short positions taken after 5 adjustments.\n"
     ]
    },
    {
     "name": "stderr",
     "output_type": "stream",
     "text": [
      "/Users/zhangrui/opt/anaconda3/envs/suishi/lib/python3.8/site-packages/scipy/stats/_stats_py.py:4916: ConstantInputWarning: An input array is constant; the correlation coefficient is not defined.\n",
      "  warnings.warn(stats.ConstantInputWarning(warn_msg))\n"
     ]
    },
    {
     "name": "stdout",
     "output_type": "stream",
     "text": [
      "Warning: No long or short positions taken after 5 adjustments.\n"
     ]
    },
    {
     "name": "stderr",
     "output_type": "stream",
     "text": [
      "/Users/zhangrui/opt/anaconda3/envs/suishi/lib/python3.8/site-packages/scipy/stats/_stats_py.py:4916: ConstantInputWarning: An input array is constant; the correlation coefficient is not defined.\n",
      "  warnings.warn(stats.ConstantInputWarning(warn_msg))\n"
     ]
    },
    {
     "name": "stdout",
     "output_type": "stream",
     "text": [
      "Warning: No long or short positions taken after 5 adjustments.\n",
      "8  \t62    \tnan\tnan\tnan\n",
      "9  \t52    \tnan\tnan\tnan\n",
      "Warning: No long or short positions taken after 5 adjustments.\n",
      "Warning: No long or short positions taken after 5 adjustments.\n"
     ]
    },
    {
     "name": "stderr",
     "output_type": "stream",
     "text": [
      "/Users/zhangrui/opt/anaconda3/envs/suishi/lib/python3.8/site-packages/scipy/stats/_stats_py.py:4916: ConstantInputWarning: An input array is constant; the correlation coefficient is not defined.\n",
      "  warnings.warn(stats.ConstantInputWarning(warn_msg))\n",
      "/Users/zhangrui/opt/anaconda3/envs/suishi/lib/python3.8/site-packages/scipy/stats/_stats_py.py:4916: ConstantInputWarning: An input array is constant; the correlation coefficient is not defined.\n",
      "  warnings.warn(stats.ConstantInputWarning(warn_msg))\n",
      "/Users/zhangrui/opt/anaconda3/envs/suishi/lib/python3.8/site-packages/scipy/stats/_stats_py.py:4916: ConstantInputWarning: An input array is constant; the correlation coefficient is not defined.\n",
      "  warnings.warn(stats.ConstantInputWarning(warn_msg))\n",
      "/Users/zhangrui/opt/anaconda3/envs/suishi/lib/python3.8/site-packages/scipy/stats/_stats_py.py:4916: ConstantInputWarning: An input array is constant; the correlation coefficient is not defined.\n",
      "  warnings.warn(stats.ConstantInputWarning(warn_msg))\n"
     ]
    },
    {
     "name": "stdout",
     "output_type": "stream",
     "text": [
      "Warning: No long or short positions taken after 5 adjustments.\n",
      "Warning: No long or short positions taken after 5 adjustments.\n"
     ]
    },
    {
     "name": "stderr",
     "output_type": "stream",
     "text": [
      "/Users/zhangrui/opt/anaconda3/envs/suishi/lib/python3.8/site-packages/scipy/stats/_stats_py.py:4916: ConstantInputWarning: An input array is constant; the correlation coefficient is not defined.\n",
      "  warnings.warn(stats.ConstantInputWarning(warn_msg))\n",
      "/Users/zhangrui/opt/anaconda3/envs/suishi/lib/python3.8/site-packages/scipy/stats/_stats_py.py:4916: ConstantInputWarning: An input array is constant; the correlation coefficient is not defined.\n",
      "  warnings.warn(stats.ConstantInputWarning(warn_msg))\n"
     ]
    },
    {
     "name": "stdout",
     "output_type": "stream",
     "text": [
      "Warning: No long or short positions taken after 5 adjustments.\n",
      "Warning: No long or short positions taken after 5 adjustments.\n"
     ]
    },
    {
     "name": "stderr",
     "output_type": "stream",
     "text": [
      "/Users/zhangrui/opt/anaconda3/envs/suishi/lib/python3.8/site-packages/scipy/stats/_stats_py.py:4916: ConstantInputWarning: An input array is constant; the correlation coefficient is not defined.\n",
      "  warnings.warn(stats.ConstantInputWarning(warn_msg))\n"
     ]
    },
    {
     "name": "stdout",
     "output_type": "stream",
     "text": [
      "Warning: No long or short positions taken after 5 adjustments.\n"
     ]
    },
    {
     "name": "stderr",
     "output_type": "stream",
     "text": [
      "/Users/zhangrui/opt/anaconda3/envs/suishi/lib/python3.8/site-packages/scipy/stats/_stats_py.py:4916: ConstantInputWarning: An input array is constant; the correlation coefficient is not defined.\n",
      "  warnings.warn(stats.ConstantInputWarning(warn_msg))\n"
     ]
    },
    {
     "name": "stdout",
     "output_type": "stream",
     "text": [
      "Warning: No long or short positions taken after 5 adjustments.\n",
      "10 \t67    \tnan\tnan\tnan\n"
     ]
    },
    {
     "name": "stderr",
     "output_type": "stream",
     "text": [
      "<string>:1: RuntimeWarning: divide by zero encountered in divide\n",
      "/Users/zhangrui/opt/anaconda3/envs/suishi/lib/python3.8/site-packages/numpy/lib/function_base.py:4573: RuntimeWarning: invalid value encountered in subtract\n",
      "  diff_b_a = subtract(b, a)\n",
      "/Users/zhangrui/opt/anaconda3/envs/suishi/lib/python3.8/site-packages/numpy/core/_methods.py:215: RuntimeWarning: invalid value encountered in reduce\n",
      "  arrmean = umr_sum(arr, axis, dtype, keepdims=True, where=where)\n"
     ]
    },
    {
     "name": "stdout",
     "output_type": "stream",
     "text": [
      "Warning: No long or short positions taken after 5 adjustments.\n",
      "11 \t57    \tnan\tnan\tnan\n"
     ]
    },
    {
     "name": "stderr",
     "output_type": "stream",
     "text": [
      "<string>:1: RuntimeWarning: divide by zero encountered in divide\n",
      "/Users/zhangrui/opt/anaconda3/envs/suishi/lib/python3.8/site-packages/numpy/lib/function_base.py:4573: RuntimeWarning: invalid value encountered in subtract\n",
      "  diff_b_a = subtract(b, a)\n",
      "/Users/zhangrui/opt/anaconda3/envs/suishi/lib/python3.8/site-packages/numpy/core/_methods.py:215: RuntimeWarning: invalid value encountered in reduce\n",
      "  arrmean = umr_sum(arr, axis, dtype, keepdims=True, where=where)\n"
     ]
    },
    {
     "name": "stdout",
     "output_type": "stream",
     "text": [
      "Warning: No long or short positions taken after 5 adjustments.\n"
     ]
    },
    {
     "name": "stderr",
     "output_type": "stream",
     "text": [
      "/Users/zhangrui/opt/anaconda3/envs/suishi/lib/python3.8/site-packages/scipy/stats/_stats_py.py:4916: ConstantInputWarning: An input array is constant; the correlation coefficient is not defined.\n",
      "  warnings.warn(stats.ConstantInputWarning(warn_msg))\n",
      "<string>:1: RuntimeWarning: divide by zero encountered in divide\n",
      "/Users/zhangrui/opt/anaconda3/envs/suishi/lib/python3.8/site-packages/numpy/lib/function_base.py:4573: RuntimeWarning: invalid value encountered in subtract\n",
      "  diff_b_a = subtract(b, a)\n",
      "/Users/zhangrui/opt/anaconda3/envs/suishi/lib/python3.8/site-packages/numpy/core/_methods.py:215: RuntimeWarning: invalid value encountered in reduce\n",
      "  arrmean = umr_sum(arr, axis, dtype, keepdims=True, where=where)\n"
     ]
    },
    {
     "name": "stdout",
     "output_type": "stream",
     "text": [
      "Warning: No long or short positions taken after 5 adjustments.\n",
      "Warning: No long or short positions taken after 5 adjustments.\n"
     ]
    },
    {
     "name": "stderr",
     "output_type": "stream",
     "text": [
      "<string>:1: RuntimeWarning: divide by zero encountered in divide\n",
      "/Users/zhangrui/opt/anaconda3/envs/suishi/lib/python3.8/site-packages/numpy/lib/function_base.py:4573: RuntimeWarning: invalid value encountered in subtract\n",
      "  diff_b_a = subtract(b, a)\n",
      "/Users/zhangrui/opt/anaconda3/envs/suishi/lib/python3.8/site-packages/numpy/core/_methods.py:215: RuntimeWarning: invalid value encountered in reduce\n",
      "  arrmean = umr_sum(arr, axis, dtype, keepdims=True, where=where)\n",
      "<string>:1: RuntimeWarning: divide by zero encountered in divide\n",
      "/Users/zhangrui/opt/anaconda3/envs/suishi/lib/python3.8/site-packages/numpy/lib/function_base.py:4573: RuntimeWarning: invalid value encountered in subtract\n",
      "  diff_b_a = subtract(b, a)\n",
      "/Users/zhangrui/opt/anaconda3/envs/suishi/lib/python3.8/site-packages/numpy/core/_methods.py:215: RuntimeWarning: invalid value encountered in reduce\n",
      "  arrmean = umr_sum(arr, axis, dtype, keepdims=True, where=where)\n"
     ]
    },
    {
     "name": "stdout",
     "output_type": "stream",
     "text": [
      "Warning: No long or short positions taken after 5 adjustments.\n",
      "Warning: No long or short positions taken after 5 adjustments.\n"
     ]
    },
    {
     "name": "stderr",
     "output_type": "stream",
     "text": [
      "/Users/zhangrui/opt/anaconda3/envs/suishi/lib/python3.8/site-packages/scipy/stats/_stats_py.py:4916: ConstantInputWarning: An input array is constant; the correlation coefficient is not defined.\n",
      "  warnings.warn(stats.ConstantInputWarning(warn_msg))\n"
     ]
    },
    {
     "name": "stdout",
     "output_type": "stream",
     "text": [
      "Warning: No long or short positions taken after 5 adjustments.\n",
      "12 \t68    \tnan\tnan\tnan\n"
     ]
    },
    {
     "name": "stderr",
     "output_type": "stream",
     "text": [
      "<string>:1: RuntimeWarning: divide by zero encountered in divide\n",
      "/Users/zhangrui/opt/anaconda3/envs/suishi/lib/python3.8/site-packages/numpy/lib/function_base.py:4573: RuntimeWarning: invalid value encountered in subtract\n",
      "  diff_b_a = subtract(b, a)\n",
      "/Users/zhangrui/opt/anaconda3/envs/suishi/lib/python3.8/site-packages/numpy/core/_methods.py:215: RuntimeWarning: invalid value encountered in reduce\n",
      "  arrmean = umr_sum(arr, axis, dtype, keepdims=True, where=where)\n"
     ]
    },
    {
     "name": "stdout",
     "output_type": "stream",
     "text": [
      "Warning: No long or short positions taken after 5 adjustments.\n"
     ]
    },
    {
     "name": "stderr",
     "output_type": "stream",
     "text": [
      "<string>:1: RuntimeWarning: divide by zero encountered in divide\n",
      "/Users/zhangrui/opt/anaconda3/envs/suishi/lib/python3.8/site-packages/numpy/lib/function_base.py:4573: RuntimeWarning: invalid value encountered in subtract\n",
      "  diff_b_a = subtract(b, a)\n",
      "/Users/zhangrui/opt/anaconda3/envs/suishi/lib/python3.8/site-packages/numpy/core/_methods.py:215: RuntimeWarning: invalid value encountered in reduce\n",
      "  arrmean = umr_sum(arr, axis, dtype, keepdims=True, where=where)\n"
     ]
    },
    {
     "name": "stdout",
     "output_type": "stream",
     "text": [
      "Warning: No long or short positions taken after 5 adjustments.\n"
     ]
    },
    {
     "name": "stderr",
     "output_type": "stream",
     "text": [
      "/Users/zhangrui/opt/anaconda3/envs/suishi/lib/python3.8/site-packages/scipy/stats/_stats_py.py:4916: ConstantInputWarning: An input array is constant; the correlation coefficient is not defined.\n",
      "  warnings.warn(stats.ConstantInputWarning(warn_msg))\n"
     ]
    },
    {
     "name": "stdout",
     "output_type": "stream",
     "text": [
      "Warning: No long or short positions taken after 5 adjustments.\n"
     ]
    },
    {
     "name": "stderr",
     "output_type": "stream",
     "text": [
      "<string>:1: RuntimeWarning: divide by zero encountered in divide\n",
      "/Users/zhangrui/opt/anaconda3/envs/suishi/lib/python3.8/site-packages/numpy/lib/function_base.py:4573: RuntimeWarning: invalid value encountered in subtract\n",
      "  diff_b_a = subtract(b, a)\n",
      "/Users/zhangrui/opt/anaconda3/envs/suishi/lib/python3.8/site-packages/numpy/core/_methods.py:215: RuntimeWarning: invalid value encountered in reduce\n",
      "  arrmean = umr_sum(arr, axis, dtype, keepdims=True, where=where)\n"
     ]
    },
    {
     "name": "stdout",
     "output_type": "stream",
     "text": [
      "Warning: No long or short positions taken after 5 adjustments.\n",
      "13 \t63    \tnan\tnan\tnan\n"
     ]
    },
    {
     "name": "stderr",
     "output_type": "stream",
     "text": [
      "<string>:1: RuntimeWarning: divide by zero encountered in divide\n",
      "/Users/zhangrui/opt/anaconda3/envs/suishi/lib/python3.8/site-packages/numpy/lib/function_base.py:4573: RuntimeWarning: invalid value encountered in subtract\n",
      "  diff_b_a = subtract(b, a)\n",
      "/Users/zhangrui/opt/anaconda3/envs/suishi/lib/python3.8/site-packages/numpy/core/_methods.py:215: RuntimeWarning: invalid value encountered in reduce\n",
      "  arrmean = umr_sum(arr, axis, dtype, keepdims=True, where=where)\n"
     ]
    },
    {
     "name": "stdout",
     "output_type": "stream",
     "text": [
      "Warning: No long or short positions taken after 5 adjustments.\n"
     ]
    },
    {
     "name": "stderr",
     "output_type": "stream",
     "text": [
      "<string>:1: RuntimeWarning: divide by zero encountered in divide\n",
      "/Users/zhangrui/opt/anaconda3/envs/suishi/lib/python3.8/site-packages/numpy/lib/function_base.py:4573: RuntimeWarning: invalid value encountered in subtract\n",
      "  diff_b_a = subtract(b, a)\n",
      "/Users/zhangrui/opt/anaconda3/envs/suishi/lib/python3.8/site-packages/numpy/core/_methods.py:215: RuntimeWarning: invalid value encountered in reduce\n",
      "  arrmean = umr_sum(arr, axis, dtype, keepdims=True, where=where)\n",
      "<string>:1: RuntimeWarning: divide by zero encountered in divide\n",
      "/Users/zhangrui/opt/anaconda3/envs/suishi/lib/python3.8/site-packages/numpy/lib/function_base.py:4573: RuntimeWarning: invalid value encountered in subtract\n",
      "  diff_b_a = subtract(b, a)\n",
      "/Users/zhangrui/opt/anaconda3/envs/suishi/lib/python3.8/site-packages/numpy/core/_methods.py:215: RuntimeWarning: invalid value encountered in reduce\n",
      "  arrmean = umr_sum(arr, axis, dtype, keepdims=True, where=where)\n",
      "/Users/zhangrui/opt/anaconda3/envs/suishi/lib/python3.8/site-packages/scipy/stats/_stats_py.py:4916: ConstantInputWarning: An input array is constant; the correlation coefficient is not defined.\n",
      "  warnings.warn(stats.ConstantInputWarning(warn_msg))\n"
     ]
    },
    {
     "name": "stdout",
     "output_type": "stream",
     "text": [
      "Warning: No long or short positions taken after 5 adjustments.\n",
      "Warning: No long or short positions taken after 5 adjustments.\n",
      "Warning: No long or short positions taken after 5 adjustments.\n"
     ]
    },
    {
     "name": "stderr",
     "output_type": "stream",
     "text": [
      "/Users/zhangrui/opt/anaconda3/envs/suishi/lib/python3.8/site-packages/scipy/stats/_stats_py.py:4916: ConstantInputWarning: An input array is constant; the correlation coefficient is not defined.\n",
      "  warnings.warn(stats.ConstantInputWarning(warn_msg))\n",
      "<string>:1: RuntimeWarning: divide by zero encountered in divide\n"
     ]
    },
    {
     "name": "stdout",
     "output_type": "stream",
     "text": [
      "Warning: No long or short positions taken after 5 adjustments.\n"
     ]
    },
    {
     "name": "stderr",
     "output_type": "stream",
     "text": [
      "/Users/zhangrui/opt/anaconda3/envs/suishi/lib/python3.8/site-packages/numpy/lib/function_base.py:4573: RuntimeWarning: invalid value encountered in subtract\n",
      "  diff_b_a = subtract(b, a)\n",
      "/Users/zhangrui/opt/anaconda3/envs/suishi/lib/python3.8/site-packages/numpy/core/_methods.py:215: RuntimeWarning: invalid value encountered in reduce\n",
      "  arrmean = umr_sum(arr, axis, dtype, keepdims=True, where=where)\n"
     ]
    },
    {
     "name": "stdout",
     "output_type": "stream",
     "text": [
      "Warning: No long or short positions taken after 5 adjustments.\n"
     ]
    },
    {
     "name": "stderr",
     "output_type": "stream",
     "text": [
      "<string>:1: RuntimeWarning: divide by zero encountered in divide\n",
      "/Users/zhangrui/opt/anaconda3/envs/suishi/lib/python3.8/site-packages/numpy/lib/function_base.py:4573: RuntimeWarning: invalid value encountered in subtract\n",
      "  diff_b_a = subtract(b, a)\n",
      "/Users/zhangrui/opt/anaconda3/envs/suishi/lib/python3.8/site-packages/numpy/core/_methods.py:215: RuntimeWarning: invalid value encountered in reduce\n",
      "  arrmean = umr_sum(arr, axis, dtype, keepdims=True, where=where)\n"
     ]
    },
    {
     "name": "stdout",
     "output_type": "stream",
     "text": [
      "Warning: No long or short positions taken after 5 adjustments.\n",
      "14 \t64    \tnan\tnan\tnan\n",
      "Warning: No long or short positions taken after 5 adjustments.\n"
     ]
    },
    {
     "name": "stderr",
     "output_type": "stream",
     "text": [
      "<string>:1: RuntimeWarning: divide by zero encountered in divide\n",
      "/Users/zhangrui/opt/anaconda3/envs/suishi/lib/python3.8/site-packages/numpy/lib/function_base.py:4573: RuntimeWarning: invalid value encountered in subtract\n",
      "  diff_b_a = subtract(b, a)\n",
      "/Users/zhangrui/opt/anaconda3/envs/suishi/lib/python3.8/site-packages/numpy/core/_methods.py:215: RuntimeWarning: invalid value encountered in reduce\n",
      "  arrmean = umr_sum(arr, axis, dtype, keepdims=True, where=where)\n",
      "<string>:1: RuntimeWarning: divide by zero encountered in divide\n",
      "/Users/zhangrui/opt/anaconda3/envs/suishi/lib/python3.8/site-packages/numpy/lib/function_base.py:4573: RuntimeWarning: invalid value encountered in subtract\n",
      "  diff_b_a = subtract(b, a)\n",
      "/Users/zhangrui/opt/anaconda3/envs/suishi/lib/python3.8/site-packages/numpy/core/_methods.py:215: RuntimeWarning: invalid value encountered in reduce\n",
      "  arrmean = umr_sum(arr, axis, dtype, keepdims=True, where=where)\n"
     ]
    },
    {
     "name": "stdout",
     "output_type": "stream",
     "text": [
      "Warning: No long or short positions taken after 5 adjustments.\n"
     ]
    },
    {
     "name": "stderr",
     "output_type": "stream",
     "text": [
      "/Users/zhangrui/opt/anaconda3/envs/suishi/lib/python3.8/site-packages/scipy/stats/_stats_py.py:4916: ConstantInputWarning: An input array is constant; the correlation coefficient is not defined.\n",
      "  warnings.warn(stats.ConstantInputWarning(warn_msg))\n",
      "<string>:1: RuntimeWarning: divide by zero encountered in divide\n",
      "/Users/zhangrui/opt/anaconda3/envs/suishi/lib/python3.8/site-packages/numpy/lib/function_base.py:4573: RuntimeWarning: invalid value encountered in subtract\n",
      "  diff_b_a = subtract(b, a)\n",
      "/Users/zhangrui/opt/anaconda3/envs/suishi/lib/python3.8/site-packages/numpy/core/_methods.py:215: RuntimeWarning: invalid value encountered in reduce\n",
      "  arrmean = umr_sum(arr, axis, dtype, keepdims=True, where=where)\n"
     ]
    },
    {
     "name": "stdout",
     "output_type": "stream",
     "text": [
      "Warning: No long or short positions taken after 5 adjustments.\n",
      "Warning: No long or short positions taken after 5 adjustments.\n"
     ]
    },
    {
     "name": "stderr",
     "output_type": "stream",
     "text": [
      "<string>:1: RuntimeWarning: divide by zero encountered in divide\n",
      "/Users/zhangrui/opt/anaconda3/envs/suishi/lib/python3.8/site-packages/numpy/lib/function_base.py:4573: RuntimeWarning: invalid value encountered in subtract\n",
      "  diff_b_a = subtract(b, a)\n",
      "/Users/zhangrui/opt/anaconda3/envs/suishi/lib/python3.8/site-packages/numpy/core/_methods.py:215: RuntimeWarning: invalid value encountered in reduce\n",
      "  arrmean = umr_sum(arr, axis, dtype, keepdims=True, where=where)\n"
     ]
    },
    {
     "name": "stdout",
     "output_type": "stream",
     "text": [
      "Warning: No long or short positions taken after 5 adjustments.\n"
     ]
    },
    {
     "name": "stderr",
     "output_type": "stream",
     "text": [
      "<string>:1: RuntimeWarning: divide by zero encountered in divide\n",
      "/Users/zhangrui/opt/anaconda3/envs/suishi/lib/python3.8/site-packages/numpy/lib/function_base.py:4573: RuntimeWarning: invalid value encountered in subtract\n",
      "  diff_b_a = subtract(b, a)\n",
      "/Users/zhangrui/opt/anaconda3/envs/suishi/lib/python3.8/site-packages/numpy/core/_methods.py:215: RuntimeWarning: invalid value encountered in reduce\n",
      "  arrmean = umr_sum(arr, axis, dtype, keepdims=True, where=where)\n",
      "/Users/zhangrui/opt/anaconda3/envs/suishi/lib/python3.8/site-packages/scipy/stats/_stats_py.py:4916: ConstantInputWarning: An input array is constant; the correlation coefficient is not defined.\n",
      "  warnings.warn(stats.ConstantInputWarning(warn_msg))\n"
     ]
    },
    {
     "name": "stdout",
     "output_type": "stream",
     "text": [
      "Warning: No long or short positions taken after 5 adjustments.\n",
      "Warning: No long or short positions taken after 5 adjustments.\n"
     ]
    },
    {
     "name": "stderr",
     "output_type": "stream",
     "text": [
      "<string>:1: RuntimeWarning: divide by zero encountered in divide\n",
      "/Users/zhangrui/opt/anaconda3/envs/suishi/lib/python3.8/site-packages/numpy/lib/function_base.py:4573: RuntimeWarning: invalid value encountered in subtract\n",
      "  diff_b_a = subtract(b, a)\n",
      "/Users/zhangrui/opt/anaconda3/envs/suishi/lib/python3.8/site-packages/numpy/core/_methods.py:215: RuntimeWarning: invalid value encountered in reduce\n",
      "  arrmean = umr_sum(arr, axis, dtype, keepdims=True, where=where)\n",
      "/Users/zhangrui/opt/anaconda3/envs/suishi/lib/python3.8/site-packages/scipy/stats/_stats_py.py:4916: ConstantInputWarning: An input array is constant; the correlation coefficient is not defined.\n",
      "  warnings.warn(stats.ConstantInputWarning(warn_msg))\n"
     ]
    },
    {
     "name": "stdout",
     "output_type": "stream",
     "text": [
      "Warning: No long or short positions taken after 5 adjustments.\n",
      "Warning: No long or short positions taken after 5 adjustments.\n"
     ]
    },
    {
     "name": "stderr",
     "output_type": "stream",
     "text": [
      "<string>:1: RuntimeWarning: divide by zero encountered in divide\n",
      "/Users/zhangrui/opt/anaconda3/envs/suishi/lib/python3.8/site-packages/numpy/lib/function_base.py:4573: RuntimeWarning: invalid value encountered in subtract\n",
      "  diff_b_a = subtract(b, a)\n",
      "/Users/zhangrui/opt/anaconda3/envs/suishi/lib/python3.8/site-packages/numpy/core/_methods.py:215: RuntimeWarning: invalid value encountered in reduce\n",
      "  arrmean = umr_sum(arr, axis, dtype, keepdims=True, where=where)\n",
      "<string>:1: RuntimeWarning: divide by zero encountered in divide\n",
      "/Users/zhangrui/opt/anaconda3/envs/suishi/lib/python3.8/site-packages/numpy/lib/function_base.py:4573: RuntimeWarning: invalid value encountered in subtract\n",
      "  diff_b_a = subtract(b, a)\n",
      "/Users/zhangrui/opt/anaconda3/envs/suishi/lib/python3.8/site-packages/numpy/core/_methods.py:215: RuntimeWarning: invalid value encountered in reduce\n",
      "  arrmean = umr_sum(arr, axis, dtype, keepdims=True, where=where)\n"
     ]
    },
    {
     "name": "stdout",
     "output_type": "stream",
     "text": [
      "Warning: No long or short positions taken after 5 adjustments.\n",
      "Warning: No long or short positions taken after 5 adjustments.\n",
      "15 \t72    \tnan\tnan\tnan\n"
     ]
    },
    {
     "name": "stderr",
     "output_type": "stream",
     "text": [
      "<string>:1: RuntimeWarning: divide by zero encountered in divide\n",
      "/Users/zhangrui/opt/anaconda3/envs/suishi/lib/python3.8/site-packages/numpy/lib/function_base.py:4573: RuntimeWarning: invalid value encountered in subtract\n",
      "  diff_b_a = subtract(b, a)\n",
      "/Users/zhangrui/opt/anaconda3/envs/suishi/lib/python3.8/site-packages/numpy/core/_methods.py:215: RuntimeWarning: invalid value encountered in reduce\n",
      "  arrmean = umr_sum(arr, axis, dtype, keepdims=True, where=where)\n",
      "/Users/zhangrui/opt/anaconda3/envs/suishi/lib/python3.8/site-packages/scipy/stats/_stats_py.py:4916: ConstantInputWarning: An input array is constant; the correlation coefficient is not defined.\n",
      "  warnings.warn(stats.ConstantInputWarning(warn_msg))\n",
      "<string>:1: RuntimeWarning: divide by zero encountered in divide\n",
      "/Users/zhangrui/opt/anaconda3/envs/suishi/lib/python3.8/site-packages/scipy/stats/_stats_py.py:4916: ConstantInputWarning: An input array is constant; the correlation coefficient is not defined.\n",
      "  warnings.warn(stats.ConstantInputWarning(warn_msg))\n",
      "/Users/zhangrui/opt/anaconda3/envs/suishi/lib/python3.8/site-packages/numpy/lib/function_base.py:4573: RuntimeWarning: invalid value encountered in subtract\n",
      "  diff_b_a = subtract(b, a)\n",
      "/Users/zhangrui/opt/anaconda3/envs/suishi/lib/python3.8/site-packages/numpy/core/_methods.py:236: RuntimeWarning: invalid value encountered in subtract\n",
      "  x = asanyarray(arr - arrmean)\n"
     ]
    },
    {
     "name": "stdout",
     "output_type": "stream",
     "text": [
      "Warning: No long or short positions taken after 5 adjustments.\n",
      "Warning: No long or short positions taken after 5 adjustments.\n",
      "Warning: No long or short positions taken after 5 adjustments.\n"
     ]
    },
    {
     "name": "stderr",
     "output_type": "stream",
     "text": [
      "<string>:1: RuntimeWarning: divide by zero encountered in divide\n",
      "/Users/zhangrui/opt/anaconda3/envs/suishi/lib/python3.8/site-packages/numpy/lib/function_base.py:4573: RuntimeWarning: invalid value encountered in subtract\n",
      "  diff_b_a = subtract(b, a)\n",
      "/Users/zhangrui/opt/anaconda3/envs/suishi/lib/python3.8/site-packages/numpy/core/_methods.py:215: RuntimeWarning: invalid value encountered in reduce\n",
      "  arrmean = umr_sum(arr, axis, dtype, keepdims=True, where=where)\n"
     ]
    },
    {
     "name": "stdout",
     "output_type": "stream",
     "text": [
      "Warning: No long or short positions taken after 5 adjustments.\n"
     ]
    },
    {
     "name": "stderr",
     "output_type": "stream",
     "text": [
      "<string>:1: RuntimeWarning: divide by zero encountered in divide\n",
      "/Users/zhangrui/opt/anaconda3/envs/suishi/lib/python3.8/site-packages/scipy/stats/_stats_py.py:4916: ConstantInputWarning: An input array is constant; the correlation coefficient is not defined.\n",
      "  warnings.warn(stats.ConstantInputWarning(warn_msg))\n",
      "/Users/zhangrui/opt/anaconda3/envs/suishi/lib/python3.8/site-packages/numpy/lib/function_base.py:4573: RuntimeWarning: invalid value encountered in subtract\n",
      "  diff_b_a = subtract(b, a)\n",
      "/Users/zhangrui/opt/anaconda3/envs/suishi/lib/python3.8/site-packages/numpy/core/_methods.py:236: RuntimeWarning: invalid value encountered in subtract\n",
      "  x = asanyarray(arr - arrmean)\n",
      "<string>:1: RuntimeWarning: divide by zero encountered in divide\n",
      "/Users/zhangrui/opt/anaconda3/envs/suishi/lib/python3.8/site-packages/numpy/lib/function_base.py:4573: RuntimeWarning: invalid value encountered in subtract\n",
      "  diff_b_a = subtract(b, a)\n",
      "/Users/zhangrui/opt/anaconda3/envs/suishi/lib/python3.8/site-packages/numpy/core/_methods.py:215: RuntimeWarning: invalid value encountered in reduce\n",
      "  arrmean = umr_sum(arr, axis, dtype, keepdims=True, where=where)\n"
     ]
    },
    {
     "name": "stdout",
     "output_type": "stream",
     "text": [
      "Warning: No long or short positions taken after 5 adjustments.\n",
      "Warning: No long or short positions taken after 5 adjustments.\n"
     ]
    },
    {
     "name": "stderr",
     "output_type": "stream",
     "text": [
      "<string>:1: RuntimeWarning: divide by zero encountered in divide\n",
      "/Users/zhangrui/opt/anaconda3/envs/suishi/lib/python3.8/site-packages/numpy/lib/function_base.py:4573: RuntimeWarning: invalid value encountered in subtract\n",
      "  diff_b_a = subtract(b, a)\n",
      "/Users/zhangrui/opt/anaconda3/envs/suishi/lib/python3.8/site-packages/numpy/core/_methods.py:215: RuntimeWarning: invalid value encountered in reduce\n",
      "  arrmean = umr_sum(arr, axis, dtype, keepdims=True, where=where)\n"
     ]
    },
    {
     "name": "stdout",
     "output_type": "stream",
     "text": [
      "Warning: No long or short positions taken after 5 adjustments.\n"
     ]
    },
    {
     "name": "stderr",
     "output_type": "stream",
     "text": [
      "<string>:1: RuntimeWarning: divide by zero encountered in divide\n",
      "/Users/zhangrui/opt/anaconda3/envs/suishi/lib/python3.8/site-packages/numpy/lib/function_base.py:4573: RuntimeWarning: invalid value encountered in subtract\n",
      "  diff_b_a = subtract(b, a)\n",
      "/Users/zhangrui/opt/anaconda3/envs/suishi/lib/python3.8/site-packages/numpy/core/_methods.py:215: RuntimeWarning: invalid value encountered in reduce\n",
      "  arrmean = umr_sum(arr, axis, dtype, keepdims=True, where=where)\n",
      "/Users/zhangrui/opt/anaconda3/envs/suishi/lib/python3.8/site-packages/scipy/stats/_stats_py.py:4916: ConstantInputWarning: An input array is constant; the correlation coefficient is not defined.\n",
      "  warnings.warn(stats.ConstantInputWarning(warn_msg))\n"
     ]
    },
    {
     "name": "stdout",
     "output_type": "stream",
     "text": [
      "Warning: No long or short positions taken after 5 adjustments.\n",
      "Warning: No long or short positions taken after 5 adjustments.\n",
      "16 \t58    \tnan\tnan\tnan\n"
     ]
    },
    {
     "name": "stderr",
     "output_type": "stream",
     "text": [
      "/Users/zhangrui/opt/anaconda3/envs/suishi/lib/python3.8/site-packages/scipy/stats/_stats_py.py:4916: ConstantInputWarning: An input array is constant; the correlation coefficient is not defined.\n",
      "  warnings.warn(stats.ConstantInputWarning(warn_msg))\n",
      "<string>:1: RuntimeWarning: divide by zero encountered in divide\n",
      "/Users/zhangrui/opt/anaconda3/envs/suishi/lib/python3.8/site-packages/numpy/lib/function_base.py:4573: RuntimeWarning: invalid value encountered in subtract\n",
      "  diff_b_a = subtract(b, a)\n",
      "/Users/zhangrui/opt/anaconda3/envs/suishi/lib/python3.8/site-packages/numpy/core/_methods.py:215: RuntimeWarning: invalid value encountered in reduce\n",
      "  arrmean = umr_sum(arr, axis, dtype, keepdims=True, where=where)\n"
     ]
    },
    {
     "name": "stdout",
     "output_type": "stream",
     "text": [
      "Warning: No long or short positions taken after 5 adjustments.\n",
      "Warning: No long or short positions taken after 5 adjustments.\n"
     ]
    },
    {
     "name": "stderr",
     "output_type": "stream",
     "text": [
      "<string>:1: RuntimeWarning: divide by zero encountered in divide\n",
      "/Users/zhangrui/opt/anaconda3/envs/suishi/lib/python3.8/site-packages/numpy/lib/function_base.py:4573: RuntimeWarning: invalid value encountered in subtract\n",
      "  diff_b_a = subtract(b, a)\n",
      "/Users/zhangrui/opt/anaconda3/envs/suishi/lib/python3.8/site-packages/numpy/core/_methods.py:215: RuntimeWarning: invalid value encountered in reduce\n",
      "  arrmean = umr_sum(arr, axis, dtype, keepdims=True, where=where)\n",
      "<string>:1: RuntimeWarning: divide by zero encountered in divide\n",
      "/Users/zhangrui/opt/anaconda3/envs/suishi/lib/python3.8/site-packages/numpy/lib/function_base.py:4573: RuntimeWarning: invalid value encountered in subtract\n",
      "  diff_b_a = subtract(b, a)\n",
      "/Users/zhangrui/opt/anaconda3/envs/suishi/lib/python3.8/site-packages/numpy/core/_methods.py:215: RuntimeWarning: invalid value encountered in reduce\n",
      "  arrmean = umr_sum(arr, axis, dtype, keepdims=True, where=where)\n",
      "/Users/zhangrui/opt/anaconda3/envs/suishi/lib/python3.8/site-packages/scipy/stats/_stats_py.py:4916: ConstantInputWarning: An input array is constant; the correlation coefficient is not defined.\n",
      "  warnings.warn(stats.ConstantInputWarning(warn_msg))\n"
     ]
    },
    {
     "name": "stdout",
     "output_type": "stream",
     "text": [
      "Warning: No long or short positions taken after 5 adjustments.\n",
      "Warning: No long or short positions taken after 5 adjustments.\n",
      "Warning: No long or short positions taken after 5 adjustments.\n"
     ]
    },
    {
     "name": "stderr",
     "output_type": "stream",
     "text": [
      "<string>:1: RuntimeWarning: divide by zero encountered in divide\n",
      "/Users/zhangrui/opt/anaconda3/envs/suishi/lib/python3.8/site-packages/scipy/stats/_stats_py.py:4916: ConstantInputWarning: An input array is constant; the correlation coefficient is not defined.\n",
      "  warnings.warn(stats.ConstantInputWarning(warn_msg))\n",
      "/Users/zhangrui/opt/anaconda3/envs/suishi/lib/python3.8/site-packages/numpy/lib/function_base.py:4573: RuntimeWarning: invalid value encountered in subtract\n",
      "  diff_b_a = subtract(b, a)\n",
      "/Users/zhangrui/opt/anaconda3/envs/suishi/lib/python3.8/site-packages/numpy/core/_methods.py:236: RuntimeWarning: invalid value encountered in subtract\n",
      "  x = asanyarray(arr - arrmean)\n",
      "/Users/zhangrui/opt/anaconda3/envs/suishi/lib/python3.8/site-packages/scipy/stats/_stats_py.py:4916: ConstantInputWarning: An input array is constant; the correlation coefficient is not defined.\n",
      "  warnings.warn(stats.ConstantInputWarning(warn_msg))\n"
     ]
    },
    {
     "name": "stdout",
     "output_type": "stream",
     "text": [
      "Warning: No long or short positions taken after 5 adjustments.\n",
      "Warning: No long or short positions taken after 5 adjustments.\n"
     ]
    },
    {
     "name": "stderr",
     "output_type": "stream",
     "text": [
      "/Users/zhangrui/opt/anaconda3/envs/suishi/lib/python3.8/site-packages/scipy/stats/_stats_py.py:4916: ConstantInputWarning: An input array is constant; the correlation coefficient is not defined.\n",
      "  warnings.warn(stats.ConstantInputWarning(warn_msg))\n"
     ]
    },
    {
     "name": "stdout",
     "output_type": "stream",
     "text": [
      "Warning: No long or short positions taken after 5 adjustments.\n"
     ]
    },
    {
     "name": "stderr",
     "output_type": "stream",
     "text": [
      "<string>:1: RuntimeWarning: divide by zero encountered in divide\n",
      "/Users/zhangrui/opt/anaconda3/envs/suishi/lib/python3.8/site-packages/numpy/lib/function_base.py:4573: RuntimeWarning: invalid value encountered in subtract\n",
      "  diff_b_a = subtract(b, a)\n",
      "/Users/zhangrui/opt/anaconda3/envs/suishi/lib/python3.8/site-packages/numpy/core/_methods.py:215: RuntimeWarning: invalid value encountered in reduce\n",
      "  arrmean = umr_sum(arr, axis, dtype, keepdims=True, where=where)\n"
     ]
    },
    {
     "name": "stdout",
     "output_type": "stream",
     "text": [
      "Warning: No long or short positions taken after 5 adjustments.\n",
      "17 \t54    \tnan\tnan\tnan\n"
     ]
    },
    {
     "name": "stderr",
     "output_type": "stream",
     "text": [
      "<string>:1: RuntimeWarning: divide by zero encountered in divide\n",
      "/Users/zhangrui/opt/anaconda3/envs/suishi/lib/python3.8/site-packages/numpy/lib/function_base.py:4573: RuntimeWarning: invalid value encountered in subtract\n",
      "  diff_b_a = subtract(b, a)\n",
      "/Users/zhangrui/opt/anaconda3/envs/suishi/lib/python3.8/site-packages/numpy/core/_methods.py:215: RuntimeWarning: invalid value encountered in reduce\n",
      "  arrmean = umr_sum(arr, axis, dtype, keepdims=True, where=where)\n"
     ]
    },
    {
     "name": "stdout",
     "output_type": "stream",
     "text": [
      "Warning: No long or short positions taken after 5 adjustments.\n"
     ]
    },
    {
     "name": "stderr",
     "output_type": "stream",
     "text": [
      "<string>:1: RuntimeWarning: divide by zero encountered in divide\n",
      "/Users/zhangrui/opt/anaconda3/envs/suishi/lib/python3.8/site-packages/numpy/lib/function_base.py:4573: RuntimeWarning: invalid value encountered in subtract\n",
      "  diff_b_a = subtract(b, a)\n",
      "/Users/zhangrui/opt/anaconda3/envs/suishi/lib/python3.8/site-packages/numpy/core/_methods.py:215: RuntimeWarning: invalid value encountered in reduce\n",
      "  arrmean = umr_sum(arr, axis, dtype, keepdims=True, where=where)\n"
     ]
    },
    {
     "name": "stdout",
     "output_type": "stream",
     "text": [
      "Warning: No long or short positions taken after 5 adjustments.\n"
     ]
    },
    {
     "name": "stderr",
     "output_type": "stream",
     "text": [
      "/Users/zhangrui/opt/anaconda3/envs/suishi/lib/python3.8/site-packages/scipy/stats/_stats_py.py:4916: ConstantInputWarning: An input array is constant; the correlation coefficient is not defined.\n",
      "  warnings.warn(stats.ConstantInputWarning(warn_msg))\n",
      "<string>:1: RuntimeWarning: divide by zero encountered in divide\n",
      "/Users/zhangrui/opt/anaconda3/envs/suishi/lib/python3.8/site-packages/numpy/lib/function_base.py:4573: RuntimeWarning: invalid value encountered in subtract\n",
      "  diff_b_a = subtract(b, a)\n",
      "/Users/zhangrui/opt/anaconda3/envs/suishi/lib/python3.8/site-packages/numpy/core/_methods.py:215: RuntimeWarning: invalid value encountered in reduce\n",
      "  arrmean = umr_sum(arr, axis, dtype, keepdims=True, where=where)\n"
     ]
    },
    {
     "name": "stdout",
     "output_type": "stream",
     "text": [
      "Warning: No long or short positions taken after 5 adjustments.\n",
      "Warning: No long or short positions taken after 5 adjustments.\n"
     ]
    },
    {
     "name": "stderr",
     "output_type": "stream",
     "text": [
      "<string>:1: RuntimeWarning: divide by zero encountered in divide\n",
      "/Users/zhangrui/opt/anaconda3/envs/suishi/lib/python3.8/site-packages/numpy/lib/function_base.py:4573: RuntimeWarning: invalid value encountered in subtract\n",
      "  diff_b_a = subtract(b, a)\n",
      "/Users/zhangrui/opt/anaconda3/envs/suishi/lib/python3.8/site-packages/numpy/core/_methods.py:215: RuntimeWarning: invalid value encountered in reduce\n",
      "  arrmean = umr_sum(arr, axis, dtype, keepdims=True, where=where)\n"
     ]
    },
    {
     "name": "stdout",
     "output_type": "stream",
     "text": [
      "Warning: No long or short positions taken after 5 adjustments.\n"
     ]
    },
    {
     "name": "stderr",
     "output_type": "stream",
     "text": [
      "<string>:1: RuntimeWarning: divide by zero encountered in divide\n",
      "/Users/zhangrui/opt/anaconda3/envs/suishi/lib/python3.8/site-packages/scipy/stats/_stats_py.py:4916: ConstantInputWarning: An input array is constant; the correlation coefficient is not defined.\n",
      "  warnings.warn(stats.ConstantInputWarning(warn_msg))\n",
      "/Users/zhangrui/opt/anaconda3/envs/suishi/lib/python3.8/site-packages/numpy/lib/function_base.py:4573: RuntimeWarning: invalid value encountered in subtract\n",
      "  diff_b_a = subtract(b, a)\n",
      "/Users/zhangrui/opt/anaconda3/envs/suishi/lib/python3.8/site-packages/numpy/core/_methods.py:236: RuntimeWarning: invalid value encountered in subtract\n",
      "  x = asanyarray(arr - arrmean)\n"
     ]
    },
    {
     "name": "stdout",
     "output_type": "stream",
     "text": [
      "Warning: No long or short positions taken after 5 adjustments.\n",
      "18 \t65    \tnan\tnan\tnan\n"
     ]
    },
    {
     "name": "stderr",
     "output_type": "stream",
     "text": [
      "<string>:1: RuntimeWarning: divide by zero encountered in divide\n",
      "/Users/zhangrui/opt/anaconda3/envs/suishi/lib/python3.8/site-packages/numpy/lib/function_base.py:4573: RuntimeWarning: invalid value encountered in subtract\n",
      "  diff_b_a = subtract(b, a)\n",
      "/Users/zhangrui/opt/anaconda3/envs/suishi/lib/python3.8/site-packages/numpy/core/_methods.py:215: RuntimeWarning: invalid value encountered in reduce\n",
      "  arrmean = umr_sum(arr, axis, dtype, keepdims=True, where=where)\n"
     ]
    },
    {
     "name": "stdout",
     "output_type": "stream",
     "text": [
      "Warning: No long or short positions taken after 5 adjustments.\n"
     ]
    },
    {
     "name": "stderr",
     "output_type": "stream",
     "text": [
      "<string>:1: RuntimeWarning: divide by zero encountered in divide\n",
      "/Users/zhangrui/opt/anaconda3/envs/suishi/lib/python3.8/site-packages/numpy/lib/function_base.py:4573: RuntimeWarning: invalid value encountered in subtract\n",
      "  diff_b_a = subtract(b, a)\n",
      "/Users/zhangrui/opt/anaconda3/envs/suishi/lib/python3.8/site-packages/numpy/core/_methods.py:215: RuntimeWarning: invalid value encountered in reduce\n",
      "  arrmean = umr_sum(arr, axis, dtype, keepdims=True, where=where)\n",
      "<string>:1: RuntimeWarning: divide by zero encountered in divide\n",
      "/Users/zhangrui/opt/anaconda3/envs/suishi/lib/python3.8/site-packages/numpy/lib/function_base.py:4573: RuntimeWarning: invalid value encountered in subtract\n",
      "  diff_b_a = subtract(b, a)\n",
      "/Users/zhangrui/opt/anaconda3/envs/suishi/lib/python3.8/site-packages/numpy/core/_methods.py:215: RuntimeWarning: invalid value encountered in reduce\n",
      "  arrmean = umr_sum(arr, axis, dtype, keepdims=True, where=where)\n",
      "<string>:1: RuntimeWarning: divide by zero encountered in divide\n"
     ]
    },
    {
     "name": "stdout",
     "output_type": "stream",
     "text": [
      "Warning: No long or short positions taken after 5 adjustments.\n",
      "19 \t58    \tnan\tnan\tnan\n",
      "Warning: No long or short positions taken after 5 adjustments.\n"
     ]
    },
    {
     "name": "stderr",
     "output_type": "stream",
     "text": [
      "/Users/zhangrui/opt/anaconda3/envs/suishi/lib/python3.8/site-packages/numpy/lib/function_base.py:4573: RuntimeWarning: invalid value encountered in subtract\n",
      "  diff_b_a = subtract(b, a)\n",
      "/Users/zhangrui/opt/anaconda3/envs/suishi/lib/python3.8/site-packages/numpy/core/_methods.py:215: RuntimeWarning: invalid value encountered in reduce\n",
      "  arrmean = umr_sum(arr, axis, dtype, keepdims=True, where=where)\n",
      "<string>:1: RuntimeWarning: divide by zero encountered in divide\n",
      "/Users/zhangrui/opt/anaconda3/envs/suishi/lib/python3.8/site-packages/scipy/stats/_stats_py.py:4916: ConstantInputWarning: An input array is constant; the correlation coefficient is not defined.\n",
      "  warnings.warn(stats.ConstantInputWarning(warn_msg))\n",
      "/Users/zhangrui/opt/anaconda3/envs/suishi/lib/python3.8/site-packages/numpy/lib/function_base.py:4573: RuntimeWarning: invalid value encountered in subtract\n",
      "  diff_b_a = subtract(b, a)\n",
      "/Users/zhangrui/opt/anaconda3/envs/suishi/lib/python3.8/site-packages/numpy/core/_methods.py:236: RuntimeWarning: invalid value encountered in subtract\n",
      "  x = asanyarray(arr - arrmean)\n"
     ]
    },
    {
     "name": "stdout",
     "output_type": "stream",
     "text": [
      "Warning: No long or short positions taken after 5 adjustments.\n",
      "Warning: No long or short positions taken after 5 adjustments.\n"
     ]
    },
    {
     "name": "stderr",
     "output_type": "stream",
     "text": [
      "<string>:1: RuntimeWarning: divide by zero encountered in divide\n",
      "/Users/zhangrui/opt/anaconda3/envs/suishi/lib/python3.8/site-packages/scipy/stats/_stats_py.py:4916: ConstantInputWarning: An input array is constant; the correlation coefficient is not defined.\n",
      "  warnings.warn(stats.ConstantInputWarning(warn_msg))\n",
      "/Users/zhangrui/opt/anaconda3/envs/suishi/lib/python3.8/site-packages/numpy/lib/function_base.py:4573: RuntimeWarning: invalid value encountered in subtract\n",
      "  diff_b_a = subtract(b, a)\n",
      "/Users/zhangrui/opt/anaconda3/envs/suishi/lib/python3.8/site-packages/numpy/core/_methods.py:236: RuntimeWarning: invalid value encountered in subtract\n",
      "  x = asanyarray(arr - arrmean)\n"
     ]
    },
    {
     "name": "stdout",
     "output_type": "stream",
     "text": [
      "Warning: No long or short positions taken after 5 adjustments.\n"
     ]
    },
    {
     "name": "stderr",
     "output_type": "stream",
     "text": [
      "<string>:1: RuntimeWarning: divide by zero encountered in divide\n",
      "/Users/zhangrui/opt/anaconda3/envs/suishi/lib/python3.8/site-packages/numpy/lib/function_base.py:4573: RuntimeWarning: invalid value encountered in subtract\n",
      "  diff_b_a = subtract(b, a)\n",
      "/Users/zhangrui/opt/anaconda3/envs/suishi/lib/python3.8/site-packages/numpy/core/_methods.py:215: RuntimeWarning: invalid value encountered in reduce\n",
      "  arrmean = umr_sum(arr, axis, dtype, keepdims=True, where=where)\n",
      "<string>:1: RuntimeWarning: divide by zero encountered in divide\n",
      "/Users/zhangrui/opt/anaconda3/envs/suishi/lib/python3.8/site-packages/numpy/lib/function_base.py:4573: RuntimeWarning: invalid value encountered in subtract\n",
      "  diff_b_a = subtract(b, a)\n",
      "/Users/zhangrui/opt/anaconda3/envs/suishi/lib/python3.8/site-packages/numpy/core/_methods.py:215: RuntimeWarning: invalid value encountered in reduce\n",
      "  arrmean = umr_sum(arr, axis, dtype, keepdims=True, where=where)\n"
     ]
    },
    {
     "name": "stdout",
     "output_type": "stream",
     "text": [
      "Warning: No long or short positions taken after 5 adjustments.\n",
      "Warning: No long or short positions taken after 5 adjustments.\n"
     ]
    },
    {
     "name": "stderr",
     "output_type": "stream",
     "text": [
      "<string>:1: RuntimeWarning: divide by zero encountered in divide\n",
      "/Users/zhangrui/opt/anaconda3/envs/suishi/lib/python3.8/site-packages/numpy/lib/function_base.py:4573: RuntimeWarning: invalid value encountered in subtract\n",
      "  diff_b_a = subtract(b, a)\n",
      "/Users/zhangrui/opt/anaconda3/envs/suishi/lib/python3.8/site-packages/numpy/core/_methods.py:215: RuntimeWarning: invalid value encountered in reduce\n",
      "  arrmean = umr_sum(arr, axis, dtype, keepdims=True, where=where)\n"
     ]
    },
    {
     "name": "stdout",
     "output_type": "stream",
     "text": [
      "Warning: No long or short positions taken after 5 adjustments.\n"
     ]
    },
    {
     "name": "stderr",
     "output_type": "stream",
     "text": [
      "<string>:1: RuntimeWarning: divide by zero encountered in divide\n",
      "<string>:1: RuntimeWarning: divide by zero encountered in divide\n"
     ]
    },
    {
     "name": "stdout",
     "output_type": "stream",
     "text": [
      "20 \t67    \tnan\tnan\tnan\n"
     ]
    },
    {
     "name": "stderr",
     "output_type": "stream",
     "text": [
      "/Users/zhangrui/opt/anaconda3/envs/suishi/lib/python3.8/site-packages/scipy/stats/_stats_py.py:4916: ConstantInputWarning: An input array is constant; the correlation coefficient is not defined.\n",
      "  warnings.warn(stats.ConstantInputWarning(warn_msg))\n"
     ]
    },
    {
     "name": "stdout",
     "output_type": "stream",
     "text": [
      "Warning: No long or short positions taken after 5 adjustments.\n"
     ]
    },
    {
     "name": "stderr",
     "output_type": "stream",
     "text": [
      "/Users/zhangrui/opt/anaconda3/envs/suishi/lib/python3.8/site-packages/scipy/stats/_stats_py.py:4916: ConstantInputWarning: An input array is constant; the correlation coefficient is not defined.\n",
      "  warnings.warn(stats.ConstantInputWarning(warn_msg))\n"
     ]
    },
    {
     "name": "stdout",
     "output_type": "stream",
     "text": [
      "Warning: No long or short positions taken after 5 adjustments.\n",
      "21 \t62    \tnan\tnan\tnan\n"
     ]
    },
    {
     "name": "stderr",
     "output_type": "stream",
     "text": [
      "<string>:1: RuntimeWarning: divide by zero encountered in divide\n",
      "/Users/zhangrui/opt/anaconda3/envs/suishi/lib/python3.8/site-packages/scipy/stats/_stats_py.py:4916: ConstantInputWarning: An input array is constant; the correlation coefficient is not defined.\n",
      "  warnings.warn(stats.ConstantInputWarning(warn_msg))\n",
      "/Users/zhangrui/opt/anaconda3/envs/suishi/lib/python3.8/site-packages/numpy/lib/function_base.py:4573: RuntimeWarning: invalid value encountered in subtract\n",
      "  diff_b_a = subtract(b, a)\n",
      "/Users/zhangrui/opt/anaconda3/envs/suishi/lib/python3.8/site-packages/numpy/core/_methods.py:236: RuntimeWarning: invalid value encountered in subtract\n",
      "  x = asanyarray(arr - arrmean)\n"
     ]
    },
    {
     "name": "stdout",
     "output_type": "stream",
     "text": [
      "Warning: No long or short positions taken after 5 adjustments.\n",
      "22 \t71    \tnan\tnan\tnan\n",
      "23 \t74    \tnan\tnan\tnan\n"
     ]
    },
    {
     "name": "stderr",
     "output_type": "stream",
     "text": [
      "<string>:1: RuntimeWarning: divide by zero encountered in divide\n",
      "/Users/zhangrui/opt/anaconda3/envs/suishi/lib/python3.8/site-packages/scipy/stats/_stats_py.py:4916: ConstantInputWarning: An input array is constant; the correlation coefficient is not defined.\n",
      "  warnings.warn(stats.ConstantInputWarning(warn_msg))\n",
      "/Users/zhangrui/opt/anaconda3/envs/suishi/lib/python3.8/site-packages/numpy/lib/function_base.py:4573: RuntimeWarning: invalid value encountered in subtract\n",
      "  diff_b_a = subtract(b, a)\n",
      "/Users/zhangrui/opt/anaconda3/envs/suishi/lib/python3.8/site-packages/numpy/core/_methods.py:236: RuntimeWarning: invalid value encountered in subtract\n",
      "  x = asanyarray(arr - arrmean)\n"
     ]
    },
    {
     "name": "stdout",
     "output_type": "stream",
     "text": [
      "Warning: No long or short positions taken after 5 adjustments.\n",
      "24 \t52    \tnan\tnan\tnan\n",
      "25 \t70    \tnan\tnan\tnan\n"
     ]
    },
    {
     "name": "stderr",
     "output_type": "stream",
     "text": [
      "/Users/zhangrui/opt/anaconda3/envs/suishi/lib/python3.8/site-packages/scipy/stats/_stats_py.py:4916: ConstantInputWarning: An input array is constant; the correlation coefficient is not defined.\n",
      "  warnings.warn(stats.ConstantInputWarning(warn_msg))\n"
     ]
    },
    {
     "name": "stdout",
     "output_type": "stream",
     "text": [
      "Warning: No long or short positions taken after 5 adjustments.\n",
      "26 \t65    \tnan\tnan\tnan\n"
     ]
    },
    {
     "name": "stderr",
     "output_type": "stream",
     "text": [
      "/Users/zhangrui/opt/anaconda3/envs/suishi/lib/python3.8/site-packages/scipy/stats/_stats_py.py:4916: ConstantInputWarning: An input array is constant; the correlation coefficient is not defined.\n",
      "  warnings.warn(stats.ConstantInputWarning(warn_msg))\n"
     ]
    },
    {
     "name": "stdout",
     "output_type": "stream",
     "text": [
      "Warning: No long or short positions taken after 5 adjustments.\n",
      "27 \t63    \tnan\tnan\tnan\n",
      "28 \t63    \t23.9975\t-33.7644\t85.3766\n",
      "Warning: No long or short positions taken after 5 adjustments.\n"
     ]
    },
    {
     "name": "stderr",
     "output_type": "stream",
     "text": [
      "/Users/zhangrui/opt/anaconda3/envs/suishi/lib/python3.8/site-packages/scipy/stats/_stats_py.py:4916: ConstantInputWarning: An input array is constant; the correlation coefficient is not defined.\n",
      "  warnings.warn(stats.ConstantInputWarning(warn_msg))\n",
      "/Users/zhangrui/opt/anaconda3/envs/suishi/lib/python3.8/site-packages/scipy/stats/_stats_py.py:4916: ConstantInputWarning: An input array is constant; the correlation coefficient is not defined.\n",
      "  warnings.warn(stats.ConstantInputWarning(warn_msg))\n"
     ]
    },
    {
     "name": "stdout",
     "output_type": "stream",
     "text": [
      "Warning: No long or short positions taken after 5 adjustments.\n",
      "29 \t79    \tnan    \tnan     \tnan    \n"
     ]
    },
    {
     "name": "stderr",
     "output_type": "stream",
     "text": [
      "/Users/zhangrui/opt/anaconda3/envs/suishi/lib/python3.8/site-packages/scipy/stats/_stats_py.py:4916: ConstantInputWarning: An input array is constant; the correlation coefficient is not defined.\n",
      "  warnings.warn(stats.ConstantInputWarning(warn_msg))\n"
     ]
    },
    {
     "name": "stdout",
     "output_type": "stream",
     "text": [
      "Warning: No long or short positions taken after 5 adjustments.\n",
      "30 \t60    \tnan    \tnan     \tnan    \n"
     ]
    },
    {
     "name": "stderr",
     "output_type": "stream",
     "text": [
      "/Users/zhangrui/opt/anaconda3/envs/suishi/lib/python3.8/site-packages/scipy/stats/_stats_py.py:4916: ConstantInputWarning: An input array is constant; the correlation coefficient is not defined.\n",
      "  warnings.warn(stats.ConstantInputWarning(warn_msg))\n"
     ]
    },
    {
     "name": "stdout",
     "output_type": "stream",
     "text": [
      "Warning: No long or short positions taken after 5 adjustments.\n",
      "31 \t70    \tnan    \tnan     \tnan    \n"
     ]
    },
    {
     "name": "stderr",
     "output_type": "stream",
     "text": [
      "/Users/zhangrui/opt/anaconda3/envs/suishi/lib/python3.8/site-packages/scipy/stats/_stats_py.py:4916: ConstantInputWarning: An input array is constant; the correlation coefficient is not defined.\n",
      "  warnings.warn(stats.ConstantInputWarning(warn_msg))\n"
     ]
    },
    {
     "name": "stdout",
     "output_type": "stream",
     "text": [
      "Warning: No long or short positions taken after 5 adjustments.\n",
      "32 \t66    \tnan    \tnan     \tnan    \n",
      "33 \t70    \t23.7777\t-33.7644\t85.3766\n",
      "34 \t67    \t23.9043\t-46.6558\t85.3766\n",
      "35 \t63    \t23.1458\t-33.7644\t85.3766\n",
      "36 \t56    \t24.1719\t-33.7644\t85.3766\n",
      "Warning: No long or short positions taken after 5 adjustments.\n"
     ]
    },
    {
     "name": "stderr",
     "output_type": "stream",
     "text": [
      "/Users/zhangrui/opt/anaconda3/envs/suishi/lib/python3.8/site-packages/scipy/stats/_stats_py.py:4916: ConstantInputWarning: An input array is constant; the correlation coefficient is not defined.\n",
      "  warnings.warn(stats.ConstantInputWarning(warn_msg))\n"
     ]
    },
    {
     "name": "stdout",
     "output_type": "stream",
     "text": [
      "37 \t63    \tnan    \tnan     \tnan    \n",
      "Warning: No long or short positions taken after 5 adjustments.\n"
     ]
    },
    {
     "name": "stderr",
     "output_type": "stream",
     "text": [
      "/Users/zhangrui/opt/anaconda3/envs/suishi/lib/python3.8/site-packages/scipy/stats/_stats_py.py:4916: ConstantInputWarning: An input array is constant; the correlation coefficient is not defined.\n",
      "  warnings.warn(stats.ConstantInputWarning(warn_msg))\n"
     ]
    },
    {
     "name": "stdout",
     "output_type": "stream",
     "text": [
      "38 \t57    \tnan    \tnan     \tnan    \n"
     ]
    },
    {
     "name": "stderr",
     "output_type": "stream",
     "text": [
      "/Users/zhangrui/opt/anaconda3/envs/suishi/lib/python3.8/site-packages/scipy/stats/_stats_py.py:4916: ConstantInputWarning: An input array is constant; the correlation coefficient is not defined.\n",
      "  warnings.warn(stats.ConstantInputWarning(warn_msg))\n"
     ]
    },
    {
     "name": "stdout",
     "output_type": "stream",
     "text": [
      "Warning: No long or short positions taken after 5 adjustments.\n",
      "39 \t67    \tnan    \tnan     \tnan    \n",
      "40 \t65    \t24.3068\t-33.7644\t85.3766\n",
      "Stopped early at generation 0\n",
      "Best factor formulas saved to /Users/zhangrui/Desktop/best_factors.txt\n"
     ]
    }
   ],
   "source": [
    "import pandas as pd\n",
    "import numpy as np\n",
    "import random\n",
    "from deap import base, creator, tools, gp\n",
    "from scipy.stats import spearmanr\n",
    "import matplotlib.pyplot as plt\n",
    "import functools\n",
    "\n",
    "# 数据预处理：用列的均值填充0值\n",
    "merged_data.replace(0, np.nan, inplace=True)\n",
    "merged_data[numeric_cols] = merged_data[numeric_cols].fillna(merged_data[numeric_cols].mean())\n",
    "\n",
    "# 生成模拟未来收益列，这里选择'net_profit_ratio'作为代理\n",
    "if 'net_profit_ratio' in merged_data.columns:\n",
    "    merged_data['future_returns'] = merged_data['net_profit_ratio'].shift(-1)\n",
    "else:\n",
    "    raise KeyError(\"'net_profit_ratio' 列不存在，无法计算 'future_returns'。\")\n",
    "\n",
    "merged_data.dropna(subset=['future_returns'], inplace=True)\n",
    "\n",
    "# 因子公式评估函数，包含复杂度惩罚\n",
    "def eval_formula(individual, data):\n",
    "    formula = gp.compile(expr=individual, pset=pset)\n",
    "    factor_values = np.zeros(len(data))\n",
    "    try:\n",
    "        # 将公式应用于每一行数据\n",
    "        factor_values = np.array([formula(*row) for row in data[numeric_cols].values])\n",
    "    except Exception as e:\n",
    "        print(f\"Error evaluating formula: {e}\")\n",
    "    \n",
    "    complexity_penalty = len(individual) * 0.001  # 复杂度惩罚项\n",
    "    return factor_values - complexity_penalty\n",
    "\n",
    "# 适应度函数\n",
    "def fitness_function(individual, data):\n",
    "    # 计算因子值\n",
    "    factor_values = eval_formula(individual, data)\n",
    "    \n",
    "    # 保留非NaN的有效索引\n",
    "    valid_idx = ~np.isnan(factor_values) & ~np.isnan(data['future_returns'])\n",
    "    \n",
    "    # 过滤出有效的因子值和未来收益\n",
    "    factor_values = factor_values[valid_idx]\n",
    "    future_returns = data['future_returns'][valid_idx]\n",
    "    \n",
    "    # 确保因子值和未来收益的长度一致\n",
    "    if len(factor_values) == 0 or len(future_returns) == 0:\n",
    "        print(\"Empty factor_values or future_returns. Skipping this individual.\")\n",
    "        return -np.inf, 0.0, 0.0  # 返回无效的适应度\n",
    "\n",
    "    # 计算RankIC\n",
    "    rank_ic = spearmanr(factor_values, future_returns)[0]\n",
    "    \n",
    "    # 计算年化收益\n",
    "    annual_return = calculate_annual_return(factor_values, future_returns)\n",
    "    \n",
    "    # 计算ICIR\n",
    "    icir = rank_ic / np.std(factor_values) if np.std(factor_values) != 0 else 0\n",
    "    \n",
    "    return rank_ic, annual_return, icir\n",
    "\n",
    "# 年化收益计算函数\n",
    "def calculate_annual_return(factor_values, future_returns):\n",
    "    if len(factor_values) == 0 or len(future_returns) == 0:\n",
    "        print(\"Empty factor_values or future_returns during annual return calculation.\")\n",
    "        return 0.0\n",
    "    \n",
    "    factor_values = np.array(factor_values)\n",
    "    future_returns = np.array(future_returns)\n",
    "    \n",
    "    long_threshold, short_threshold = 70, 30  # 初始阈值\n",
    "    max_iterations = 5  # 最大迭代次数\n",
    "    iteration = 0\n",
    "    \n",
    "    # 调整阈值，直到至少有一个多头和空头仓位，或者达到最大迭代次数\n",
    "    while iteration < max_iterations:\n",
    "        if len(factor_values) == 0:\n",
    "            print(\"Empty factor_values after percentile adjustment.\")\n",
    "            return 0.0\n",
    "        \n",
    "        long_positions = factor_values > np.percentile(factor_values, long_threshold) if len(factor_values) > 0 else []\n",
    "        short_positions = factor_values < np.percentile(factor_values, short_threshold) if len(factor_values) > 0 else []\n",
    "        \n",
    "        # 如果已经有仓位，则结束循环\n",
    "        if long_positions.sum() > 0 and short_positions.sum() > 0:\n",
    "            break\n",
    "        \n",
    "        # 动态调整阈值\n",
    "        long_threshold -= 5\n",
    "        short_threshold += 5\n",
    "        iteration += 1\n",
    "    \n",
    "    # 如果仍然没有仓位，记录警告并返回0作为年化收益\n",
    "    if long_positions.sum() == 0 or short_positions.sum() == 0:\n",
    "        print(f\"Warning: No long or short positions taken after {iteration} adjustments.\")\n",
    "        return 0.0  # 返回0避免抛出异常\n",
    "\n",
    "    # 计算组合收益率\n",
    "    portfolio_returns = (long_positions * future_returns - short_positions * future_returns).mean()\n",
    "    annual_return = portfolio_returns * 252  # 假设一年有252个交易日\n",
    "    return annual_return\n",
    "\n",
    "# 初始化遗传编程环境\n",
    "pset = gp.PrimitiveSet(\"MAIN\", len(numeric_cols))  # 使用数值型列\n",
    "pset.addPrimitive(np.add, 2)\n",
    "pset.addPrimitive(np.subtract, 2)\n",
    "pset.addPrimitive(np.multiply, 2)\n",
    "pset.addPrimitive(np.divide, 2)\n",
    "pset.addPrimitive(np.negative, 1)\n",
    "pset.addPrimitive(np.abs, 1)\n",
    "pset.addTerminal(1)\n",
    "pset.addTerminal(0)\n",
    "\n",
    "# 创建适应度和个体\n",
    "creator.create(\"FitnessMax\", base.Fitness, weights=(1.0, 1.0, 1.0))  # RankIC, Annual Return, ICIR\n",
    "creator.create(\"Individual\", gp.PrimitiveTree, fitness=creator.FitnessMax)\n",
    "\n",
    "# 工具箱设置\n",
    "toolbox = base.Toolbox()\n",
    "toolbox.register(\"expr\", gp.genHalfAndHalf, pset=pset, min_=1, max_=4)\n",
    "toolbox.register(\"individual\", tools.initIterate, creator.Individual, toolbox.expr)\n",
    "toolbox.register(\"population\", tools.initRepeat, list, toolbox.individual)\n",
    "toolbox.register(\"evaluate\", functools.partial(fitness_function, data=merged_data))\n",
    "toolbox.register(\"mate\", gp.cxOnePoint)\n",
    "toolbox.register(\"mutate\", gp.mutNodeReplacement, pset=pset)\n",
    "toolbox.register(\"select\", tools.selTournament, tournsize=3)\n",
    "toolbox.register(\"compile\", gp.compile, pset=pset)\n",
    "\n",
    "# 遗传算法\n",
    "def genetic_algorithm(data, ngen=40):\n",
    "    pop = toolbox.population(n=100)\n",
    "    hof = tools.HallOfFame(1)\n",
    "    stats = tools.Statistics(lambda ind: ind.fitness.values)\n",
    "    stats.register(\"avg\", np.mean)\n",
    "    stats.register(\"min\", np.min)\n",
    "    stats.register(\"max\", np.max)\n",
    "\n",
    "    pop, log = algorithms.eaSimple(pop, toolbox, cxpb=0.6, mutpb=0.1, ngen=ngen,\n",
    "                                   stats=stats, halloffame=hof, verbose=True)\n",
    "    return pop, hof, log\n",
    "\n",
    "# 早停机制\n",
    "def early_stopping(logbook, threshold=0.01, patience=5):\n",
    "    improvements = [entry['max'] for entry in logbook]\n",
    "    if len(improvements) < patience:\n",
    "        return False\n",
    "    return max(improvements[-patience:]) - min(improvements[-patience:]) < threshold\n",
    "\n",
    "# 运行遗传算法并应用早停机制\n",
    "for gen in range(40):\n",
    "    pop, hof, log = genetic_algorithm(merged_data)\n",
    "    if early_stopping(log):\n",
    "        print(f\"Stopped early at generation {gen}\")\n",
    "        break\n",
    "\n",
    "# 保存最优因子公式\n",
    "output_path = '/Users/zhangrui/Desktop/best_factors.txt'\n",
    "with open(output_path, 'w') as f:\n",
    "    for factor in hof:\n",
    "        f.write(str(factor) + '\\n')\n",
    "\n",
    "print(f\"Best factor formulas saved to {output_path}\")"
   ]
  },
  {
   "cell_type": "markdown",
   "metadata": {},
   "source": [
    "add(ARG11, absolute(absolute(ARG18)))\n"
   ]
  },
  {
   "cell_type": "code",
   "execution_count": 23,
   "metadata": {},
   "outputs": [
    {
     "name": "stdout",
     "output_type": "stream",
     "text": [
      "因子组合的 RankIC: 0.5541008082521987\n",
      "因子组合的年化收益率: 85.37660048972883\n",
      "因子组合的最大回撤: -223.20392425513015\n",
      "因子组合的 Sharpe Ratio: 0.929920151883608\n"
     ]
    }
   ],
   "source": [
    "import numpy as np\n",
    "import pandas as pd\n",
    "from scipy.stats import spearmanr\n",
    "\n",
    "# 根据公式生成新因子值: add(ARG11, absolute(absolute(ARG18)))\n",
    "# ARG11 对应 numeric_cols 中第 11 列，ARG18 对应第 18 列\n",
    "merged_data['new_factor'] = merged_data[numeric_cols[11]] + np.abs(np.abs(merged_data[numeric_cols[18]]))\n",
    "\n",
    "# 计算 RankIC\n",
    "rank_ic = spearmanr(merged_data['new_factor'], merged_data['future_returns'])[0]\n",
    "print(f\"因子组合的 RankIC: {rank_ic}\")\n",
    "\n",
    "# 计算年化收益率\n",
    "def calculate_annual_return(factor_values, future_returns):\n",
    "    # 设定多头和空头的阈值\n",
    "    long_threshold, short_threshold = 70, 30\n",
    "    \n",
    "    # 获取多头和空头头寸\n",
    "    long_positions = factor_values > np.percentile(factor_values, long_threshold)\n",
    "    short_positions = factor_values < np.percentile(factor_values, short_threshold)\n",
    "    \n",
    "    # 计算组合收益率：多头头寸 - 空头头寸\n",
    "    portfolio_returns = (long_positions * future_returns - short_positions * future_returns).mean()\n",
    "    \n",
    "    # 年化收益率计算\n",
    "    annual_return = portfolio_returns * 252  # 假设一年252个交易日\n",
    "    return annual_return\n",
    "\n",
    "annual_return = calculate_annual_return(merged_data['new_factor'], merged_data['future_returns'])\n",
    "print(f\"因子组合的年化收益率: {annual_return}\")\n",
    "\n",
    "# 计算最大回撤\n",
    "def calculate_max_drawdown(returns):\n",
    "    cumulative_returns = np.cumsum(returns)\n",
    "    peak = np.maximum.accumulate(cumulative_returns)\n",
    "    drawdown = (cumulative_returns - peak) / peak\n",
    "    max_drawdown = drawdown.min()\n",
    "    return max_drawdown\n",
    "\n",
    "# 计算组合的日收益率\n",
    "portfolio_returns = (merged_data['new_factor'].rank(pct=True) * merged_data['future_returns']).fillna(0)\n",
    "max_drawdown = calculate_max_drawdown(portfolio_returns)\n",
    "print(f\"因子组合的最大回撤: {max_drawdown}\")\n",
    "\n",
    "# 计算 Sharpe Ratio\n",
    "def calculate_sharpe_ratio(returns, risk_free_rate=0):\n",
    "    excess_returns = returns - risk_free_rate\n",
    "    sharpe_ratio = excess_returns.mean() / excess_returns.std() * np.sqrt(252)  # 年化Sharpe比率\n",
    "    return sharpe_ratio\n",
    "\n",
    "sharpe_ratio = calculate_sharpe_ratio(portfolio_returns)\n",
    "print(f\"因子组合的 Sharpe Ratio: {sharpe_ratio}\")"
   ]
  }
 ],
 "metadata": {
  "kernelspec": {
   "display_name": "suishi",
   "language": "python",
   "name": "python3"
  },
  "language_info": {
   "codemirror_mode": {
    "name": "ipython",
    "version": 3
   },
   "file_extension": ".py",
   "mimetype": "text/x-python",
   "name": "python",
   "nbconvert_exporter": "python",
   "pygments_lexer": "ipython3",
   "version": "3.8.19"
  }
 },
 "nbformat": 4,
 "nbformat_minor": 2
}
